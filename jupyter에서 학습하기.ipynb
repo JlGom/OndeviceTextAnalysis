{
 "cells": [
  {
   "cell_type": "code",
   "execution_count": 2,
   "id": "7b6e7c8c",
   "metadata": {},
   "outputs": [],
   "source": [
    "import matplotlib.pyplot as plt"
   ]
  },
  {
   "cell_type": "code",
   "execution_count": 3,
   "id": "479b5701",
   "metadata": {},
   "outputs": [],
   "source": [
    "import sys\n",
    "sys.path.insert(0, r'E:\\downloads\\KoBERT-master\\kobert_hf')"
   ]
  },
  {
   "cell_type": "code",
   "execution_count": 4,
   "id": "50be988e",
   "metadata": {
    "scrolled": true
   },
   "outputs": [],
   "source": [
    "from kobert_tokenizer import KoBERTTokenizer"
   ]
  },
  {
   "cell_type": "code",
   "execution_count": 5,
   "id": "86e3bb5a",
   "metadata": {},
   "outputs": [],
   "source": [
    "from transformers import BertModel"
   ]
  },
  {
   "cell_type": "code",
   "execution_count": 6,
   "id": "e3f33f81",
   "metadata": {
    "scrolled": true
   },
   "outputs": [],
   "source": [
    "from transformers import AdamW\n",
    "from transformers.optimization import get_cosine_schedule_with_warmup"
   ]
  },
  {
   "cell_type": "code",
   "execution_count": 7,
   "id": "9667671d",
   "metadata": {
    "scrolled": true
   },
   "outputs": [
    {
     "name": "stderr",
     "output_type": "stream",
     "text": [
      "E:\\anaconda3\\envs\\kibeom\\lib\\site-packages\\mxnet\\optimizer\\optimizer.py:167: UserWarning: WARNING: New optimizer gluonnlp.optimizer.lamb.LAMB is overriding existing optimizer mxnet.optimizer.optimizer.LAMB\n",
      "  Optimizer.opt_registry[name].__name__))\n"
     ]
    }
   ],
   "source": [
    "import torch\n",
    "from torch import nn\n",
    "import torch.nn.functional as F\n",
    "import torch.optim as optim\n",
    "from torch.utils.data import Dataset, DataLoader\n",
    "import gluonnlp as nlp\n",
    "import numpy as np\n",
    "from tqdm.notebook import tqdm"
   ]
  },
  {
   "cell_type": "code",
   "execution_count": 8,
   "id": "bdb0a998",
   "metadata": {},
   "outputs": [],
   "source": [
    "import pandas as pd"
   ]
  },
  {
   "cell_type": "code",
   "execution_count": 9,
   "id": "3150d5d7",
   "metadata": {
    "scrolled": true
   },
   "outputs": [
    {
     "name": "stderr",
     "output_type": "stream",
     "text": [
      "The tokenizer class you load from this checkpoint is not the same type as the class this function is called from. It may result in unexpected tokenization. \n",
      "The tokenizer class you load from this checkpoint is 'XLNetTokenizer'. \n",
      "The class this function is called from is 'KoBERTTokenizer'.\n"
     ]
    }
   ],
   "source": [
    "tokenizer = KoBERTTokenizer.from_pretrained('skt/kobert-base-v1')\n",
    "bertmodel = BertModel.from_pretrained('skt/kobert-base-v1', return_dict=False)\n",
    "vocab = nlp.vocab.BERTVocab.from_sentencepiece(tokenizer.vocab_file, padding_token='[PAD]')"
   ]
  },
  {
   "cell_type": "code",
   "execution_count": 10,
   "id": "a29667e1",
   "metadata": {},
   "outputs": [],
   "source": [
    "class BERTSentenceTransform:\n",
    "    r\"\"\"BERT style data transformation.\n",
    "\n",
    "    Parameters\n",
    "    ----------\n",
    "    tokenizer : BERTTokenizer.\n",
    "        Tokenizer for the sentences.\n",
    "    max_seq_length : int.\n",
    "        Maximum sequence length of the sentences.\n",
    "    pad : bool, default True\n",
    "        Whether to pad the sentences to maximum length.\n",
    "    pair : bool, default True\n",
    "        Whether to transform sentences or sentence pairs.\n",
    "    \"\"\"\n",
    "\n",
    "    def __init__(self, tokenizer, max_seq_length,vocab, pad=True, pair=True):\n",
    "        self._tokenizer = tokenizer\n",
    "        self._max_seq_length = max_seq_length\n",
    "        self._pad = pad\n",
    "        self._pair = pair\n",
    "        self._vocab = vocab \n",
    "\n",
    "    def __call__(self, line):\n",
    "        \"\"\"Perform transformation for sequence pairs or single sequences.\n",
    "\n",
    "        The transformation is processed in the following steps:\n",
    "        - tokenize the input sequences\n",
    "        - insert [CLS], [SEP] as necessary\n",
    "        - generate type ids to indicate whether a token belongs to the first\n",
    "        sequence or the second sequence.\n",
    "        - generate valid length\n",
    "\n",
    "        For sequence pairs, the input is a tuple of 2 strings:\n",
    "        text_a, text_b.\n",
    "\n",
    "        Inputs:\n",
    "            text_a: 'is this jacksonville ?'\n",
    "            text_b: 'no it is not'\n",
    "        Tokenization:\n",
    "            text_a: 'is this jack ##son ##ville ?'\n",
    "            text_b: 'no it is not .'\n",
    "        Processed:\n",
    "            tokens: '[CLS] is this jack ##son ##ville ? [SEP] no it is not . [SEP]'\n",
    "            type_ids: 0     0  0    0    0     0       0 0     1  1  1  1   1 1\n",
    "            valid_length: 14\n",
    "\n",
    "        For single sequences, the input is a tuple of single string:\n",
    "        text_a.\n",
    "\n",
    "        Inputs:\n",
    "            text_a: 'the dog is hairy .'\n",
    "        Tokenization:\n",
    "            text_a: 'the dog is hairy .'\n",
    "        Processed:\n",
    "            text_a: '[CLS] the dog is hairy . [SEP]'\n",
    "            type_ids: 0     0   0   0  0     0 0\n",
    "            valid_length: 7\n",
    "\n",
    "        Parameters\n",
    "        ----------\n",
    "        line: tuple of str\n",
    "            Input strings. For sequence pairs, the input is a tuple of 2 strings:\n",
    "            (text_a, text_b). For single sequences, the input is a tuple of single\n",
    "            string: (text_a,).\n",
    "\n",
    "        Returns\n",
    "        -------\n",
    "        np.array: input token ids in 'int32', shape (batch_size, seq_length)\n",
    "        np.array: valid length in 'int32', shape (batch_size,)\n",
    "        np.array: input token type ids in 'int32', shape (batch_size, seq_length)\n",
    "\n",
    "        \"\"\"\n",
    "\n",
    "        # convert to unicode\n",
    "        text_a = line[0]\n",
    "        if self._pair:\n",
    "            assert len(line) == 2\n",
    "            text_b = line[1]\n",
    "\n",
    "        tokens_a = self._tokenizer.tokenize(text_a)\n",
    "        tokens_b = None\n",
    "\n",
    "        if self._pair:\n",
    "            tokens_b = self._tokenizer(text_b)\n",
    "\n",
    "        if tokens_b:\n",
    "            # Modifies `tokens_a` and `tokens_b` in place so that the total\n",
    "            # length is less than the specified length.\n",
    "            # Account for [CLS], [SEP], [SEP] with \"- 3\"\n",
    "            self._truncate_seq_pair(tokens_a, tokens_b,\n",
    "                                    self._max_seq_length - 3)\n",
    "        else:\n",
    "            # Account for [CLS] and [SEP] with \"- 2\"\n",
    "            if len(tokens_a) > self._max_seq_length - 2:\n",
    "                tokens_a = tokens_a[0:(self._max_seq_length - 2)]\n",
    "\n",
    "        # The embedding vectors for `type=0` and `type=1` were learned during\n",
    "        # pre-training and are added to the wordpiece embedding vector\n",
    "        # (and position vector). This is not *strictly* necessary since\n",
    "        # the [SEP] token unambiguously separates the sequences, but it makes\n",
    "        # it easier for the model to learn the concept of sequences.\n",
    "\n",
    "        # For classification tasks, the first vector (corresponding to [CLS]) is\n",
    "        # used as as the \"sentence vector\". Note that this only makes sense because\n",
    "        # the entire model is fine-tuned.\n",
    "        #vocab = self._tokenizer.vocab\n",
    "        vocab = self._vocab\n",
    "        tokens = []\n",
    "        tokens.append(vocab.cls_token)\n",
    "        tokens.extend(tokens_a)\n",
    "        tokens.append(vocab.sep_token)\n",
    "        segment_ids = [0] * len(tokens)\n",
    "\n",
    "        if tokens_b:\n",
    "            tokens.extend(tokens_b)\n",
    "            tokens.append(vocab.sep_token)\n",
    "            segment_ids.extend([1] * (len(tokens) - len(segment_ids)))\n",
    "\n",
    "        input_ids = self._tokenizer.convert_tokens_to_ids(tokens)\n",
    "\n",
    "        # The valid length of sentences. Only real  tokens are attended to.\n",
    "        valid_length = len(input_ids)\n",
    "\n",
    "        if self._pad:\n",
    "            # Zero-pad up to the sequence length.\n",
    "            padding_length = self._max_seq_length - valid_length\n",
    "            # use padding tokens for the rest\n",
    "            input_ids.extend([vocab[vocab.padding_token]] * padding_length)\n",
    "            segment_ids.extend([0] * padding_length)\n",
    "\n",
    "        return np.array(input_ids, dtype='int32'), np.array(valid_length, dtype='int32'),\\\n",
    "            np.array(segment_ids, dtype='int32')"
   ]
  },
  {
   "cell_type": "code",
   "execution_count": 11,
   "id": "03a28a9e",
   "metadata": {},
   "outputs": [],
   "source": [
    "class BERTDataset(Dataset):\n",
    "    def __init__(self, dataset, sent_idx, label_idx, bert_tokenizer,vocab, max_len,\n",
    "                 pad, pair):\n",
    "        transform = BERTSentenceTransform(\n",
    "            tokenizer, max_seq_length=max_len,vocab=vocab,pad=pad, pair=pair)\n",
    "\n",
    "        self.sentences = [transform([i[sent_idx]]) for i in dataset]\n",
    "        self.labels = [np.int32(i[label_idx]) for i in dataset]\n",
    "\n",
    "    def __getitem__(self, i):\n",
    "        return (self.sentences[i] + (self.labels[i], ))\n",
    "\n",
    "    def __len__(self):\n",
    "        return (len(self.labels))\n"
   ]
  },
  {
   "cell_type": "code",
   "execution_count": 12,
   "id": "ce8293e7",
   "metadata": {},
   "outputs": [],
   "source": [
    "## Setting parameters\n",
    "max_len = 64\n",
    "batch_size = 70\n",
    "warmup_ratio = 0.1\n",
    "num_epochs = 200\n",
    "max_grad_norm = 1\n",
    "log_interval = 200\n",
    "learning_rate =  5e-5"
   ]
  },
  {
   "cell_type": "code",
   "execution_count": 13,
   "id": "6fdfc47c",
   "metadata": {},
   "outputs": [],
   "source": [
    "data_xlsx = pd.read_excel(r'E:\\downloads\\KoBERT-master\\Training.xlsx', engine='openpyxl')\n",
    "data_xlsx_2 = pd.read_excel(r'E:\\downloads\\KoBERT-master\\Validation.xlsx', engine='openpyxl')"
   ]
  },
  {
   "cell_type": "code",
   "execution_count": 14,
   "id": "90ed2d98",
   "metadata": {},
   "outputs": [],
   "source": [
    "data_xlsx.loc[(data_xlsx['감정_대분류'] == \"분노\"), '감정_대분류'] = 0\n",
    "data_xlsx.loc[(data_xlsx['감정_대분류'] == \"기쁨\"), '감정_대분류'] = 1\n",
    "data_xlsx.loc[(data_xlsx['감정_대분류'] == \"불안\"), '감정_대분류'] = 2\n",
    "data_xlsx.loc[(data_xlsx['감정_대분류'] == \"당황\"), '감정_대분류'] = 3\n",
    "data_xlsx.loc[(data_xlsx['감정_대분류'] == \"슬픔\"), '감정_대분류'] = 4\n",
    "data_xlsx.loc[(data_xlsx['감정_대분류'] == \"상처\"), '감정_대분류'] = 5"
   ]
  },
  {
   "cell_type": "code",
   "execution_count": 15,
   "id": "4c64da0a",
   "metadata": {},
   "outputs": [],
   "source": [
    "data_xlsx_2.loc[(data_xlsx_2['감정_대분류'] == \"분노\"), '감정_대분류'] = 0\n",
    "data_xlsx_2.loc[(data_xlsx_2['감정_대분류'] == \"기쁨\"), '감정_대분류'] = 1\n",
    "data_xlsx_2.loc[(data_xlsx_2['감정_대분류'] == \"불안\"), '감정_대분류'] = 2\n",
    "data_xlsx_2.loc[(data_xlsx_2['감정_대분류'] == \"당황\"), '감정_대분류'] = 3\n",
    "data_xlsx_2.loc[(data_xlsx_2['감정_대분류'] == \"슬픔\"), '감정_대분류'] = 4\n",
    "data_xlsx_2.loc[(data_xlsx_2['감정_대분류'] == \"상처\"), '감정_대분류'] = 5"
   ]
  },
  {
   "cell_type": "code",
   "execution_count": 16,
   "id": "8f4c677c",
   "metadata": {},
   "outputs": [],
   "source": [
    "data_list = []\n",
    "for ques, label in zip(data_xlsx['사람문장1'], data_xlsx['감정_대분류']):\n",
    "  data=[]\n",
    "  data.append(ques)\n",
    "  data.append(str(label))\n",
    "\n",
    "  data_list.append(data)"
   ]
  },
  {
   "cell_type": "code",
   "execution_count": 17,
   "id": "e8a9ec93",
   "metadata": {},
   "outputs": [],
   "source": [
    "data_list_2 = []\n",
    "for ques_2, label_2 in zip(data_xlsx_2['사람문장1'], data_xlsx_2['감정_대분류']):\n",
    "  data_2=[]\n",
    "  data_2.append(ques_2)\n",
    "  data_2.append(str(label_2))\n",
    "\n",
    "  data_list_2.append(data_2)"
   ]
  },
  {
   "cell_type": "code",
   "execution_count": 18,
   "id": "b6a50005",
   "metadata": {},
   "outputs": [],
   "source": [
    "dataset_train = data_list\n",
    "dataset_test = data_list_2"
   ]
  },
  {
   "cell_type": "code",
   "execution_count": 19,
   "id": "71a5c2a5",
   "metadata": {},
   "outputs": [],
   "source": [
    "data_train = BERTDataset(dataset_train, 0, 1, tokenizer,vocab, max_len, True, False)\n",
    "data_test = BERTDataset(dataset_test, 0, 1, tokenizer, vocab, max_len, True, False)"
   ]
  },
  {
   "cell_type": "code",
   "execution_count": 20,
   "id": "21617d5c",
   "metadata": {},
   "outputs": [],
   "source": [
    "train_dataloader = torch.utils.data.DataLoader(data_train, batch_size=batch_size, num_workers=0)\n",
    "test_dataloader = torch.utils.data.DataLoader(data_test, batch_size=batch_size, num_workers=0)"
   ]
  },
  {
   "cell_type": "code",
   "execution_count": 21,
   "id": "0244b801",
   "metadata": {},
   "outputs": [],
   "source": [
    "class BERTClassifier(nn.Module):\n",
    "    def __init__(self,\n",
    "                 bert,\n",
    "                 hidden_size = 768,\n",
    "                 num_classes=6,\n",
    "                 dr_rate=None,\n",
    "                 params=None):\n",
    "        super(BERTClassifier, self).__init__()\n",
    "        self.bert = bert\n",
    "        self.dr_rate = dr_rate\n",
    "                 \n",
    "        self.classifier = nn.Linear(hidden_size , num_classes)\n",
    "        if dr_rate:\n",
    "            self.dropout = nn.Dropout(p=dr_rate)\n",
    "    \n",
    "    def gen_attention_mask(self, token_ids, valid_length):\n",
    "        attention_mask = torch.zeros_like(token_ids)\n",
    "        for i, v in enumerate(valid_length):\n",
    "            attention_mask[i][:v] = 1\n",
    "        return attention_mask.float()\n",
    "\n",
    "    def forward(self, token_ids, valid_length, segment_ids):\n",
    "        attention_mask = self.gen_attention_mask(token_ids, valid_length)\n",
    "        \n",
    "        _, pooler = self.bert(input_ids = token_ids, token_type_ids = segment_ids.long(), attention_mask = attention_mask.float().to(token_ids.device))\n",
    "        if self.dr_rate:\n",
    "            out = self.dropout(pooler)\n",
    "        else:\n",
    "            out = pooler\n",
    "        return self.classifier(out)"
   ]
  },
  {
   "cell_type": "code",
   "execution_count": 21,
   "id": "8edaceab",
   "metadata": {},
   "outputs": [],
   "source": [
    "device = torch.device('cuda:0')"
   ]
  },
  {
   "cell_type": "code",
   "execution_count": 22,
   "id": "1a3b1ddb",
   "metadata": {},
   "outputs": [],
   "source": [
    "model = BERTClassifier(bertmodel, dr_rate=0.5).to(device)"
   ]
  },
  {
   "cell_type": "code",
   "execution_count": 23,
   "id": "51b5712e",
   "metadata": {},
   "outputs": [],
   "source": [
    "# Prepare optimizer and schedule (linear warmup and decay)\n",
    "no_decay = ['bias', 'LayerNorm.weight']\n",
    "optimizer_grouped_parameters = [\n",
    "    {'params': [p for n, p in model.named_parameters() if not any(nd in n for nd in no_decay)], 'weight_decay': 0.01},\n",
    "    {'params': [p for n, p in model.named_parameters() if any(nd in n for nd in no_decay)], 'weight_decay': 0.0}\n",
    "]"
   ]
  },
  {
   "cell_type": "code",
   "execution_count": 26,
   "id": "e0522131",
   "metadata": {
    "scrolled": true
   },
   "outputs": [],
   "source": [
    "optimizer = AdamW(optimizer_grouped_parameters, lr=learning_rate)\n",
    "loss_fn = nn.CrossEntropyLoss()"
   ]
  },
  {
   "cell_type": "code",
   "execution_count": 27,
   "id": "0fb2914c",
   "metadata": {},
   "outputs": [],
   "source": [
    "optimizer = torch.optim.AdamW(optimizer_grouped_parameters, lr=learning_rate)\n",
    "loss_fn = nn.CrossEntropyLoss()"
   ]
  },
  {
   "cell_type": "code",
   "execution_count": 28,
   "id": "25b4bda9",
   "metadata": {},
   "outputs": [],
   "source": [
    "t_total = len(train_dataloader) * num_epochs\n",
    "warmup_step = int(t_total * warmup_ratio)"
   ]
  },
  {
   "cell_type": "code",
   "execution_count": 29,
   "id": "0ea9577e",
   "metadata": {},
   "outputs": [],
   "source": [
    "scheduler = get_cosine_schedule_with_warmup(optimizer, num_warmup_steps=warmup_step, num_training_steps=t_total)"
   ]
  },
  {
   "cell_type": "code",
   "execution_count": 30,
   "id": "7994b91c",
   "metadata": {},
   "outputs": [],
   "source": [
    "def calc_accuracy(X,Y):\n",
    "    max_vals, max_indices = torch.max(X, 1)\n",
    "    train_acc = (max_indices == Y).sum().data.cpu().numpy()/max_indices.size()[0]\n",
    "    return train_acc"
   ]
  },
  {
   "cell_type": "code",
   "execution_count": 31,
   "id": "d118d35c",
   "metadata": {},
   "outputs": [],
   "source": [
    "train_acc_values = []  # List to store train accuracies\n",
    "test_acc_values = []  # List to store test accuracies"
   ]
  },
  {
   "cell_type": "code",
   "execution_count": null,
   "id": "ef4bf4de",
   "metadata": {
    "scrolled": true
   },
   "outputs": [],
   "source": [
    "tokenizer.encode(\"한국어 모델을 공유합니다.\")"
   ]
  },
  {
   "cell_type": "code",
   "execution_count": null,
   "id": "758f08f3",
   "metadata": {
    "scrolled": false
   },
   "outputs": [],
   "source": [
    "tokenizer.encode(\"한국어 모델을 공유합니다. 공유 다 했으면 꺼져.\")"
   ]
  },
  {
   "cell_type": "code",
   "execution_count": 42,
   "id": "f80adc51",
   "metadata": {
    "scrolled": true
   },
   "outputs": [
    {
     "data": {
      "text/plain": [
       "['▁이번', '▁경', '시', '대회', '에서', '▁금', '상을', '▁타', '서', '▁기', '뻐', '.']"
      ]
     },
     "execution_count": 42,
     "metadata": {},
     "output_type": "execute_result"
    }
   ],
   "source": [
    "tokenizer.tokenize(\"이번 경시대회에서 금상을 타서 기뻐.\")"
   ]
  },
  {
   "cell_type": "code",
   "execution_count": 41,
   "id": "db4a4f33",
   "metadata": {},
   "outputs": [
    {
     "data": {
      "text/plain": [
       "[2, 3697, 953, 6705, 5829, 6903, 1235, 6531, 4698, 6553, 1258, 6471, 54, 3]"
      ]
     },
     "execution_count": 41,
     "metadata": {},
     "output_type": "execute_result"
    }
   ],
   "source": [
    "tokenizer.encode(\"이번 경시대회에서 금상을 타서 기뻐.\")"
   ]
  },
  {
   "cell_type": "code",
   "execution_count": 43,
   "id": "f9f466a7",
   "metadata": {},
   "outputs": [
    {
     "data": {
      "text/plain": [
       "['▁한국', '어', '▁모델', '을', '▁공유', '합니다', '.']"
      ]
     },
     "execution_count": 43,
     "metadata": {},
     "output_type": "execute_result"
    }
   ],
   "source": [
    "tokenizer.tokenize(\"한국어 모델을 공유합니다.\")"
   ]
  },
  {
   "cell_type": "code",
   "execution_count": 51,
   "id": "8f5e1420",
   "metadata": {},
   "outputs": [
    {
     "data": {
      "text/plain": [
       "{'input_ids': [2, 3395, 7354, 1351, 6643, 7096, 5702, 2860, 7148, 1351, 6643, 7096, 6116, 4244, 7096, 5439, 517, 7226, 5340, 6079, 1607, 5349, 5439, 4924, 5702, 54, 1204, 4420, 7848, 2389, 3121, 5330, 517, 5486, 7123, 5859, 2049, 5439, 2266, 7108, 2207, 7395, 7108, 1562, 4461, 7306, 5760, 921, 1458, 517, 5646, 7384, 7782, 5496, 54, 3], 'token_type_ids': [0, 0, 0, 0, 0, 0, 0, 0, 0, 0, 0, 0, 0, 0, 0, 0, 0, 0, 0, 0, 0, 0, 0, 0, 0, 0, 0, 0, 0, 0, 0, 0, 0, 0, 0, 0, 0, 0, 0, 0, 0, 0, 0, 0, 0, 0, 0, 0, 0, 0, 0, 0, 0, 0, 0, 0], 'attention_mask': [1, 1, 1, 1, 1, 1, 1, 1, 1, 1, 1, 1, 1, 1, 1, 1, 1, 1, 1, 1, 1, 1, 1, 1, 1, 1, 1, 1, 1, 1, 1, 1, 1, 1, 1, 1, 1, 1, 1, 1, 1, 1, 1, 1, 1, 1, 1, 1, 1, 1, 1, 1, 1, 1, 1, 1]}"
      ]
     },
     "execution_count": 51,
     "metadata": {},
     "output_type": "execute_result"
    }
   ],
   "source": [
    "tokenizer(\"옆집 꽃순이네 손자가 꽃순이를 죽이고 젓갈로 담갔다고 하네. 그렇게 착해 보이는 아이가 괴물인지도 모르고 밥이며 반찬이며 다 챙겨줬다는 게 너무 끔찍하구나.\")"
   ]
  },
  {
   "cell_type": "code",
   "execution_count": 49,
   "id": "f044858d",
   "metadata": {
    "scrolled": true
   },
   "outputs": [
    {
     "data": {
      "text/plain": [
       "['옆집 꽃순이네 손자가 꽃순이를 죽이고 젓갈로 담갔다고 하네. 그렇게 착해 보이는 아이가 괴물인지도 모르고 밥이며 반찬이며 다 챙겨줬다는 게 너무 끔찍하구나.',\n",
       " '0']"
      ]
     },
     "execution_count": 49,
     "metadata": {},
     "output_type": "execute_result"
    }
   ],
   "source": [
    "dataset_train[29728]"
   ]
  },
  {
   "cell_type": "code",
   "execution_count": 50,
   "id": "9387ea47",
   "metadata": {
    "scrolled": true
   },
   "outputs": [
    {
     "data": {
      "text/plain": [
       "(array([   2, 3395, 7354, 1351, 6643, 7096, 5702, 2860, 7148, 1351, 6643,\n",
       "        7096, 6116, 4244, 7096, 5439,  517, 7226, 5340, 6079, 1607, 5349,\n",
       "        5439, 4924, 5702,   54, 1204, 4420, 7848, 2389, 3121, 5330,  517,\n",
       "        5486, 7123, 5859, 2049, 5439, 2266, 7108, 2207, 7395, 7108, 1562,\n",
       "        4461, 7306, 5760,  921, 1458,  517, 5646, 7384, 7782, 5496,   54,\n",
       "           3,    1,    1,    1,    1,    1,    1,    1,    1]),\n",
       " array(56),\n",
       " array([0, 0, 0, 0, 0, 0, 0, 0, 0, 0, 0, 0, 0, 0, 0, 0, 0, 0, 0, 0, 0, 0,\n",
       "        0, 0, 0, 0, 0, 0, 0, 0, 0, 0, 0, 0, 0, 0, 0, 0, 0, 0, 0, 0, 0, 0,\n",
       "        0, 0, 0, 0, 0, 0, 0, 0, 0, 0, 0, 0, 0, 0, 0, 0, 0, 0, 0, 0]),\n",
       " 0)"
      ]
     },
     "execution_count": 50,
     "metadata": {},
     "output_type": "execute_result"
    }
   ],
   "source": [
    "data_train[29728]"
   ]
  },
  {
   "cell_type": "code",
   "execution_count": null,
   "id": "3ade6097",
   "metadata": {},
   "outputs": [],
   "source": [
    "train_dataloader"
   ]
  },
  {
   "cell_type": "code",
   "execution_count": 32,
   "id": "9a72552e",
   "metadata": {
    "scrolled": true
   },
   "outputs": [
    {
     "data": {
      "application/vnd.jupyter.widget-view+json": {
       "model_id": "f5a0ac0d127b421bab76f0791620087a",
       "version_major": 2,
       "version_minor": 0
      },
      "text/plain": [
       "  0%|          | 0/738 [00:00<?, ?it/s]"
      ]
     },
     "metadata": {},
     "output_type": "display_data"
    },
    {
     "name": "stdout",
     "output_type": "stream",
     "text": [
      "epoch 1 batch id 1 loss 1.9127637147903442 train acc 0.12857142857142856\n",
      "epoch 1 batch id 201 loss 1.8011071681976318 train acc 0.1649609097370292\n",
      "epoch 1 batch id 401 loss 1.8208621740341187 train acc 0.17192732454577847\n",
      "epoch 1 batch id 601 loss 1.6979079246520996 train acc 0.18488233895887837\n",
      "epoch 1 train acc 0.1980255516840886\n"
     ]
    },
    {
     "data": {
      "application/vnd.jupyter.widget-view+json": {
       "model_id": "06df92137ead447d98fb70c3b59325df",
       "version_major": 2,
       "version_minor": 0
      },
      "text/plain": [
       "  0%|          | 0/95 [00:00<?, ?it/s]"
      ]
     },
     "metadata": {},
     "output_type": "display_data"
    },
    {
     "name": "stdout",
     "output_type": "stream",
     "text": [
      "epoch 1 test acc 0.2767015900406755\n"
     ]
    },
    {
     "data": {
      "application/vnd.jupyter.widget-view+json": {
       "model_id": "aab75fd91bf04beea4e97b21700ac748",
       "version_major": 2,
       "version_minor": 0
      },
      "text/plain": [
       "  0%|          | 0/738 [00:00<?, ?it/s]"
      ]
     },
     "metadata": {},
     "output_type": "display_data"
    },
    {
     "name": "stdout",
     "output_type": "stream",
     "text": [
      "epoch 2 batch id 1 loss 1.899937391281128 train acc 0.21428571428571427\n",
      "epoch 2 batch id 201 loss 1.6048458814620972 train acc 0.36624022743425716\n",
      "epoch 2 batch id 401 loss 1.8005039691925049 train acc 0.4397221232632703\n",
      "epoch 2 batch id 601 loss 1.4012559652328491 train acc 0.4441407178512003\n",
      "epoch 2 train acc 0.44964672861014293\n"
     ]
    },
    {
     "data": {
      "application/vnd.jupyter.widget-view+json": {
       "model_id": "1dc672686cd84e03b1e3fc4c97bae386",
       "version_major": 2,
       "version_minor": 0
      },
      "text/plain": [
       "  0%|          | 0/95 [00:00<?, ?it/s]"
      ]
     },
     "metadata": {},
     "output_type": "display_data"
    },
    {
     "name": "stdout",
     "output_type": "stream",
     "text": [
      "epoch 2 test acc 0.4432836188832734\n"
     ]
    },
    {
     "data": {
      "application/vnd.jupyter.widget-view+json": {
       "model_id": "9e09c2cbfae84a6aabe8eb4d1db8fde0",
       "version_major": 2,
       "version_minor": 0
      },
      "text/plain": [
       "  0%|          | 0/738 [00:00<?, ?it/s]"
      ]
     },
     "metadata": {},
     "output_type": "display_data"
    },
    {
     "name": "stdout",
     "output_type": "stream",
     "text": [
      "epoch 3 batch id 1 loss 1.4584871530532837 train acc 0.5142857142857142\n",
      "epoch 3 batch id 201 loss 1.4919580221176147 train acc 0.5321961620469082\n",
      "epoch 3 batch id 401 loss 1.8017350435256958 train acc 0.569255432846455\n",
      "epoch 3 batch id 601 loss 1.0941314697265625 train acc 0.549869265509864\n",
      "epoch 3 train acc 0.5472319008904372\n"
     ]
    },
    {
     "data": {
      "application/vnd.jupyter.widget-view+json": {
       "model_id": "4c515044024f4d8cbbc8e401188c995a",
       "version_major": 2,
       "version_minor": 0
      },
      "text/plain": [
       "  0%|          | 0/95 [00:00<?, ?it/s]"
      ]
     },
     "metadata": {},
     "output_type": "display_data"
    },
    {
     "name": "stdout",
     "output_type": "stream",
     "text": [
      "epoch 3 test acc 0.4161715764821888\n"
     ]
    },
    {
     "data": {
      "application/vnd.jupyter.widget-view+json": {
       "model_id": "f70595e865aa472fa316b3bc27bc3f3f",
       "version_major": 2,
       "version_minor": 0
      },
      "text/plain": [
       "  0%|          | 0/738 [00:00<?, ?it/s]"
      ]
     },
     "metadata": {},
     "output_type": "display_data"
    },
    {
     "name": "stdout",
     "output_type": "stream",
     "text": [
      "epoch 4 batch id 1 loss 1.4889663457870483 train acc 0.5285714285714286\n",
      "epoch 4 batch id 201 loss 1.318217158317566 train acc 0.577825159914712\n",
      "epoch 4 batch id 401 loss 1.8130691051483154 train acc 0.6036693979337369\n",
      "epoch 4 batch id 601 loss 0.9534387588500977 train acc 0.5839790824815784\n",
      "epoch 4 train acc 0.5810491676345336\n"
     ]
    },
    {
     "data": {
      "application/vnd.jupyter.widget-view+json": {
       "model_id": "98293c5efa5946eeb3fef83b80203655",
       "version_major": 2,
       "version_minor": 0
      },
      "text/plain": [
       "  0%|          | 0/95 [00:00<?, ?it/s]"
      ]
     },
     "metadata": {},
     "output_type": "display_data"
    },
    {
     "name": "stdout",
     "output_type": "stream",
     "text": [
      "epoch 4 test acc 0.4081129052138542\n"
     ]
    },
    {
     "data": {
      "application/vnd.jupyter.widget-view+json": {
       "model_id": "dee5d71cf53243309449de790f6d0cb0",
       "version_major": 2,
       "version_minor": 0
      },
      "text/plain": [
       "  0%|          | 0/738 [00:00<?, ?it/s]"
      ]
     },
     "metadata": {},
     "output_type": "display_data"
    },
    {
     "name": "stdout",
     "output_type": "stream",
     "text": [
      "epoch 5 batch id 1 loss 1.5507113933563232 train acc 0.5\n",
      "epoch 5 batch id 201 loss 1.3772311210632324 train acc 0.60362473347548\n",
      "epoch 5 batch id 401 loss 1.7614549398422241 train acc 0.6249376558603492\n",
      "epoch 5 batch id 601 loss 0.9606236219406128 train acc 0.6044925124792019\n",
      "epoch 5 train acc 0.601006581494387\n"
     ]
    },
    {
     "data": {
      "application/vnd.jupyter.widget-view+json": {
       "model_id": "0f4c7949dec347bca539771c714a65dc",
       "version_major": 2,
       "version_minor": 0
      },
      "text/plain": [
       "  0%|          | 0/95 [00:00<?, ?it/s]"
      ]
     },
     "metadata": {},
     "output_type": "display_data"
    },
    {
     "name": "stdout",
     "output_type": "stream",
     "text": [
      "epoch 5 test acc 0.3923850610131885\n"
     ]
    },
    {
     "data": {
      "application/vnd.jupyter.widget-view+json": {
       "model_id": "4eaa1fa4519d4c1bbea91eb90e55a5d5",
       "version_major": 2,
       "version_minor": 0
      },
      "text/plain": [
       "  0%|          | 0/738 [00:00<?, ?it/s]"
      ]
     },
     "metadata": {},
     "output_type": "display_data"
    },
    {
     "name": "stdout",
     "output_type": "stream",
     "text": [
      "epoch 6 batch id 1 loss 1.549788475036621 train acc 0.5285714285714286\n",
      "epoch 6 batch id 201 loss 1.2560369968414307 train acc 0.6189054726368163\n",
      "epoch 6 batch id 401 loss 1.7583945989608765 train acc 0.6379764873530465\n",
      "epoch 6 batch id 601 loss 0.8722973465919495 train acc 0.620370810553839\n",
      "epoch 6 train acc 0.6181765389082466\n"
     ]
    },
    {
     "data": {
      "application/vnd.jupyter.widget-view+json": {
       "model_id": "877f6039a0fb4375833f9aeb2739449f",
       "version_major": 2,
       "version_minor": 0
      },
      "text/plain": [
       "  0%|          | 0/95 [00:00<?, ?it/s]"
      ]
     },
     "metadata": {},
     "output_type": "display_data"
    },
    {
     "name": "stdout",
     "output_type": "stream",
     "text": [
      "epoch 6 test acc 0.41634413903611467\n"
     ]
    },
    {
     "data": {
      "application/vnd.jupyter.widget-view+json": {
       "model_id": "5e45048751944b8e8f47b0c974a34707",
       "version_major": 2,
       "version_minor": 0
      },
      "text/plain": [
       "  0%|          | 0/738 [00:00<?, ?it/s]"
      ]
     },
     "metadata": {},
     "output_type": "display_data"
    },
    {
     "name": "stdout",
     "output_type": "stream",
     "text": [
      "epoch 7 batch id 1 loss 1.4876511096954346 train acc 0.5714285714285714\n",
      "epoch 7 batch id 201 loss 1.2116801738739014 train acc 0.6476901208244498\n",
      "epoch 7 batch id 401 loss 1.594383955001831 train acc 0.6619166369789813\n",
      "epoch 7 batch id 601 loss 0.7344399094581604 train acc 0.6472308057998566\n",
      "epoch 7 train acc 0.6460656213704992\n"
     ]
    },
    {
     "data": {
      "application/vnd.jupyter.widget-view+json": {
       "model_id": "1afafdb83e5148ecae930feeea7d6cb6",
       "version_major": 2,
       "version_minor": 0
      },
      "text/plain": [
       "  0%|          | 0/95 [00:00<?, ?it/s]"
      ]
     },
     "metadata": {},
     "output_type": "display_data"
    },
    {
     "name": "stdout",
     "output_type": "stream",
     "text": [
      "epoch 7 test acc 0.4132700603968937\n"
     ]
    },
    {
     "data": {
      "application/vnd.jupyter.widget-view+json": {
       "model_id": "e2cc17e6b4af47ecb5ef0983fa2134ee",
       "version_major": 2,
       "version_minor": 0
      },
      "text/plain": [
       "  0%|          | 0/738 [00:00<?, ?it/s]"
      ]
     },
     "metadata": {},
     "output_type": "display_data"
    },
    {
     "name": "stdout",
     "output_type": "stream",
     "text": [
      "epoch 8 batch id 1 loss 1.2662386894226074 train acc 0.6714285714285714\n",
      "epoch 8 batch id 201 loss 1.186489462852478 train acc 0.6767590618336891\n",
      "epoch 8 batch id 401 loss 1.5459626913070679 train acc 0.6890630566441038\n",
      "epoch 8 batch id 601 loss 0.6702801585197449 train acc 0.6773710482529118\n",
      "epoch 8 train acc 0.6783826945412317\n"
     ]
    },
    {
     "data": {
      "application/vnd.jupyter.widget-view+json": {
       "model_id": "634c5fde152e4609be4fd77d60b158e3",
       "version_major": 2,
       "version_minor": 0
      },
      "text/plain": [
       "  0%|          | 0/95 [00:00<?, ?it/s]"
      ]
     },
     "metadata": {},
     "output_type": "display_data"
    },
    {
     "name": "stdout",
     "output_type": "stream",
     "text": [
      "epoch 8 test acc 0.4238851226426721\n"
     ]
    },
    {
     "data": {
      "application/vnd.jupyter.widget-view+json": {
       "model_id": "f4d3e4624b2e4f3bb8c3b9278c63ed5a",
       "version_major": 2,
       "version_minor": 0
      },
      "text/plain": [
       "  0%|          | 0/738 [00:00<?, ?it/s]"
      ]
     },
     "metadata": {},
     "output_type": "display_data"
    },
    {
     "name": "stdout",
     "output_type": "stream",
     "text": [
      "epoch 9 batch id 1 loss 1.1990702152252197 train acc 0.6142857142857143\n",
      "epoch 9 batch id 201 loss 1.1023114919662476 train acc 0.7093105899076052\n",
      "epoch 9 batch id 401 loss 1.5023447275161743 train acc 0.7188813680085504\n",
      "epoch 9 batch id 601 loss 0.5665864944458008 train acc 0.7124554314238172\n",
      "epoch 9 train acc 0.7138840495547815\n"
     ]
    },
    {
     "data": {
      "application/vnd.jupyter.widget-view+json": {
       "model_id": "839f36ed3f3f4328b8c8c9900b1a55b9",
       "version_major": 2,
       "version_minor": 0
      },
      "text/plain": [
       "  0%|          | 0/95 [00:00<?, ?it/s]"
      ]
     },
     "metadata": {},
     "output_type": "display_data"
    },
    {
     "name": "stdout",
     "output_type": "stream",
     "text": [
      "epoch 9 test acc 0.42484900776531487\n"
     ]
    },
    {
     "data": {
      "application/vnd.jupyter.widget-view+json": {
       "model_id": "9090fa8203974fbf95d0452bc15cf077",
       "version_major": 2,
       "version_minor": 0
      },
      "text/plain": [
       "  0%|          | 0/738 [00:00<?, ?it/s]"
      ]
     },
     "metadata": {},
     "output_type": "display_data"
    },
    {
     "name": "stdout",
     "output_type": "stream",
     "text": [
      "epoch 10 batch id 1 loss 1.0460532903671265 train acc 0.7142857142857143\n",
      "epoch 10 batch id 201 loss 1.1204452514648438 train acc 0.7462686567164181\n",
      "epoch 10 batch id 401 loss 1.3244621753692627 train acc 0.7519059494121826\n",
      "epoch 10 batch id 601 loss 0.4878605008125305 train acc 0.7496315664368899\n",
      "epoch 10 train acc 0.7500919473480449\n"
     ]
    },
    {
     "data": {
      "application/vnd.jupyter.widget-view+json": {
       "model_id": "559974b56a6a48af8e6acc9484f9e2a7",
       "version_major": 2,
       "version_minor": 0
      },
      "text/plain": [
       "  0%|          | 0/95 [00:00<?, ?it/s]"
      ]
     },
     "metadata": {},
     "output_type": "display_data"
    },
    {
     "name": "stdout",
     "output_type": "stream",
     "text": [
      "epoch 10 test acc 0.45851596203623807\n"
     ]
    },
    {
     "data": {
      "application/vnd.jupyter.widget-view+json": {
       "model_id": "936f06e682454569a29865e394e49117",
       "version_major": 2,
       "version_minor": 0
      },
      "text/plain": [
       "  0%|          | 0/738 [00:00<?, ?it/s]"
      ]
     },
     "metadata": {},
     "output_type": "display_data"
    },
    {
     "name": "stdout",
     "output_type": "stream",
     "text": [
      "epoch 11 batch id 1 loss 0.8532289266586304 train acc 0.7857142857142857\n",
      "epoch 11 batch id 201 loss 1.018858551979065 train acc 0.7750533049040507\n",
      "epoch 11 batch id 401 loss 1.2558903694152832 train acc 0.7796579978624867\n",
      "epoch 11 batch id 601 loss 0.3449501097202301 train acc 0.7808652246256245\n",
      "epoch 11 train acc 0.7842770034843212\n"
     ]
    },
    {
     "data": {
      "application/vnd.jupyter.widget-view+json": {
       "model_id": "12fcead19fa04c3c8c9f91909147db05",
       "version_major": 2,
       "version_minor": 0
      },
      "text/plain": [
       "  0%|          | 0/95 [00:00<?, ?it/s]"
      ]
     },
     "metadata": {},
     "output_type": "display_data"
    },
    {
     "name": "stdout",
     "output_type": "stream",
     "text": [
      "epoch 11 test acc 0.42493775422161956\n"
     ]
    },
    {
     "data": {
      "application/vnd.jupyter.widget-view+json": {
       "model_id": "e5ff9f0913254769a13f4c4c68c88ed2",
       "version_major": 2,
       "version_minor": 0
      },
      "text/plain": [
       "  0%|          | 0/738 [00:00<?, ?it/s]"
      ]
     },
     "metadata": {},
     "output_type": "display_data"
    },
    {
     "name": "stdout",
     "output_type": "stream",
     "text": [
      "epoch 12 batch id 1 loss 0.8632891774177551 train acc 0.7571428571428571\n",
      "epoch 12 batch id 201 loss 0.852280855178833 train acc 0.8048329779673064\n",
      "epoch 12 batch id 401 loss 1.2210241556167603 train acc 0.8101531884574276\n",
      "epoch 12 batch id 601 loss 0.3724963366985321 train acc 0.8104349893035406\n",
      "epoch 12 train acc 0.8116918312040257\n"
     ]
    },
    {
     "data": {
      "application/vnd.jupyter.widget-view+json": {
       "model_id": "e807f41e0469467ea08759aac9930bf4",
       "version_major": 2,
       "version_minor": 0
      },
      "text/plain": [
       "  0%|          | 0/95 [00:00<?, ?it/s]"
      ]
     },
     "metadata": {},
     "output_type": "display_data"
    },
    {
     "name": "stdout",
     "output_type": "stream",
     "text": [
      "epoch 12 test acc 0.42970541106865523\n"
     ]
    },
    {
     "data": {
      "application/vnd.jupyter.widget-view+json": {
       "model_id": "ebab0939db994e069ddf0e2abbff564b",
       "version_major": 2,
       "version_minor": 0
      },
      "text/plain": [
       "  0%|          | 0/738 [00:00<?, ?it/s]"
      ]
     },
     "metadata": {},
     "output_type": "display_data"
    },
    {
     "name": "stdout",
     "output_type": "stream",
     "text": [
      "epoch 13 batch id 1 loss 0.7927624583244324 train acc 0.7714285714285715\n",
      "epoch 13 batch id 201 loss 0.7031201124191284 train acc 0.8283582089552237\n",
      "epoch 13 batch id 401 loss 0.9600903391838074 train acc 0.8335233345208392\n",
      "epoch 13 batch id 601 loss 0.5049821138381958 train acc 0.8334680294746833\n",
      "epoch 13 train acc 0.8337591947348039\n"
     ]
    },
    {
     "data": {
      "application/vnd.jupyter.widget-view+json": {
       "model_id": "e0addbc0112f4651891db00e385e0418",
       "version_major": 2,
       "version_minor": 0
      },
      "text/plain": [
       "  0%|          | 0/95 [00:00<?, ?it/s]"
      ]
     },
     "metadata": {},
     "output_type": "display_data"
    },
    {
     "name": "stdout",
     "output_type": "stream",
     "text": [
      "epoch 13 test acc 0.45610501663996034\n"
     ]
    },
    {
     "data": {
      "application/vnd.jupyter.widget-view+json": {
       "model_id": "20dee9ca49c444bf861c1c737d03cc53",
       "version_major": 2,
       "version_minor": 0
      },
      "text/plain": [
       "  0%|          | 0/738 [00:00<?, ?it/s]"
      ]
     },
     "metadata": {},
     "output_type": "display_data"
    },
    {
     "name": "stdout",
     "output_type": "stream",
     "text": [
      "epoch 14 batch id 1 loss 0.6038236618041992 train acc 0.8714285714285714\n",
      "epoch 14 batch id 201 loss 0.5231122970581055 train acc 0.8488983653162755\n",
      "epoch 14 batch id 401 loss 0.9699662327766418 train acc 0.8538653366583532\n",
      "epoch 14 batch id 601 loss 0.2370477169752121 train acc 0.8537437603993335\n",
      "epoch 14 train acc 0.8522599690282616\n"
     ]
    },
    {
     "data": {
      "application/vnd.jupyter.widget-view+json": {
       "model_id": "9f1e07cebaea4e99ade962e294dd0647",
       "version_major": 2,
       "version_minor": 0
      },
      "text/plain": [
       "  0%|          | 0/95 [00:00<?, ?it/s]"
      ]
     },
     "metadata": {},
     "output_type": "display_data"
    },
    {
     "name": "stdout",
     "output_type": "stream",
     "text": [
      "epoch 14 test acc 0.4271712067052876\n"
     ]
    },
    {
     "data": {
      "application/vnd.jupyter.widget-view+json": {
       "model_id": "e336fe82d2ec4cd5bf2adc4c84fa0b72",
       "version_major": 2,
       "version_minor": 0
      },
      "text/plain": [
       "  0%|          | 0/738 [00:00<?, ?it/s]"
      ]
     },
     "metadata": {},
     "output_type": "display_data"
    },
    {
     "name": "stdout",
     "output_type": "stream",
     "text": [
      "epoch 15 batch id 1 loss 0.47433847188949585 train acc 0.8571428571428571\n",
      "epoch 15 batch id 201 loss 0.549954891204834 train acc 0.8655294953802406\n",
      "epoch 15 batch id 401 loss 0.9761869311332703 train acc 0.8667972924830764\n",
      "epoch 15 batch id 601 loss 0.19072091579437256 train acc 0.8677680057047753\n",
      "epoch 15 train acc 0.8659407665505211\n"
     ]
    },
    {
     "data": {
      "application/vnd.jupyter.widget-view+json": {
       "model_id": "77fb4a5e100241f8ab314ae9103c87eb",
       "version_major": 2,
       "version_minor": 0
      },
      "text/plain": [
       "  0%|          | 0/95 [00:00<?, ?it/s]"
      ]
     },
     "metadata": {},
     "output_type": "display_data"
    },
    {
     "name": "stdout",
     "output_type": "stream",
     "text": [
      "epoch 15 test acc 0.43945766054480456\n"
     ]
    },
    {
     "data": {
      "application/vnd.jupyter.widget-view+json": {
       "model_id": "53f71e067c324a389c199cad8750f7e6",
       "version_major": 2,
       "version_minor": 0
      },
      "text/plain": [
       "  0%|          | 0/738 [00:00<?, ?it/s]"
      ]
     },
     "metadata": {},
     "output_type": "display_data"
    },
    {
     "name": "stdout",
     "output_type": "stream",
     "text": [
      "epoch 16 batch id 1 loss 0.3961310088634491 train acc 0.9\n",
      "epoch 16 batch id 201 loss 0.449355810880661 train acc 0.8714996446339722\n",
      "epoch 16 batch id 401 loss 1.1429409980773926 train acc 0.8769861061631621\n",
      "epoch 16 batch id 601 loss 0.2003534436225891 train acc 0.8748989778939839\n",
      "epoch 16 train acc 0.8723044909020504\n"
     ]
    },
    {
     "data": {
      "application/vnd.jupyter.widget-view+json": {
       "model_id": "66b2356f30bc47ce90a59eb441f9bb9f",
       "version_major": 2,
       "version_minor": 0
      },
      "text/plain": [
       "  0%|          | 0/95 [00:00<?, ?it/s]"
      ]
     },
     "metadata": {},
     "output_type": "display_data"
    },
    {
     "name": "stdout",
     "output_type": "stream",
     "text": [
      "epoch 16 test acc 0.4512313570812274\n"
     ]
    },
    {
     "data": {
      "application/vnd.jupyter.widget-view+json": {
       "model_id": "b4e66922527d4f00aaede97161bdb50b",
       "version_major": 2,
       "version_minor": 0
      },
      "text/plain": [
       "  0%|          | 0/738 [00:00<?, ?it/s]"
      ]
     },
     "metadata": {},
     "output_type": "display_data"
    },
    {
     "name": "stdout",
     "output_type": "stream",
     "text": [
      "epoch 17 batch id 1 loss 0.4599352180957794 train acc 0.8857142857142857\n",
      "epoch 17 batch id 201 loss 0.47875240445137024 train acc 0.8862828713574975\n",
      "epoch 17 batch id 401 loss 0.8494879603385925 train acc 0.8894193088706784\n",
      "epoch 17 batch id 601 loss 0.21266242861747742 train acc 0.8880437366294254\n",
      "epoch 17 train acc 0.8856029810298089\n"
     ]
    },
    {
     "data": {
      "application/vnd.jupyter.widget-view+json": {
       "model_id": "a1421ca35cf14dd99a7dc638737e279f",
       "version_major": 2,
       "version_minor": 0
      },
      "text/plain": [
       "  0%|          | 0/95 [00:00<?, ?it/s]"
      ]
     },
     "metadata": {},
     "output_type": "display_data"
    },
    {
     "name": "stdout",
     "output_type": "stream",
     "text": [
      "epoch 17 test acc 0.4474053987427583\n"
     ]
    },
    {
     "data": {
      "application/vnd.jupyter.widget-view+json": {
       "model_id": "f8afc58103d2478aa45b1e9ec09a3cf0",
       "version_major": 2,
       "version_minor": 0
      },
      "text/plain": [
       "  0%|          | 0/738 [00:00<?, ?it/s]"
      ]
     },
     "metadata": {},
     "output_type": "display_data"
    },
    {
     "name": "stdout",
     "output_type": "stream",
     "text": [
      "epoch 18 batch id 1 loss 0.35063791275024414 train acc 0.9142857142857143\n",
      "epoch 18 batch id 201 loss 0.5000026822090149 train acc 0.8913290689410086\n",
      "epoch 18 batch id 401 loss 0.6590502262115479 train acc 0.8945137157107224\n",
      "epoch 18 batch id 601 loss 0.16246087849140167 train acc 0.8923460898502474\n",
      "epoch 18 train acc 0.8909794812233822\n"
     ]
    },
    {
     "data": {
      "application/vnd.jupyter.widget-view+json": {
       "model_id": "01b76160af0647cfb12cad11d821a2c1",
       "version_major": 2,
       "version_minor": 0
      },
      "text/plain": [
       "  0%|          | 0/95 [00:00<?, ?it/s]"
      ]
     },
     "metadata": {},
     "output_type": "display_data"
    },
    {
     "name": "stdout",
     "output_type": "stream",
     "text": [
      "epoch 18 test acc 0.43905090595340807\n"
     ]
    },
    {
     "data": {
      "application/vnd.jupyter.widget-view+json": {
       "model_id": "406bd4a2e98041978003211681024311",
       "version_major": 2,
       "version_minor": 0
      },
      "text/plain": [
       "  0%|          | 0/738 [00:00<?, ?it/s]"
      ]
     },
     "metadata": {},
     "output_type": "display_data"
    },
    {
     "name": "stdout",
     "output_type": "stream",
     "text": [
      "epoch 19 batch id 1 loss 0.3795086443424225 train acc 0.8714285714285714\n",
      "epoch 19 batch id 201 loss 0.39439332485198975 train acc 0.8999289267945971\n",
      "epoch 19 batch id 401 loss 0.5806198716163635 train acc 0.9045244032775198\n",
      "epoch 19 batch id 601 loss 0.14468437433242798 train acc 0.9036843356310894\n",
      "epoch 19 train acc 0.9055410375532323\n"
     ]
    },
    {
     "data": {
      "application/vnd.jupyter.widget-view+json": {
       "model_id": "ece71c85b62e4ad7a70827ad99776fc3",
       "version_major": 2,
       "version_minor": 0
      },
      "text/plain": [
       "  0%|          | 0/95 [00:00<?, ?it/s]"
      ]
     },
     "metadata": {},
     "output_type": "display_data"
    },
    {
     "name": "stdout",
     "output_type": "stream",
     "text": [
      "epoch 19 test acc 0.4549513127079994\n"
     ]
    },
    {
     "data": {
      "application/vnd.jupyter.widget-view+json": {
       "model_id": "0c01aa86e463491aa080805e15cdc707",
       "version_major": 2,
       "version_minor": 0
      },
      "text/plain": [
       "  0%|          | 0/738 [00:00<?, ?it/s]"
      ]
     },
     "metadata": {},
     "output_type": "display_data"
    },
    {
     "name": "stdout",
     "output_type": "stream",
     "text": [
      "epoch 20 batch id 1 loss 0.39144662022590637 train acc 0.9\n",
      "epoch 20 batch id 201 loss 0.27254852652549744 train acc 0.9114427860696501\n",
      "epoch 20 batch id 401 loss 0.6840543746948242 train acc 0.910046312789453\n",
      "epoch 20 batch id 601 loss 0.45779886841773987 train acc 0.9075112907059638\n",
      "epoch 20 train acc 0.907486449864497\n"
     ]
    },
    {
     "data": {
      "application/vnd.jupyter.widget-view+json": {
       "model_id": "624d56ec456f4a529d1c20c742d5ed98",
       "version_major": 2,
       "version_minor": 0
      },
      "text/plain": [
       "  0%|          | 0/95 [00:00<?, ?it/s]"
      ]
     },
     "metadata": {},
     "output_type": "display_data"
    },
    {
     "name": "stdout",
     "output_type": "stream",
     "text": [
      "epoch 20 test acc 0.4887858991741646\n"
     ]
    },
    {
     "data": {
      "application/vnd.jupyter.widget-view+json": {
       "model_id": "ebf6b35699694a1ea00d98f01da4ae60",
       "version_major": 2,
       "version_minor": 0
      },
      "text/plain": [
       "  0%|          | 0/738 [00:00<?, ?it/s]"
      ]
     },
     "metadata": {},
     "output_type": "display_data"
    },
    {
     "name": "stdout",
     "output_type": "stream",
     "text": [
      "epoch 21 batch id 1 loss 0.19333681464195251 train acc 0.9142857142857143\n",
      "epoch 21 batch id 201 loss 0.3168632984161377 train acc 0.9149253731343271\n",
      "epoch 21 batch id 401 loss 0.6936045289039612 train acc 0.9150694691841805\n",
      "epoch 21 batch id 601 loss 0.21277977526187897 train acc 0.9134775374376031\n",
      "epoch 21 train acc 0.9138501742160288\n"
     ]
    },
    {
     "data": {
      "application/vnd.jupyter.widget-view+json": {
       "model_id": "1f8e9243134743a28b25f6373169e2f3",
       "version_major": 2,
       "version_minor": 0
      },
      "text/plain": [
       "  0%|          | 0/95 [00:00<?, ?it/s]"
      ]
     },
     "metadata": {},
     "output_type": "display_data"
    },
    {
     "name": "stdout",
     "output_type": "stream",
     "text": [
      "epoch 21 test acc 0.44884752865770955\n"
     ]
    },
    {
     "data": {
      "application/vnd.jupyter.widget-view+json": {
       "model_id": "f90031d2e45d479bae1513b54077c82c",
       "version_major": 2,
       "version_minor": 0
      },
      "text/plain": [
       "  0%|          | 0/738 [00:00<?, ?it/s]"
      ]
     },
     "metadata": {},
     "output_type": "display_data"
    },
    {
     "name": "stdout",
     "output_type": "stream",
     "text": [
      "epoch 22 batch id 1 loss 0.4099333584308624 train acc 0.8428571428571429\n",
      "epoch 22 batch id 201 loss 0.14581376314163208 train acc 0.9226723525230981\n",
      "epoch 22 batch id 401 loss 0.36849284172058105 train acc 0.916672604203775\n",
      "epoch 22 batch id 601 loss 0.10618868470191956 train acc 0.9163061564059891\n",
      "epoch 22 train acc 0.9171167247386771\n"
     ]
    },
    {
     "data": {
      "application/vnd.jupyter.widget-view+json": {
       "model_id": "34b7122d94ee4896bc99bf4919486d3d",
       "version_major": 2,
       "version_minor": 0
      },
      "text/plain": [
       "  0%|          | 0/95 [00:00<?, ?it/s]"
      ]
     },
     "metadata": {},
     "output_type": "display_data"
    },
    {
     "name": "stdout",
     "output_type": "stream",
     "text": [
      "epoch 22 test acc 0.45546407001109307\n"
     ]
    },
    {
     "data": {
      "application/vnd.jupyter.widget-view+json": {
       "model_id": "d636970e49a443ecafd74249ed94e493",
       "version_major": 2,
       "version_minor": 0
      },
      "text/plain": [
       "  0%|          | 0/738 [00:00<?, ?it/s]"
      ]
     },
     "metadata": {},
     "output_type": "display_data"
    },
    {
     "name": "stdout",
     "output_type": "stream",
     "text": [
      "epoch 23 batch id 1 loss 0.2535264790058136 train acc 0.9142857142857143\n",
      "epoch 23 batch id 201 loss 0.12823404371738434 train acc 0.9292821606254433\n",
      "epoch 23 batch id 401 loss 0.48740848898887634 train acc 0.925293908086925\n",
      "epoch 23 batch id 601 loss 0.09750217944383621 train acc 0.925005942476823\n",
      "epoch 23 train acc 0.9251064653503681\n"
     ]
    },
    {
     "data": {
      "application/vnd.jupyter.widget-view+json": {
       "model_id": "a4e5a5a71bac4f4b865e6ebd042e05bb",
       "version_major": 2,
       "version_minor": 0
      },
      "text/plain": [
       "  0%|          | 0/95 [00:00<?, ?it/s]"
      ]
     },
     "metadata": {},
     "output_type": "display_data"
    },
    {
     "name": "stdout",
     "output_type": "stream",
     "text": [
      "epoch 23 test acc 0.464274620978676\n"
     ]
    },
    {
     "data": {
      "application/vnd.jupyter.widget-view+json": {
       "model_id": "6f5c280dc05c402c9cb702280f86eeae",
       "version_major": 2,
       "version_minor": 0
      },
      "text/plain": [
       "  0%|          | 0/738 [00:00<?, ?it/s]"
      ]
     },
     "metadata": {},
     "output_type": "display_data"
    },
    {
     "name": "stdout",
     "output_type": "stream",
     "text": [
      "epoch 24 batch id 1 loss 0.41211968660354614 train acc 0.8571428571428571\n",
      "epoch 24 batch id 201 loss 0.106040358543396 train acc 0.9357498223169857\n",
      "epoch 24 batch id 401 loss 0.2923249304294586 train acc 0.9311364446027776\n",
      "epoch 24 batch id 601 loss 0.05712910741567612 train acc 0.9294271452341326\n",
      "epoch 24 train acc 0.9303813395276811\n"
     ]
    },
    {
     "data": {
      "application/vnd.jupyter.widget-view+json": {
       "model_id": "e232b787aa6b4f3789a1f828ee224c2d",
       "version_major": 2,
       "version_minor": 0
      },
      "text/plain": [
       "  0%|          | 0/95 [00:00<?, ?it/s]"
      ]
     },
     "metadata": {},
     "output_type": "display_data"
    },
    {
     "name": "stdout",
     "output_type": "stream",
     "text": [
      "epoch 24 test acc 0.5227092320966347\n"
     ]
    },
    {
     "data": {
      "application/vnd.jupyter.widget-view+json": {
       "model_id": "8897496b1eed44e691ad497f8b8dce67",
       "version_major": 2,
       "version_minor": 0
      },
      "text/plain": [
       "  0%|          | 0/738 [00:00<?, ?it/s]"
      ]
     },
     "metadata": {},
     "output_type": "display_data"
    },
    {
     "name": "stdout",
     "output_type": "stream",
     "text": [
      "epoch 25 batch id 1 loss 0.21740953624248505 train acc 0.9142857142857143\n",
      "epoch 25 batch id 201 loss 0.03962728753685951 train acc 0.9350390902629695\n",
      "epoch 25 batch id 401 loss 0.2767679691314697 train acc 0.9370502315639454\n",
      "epoch 25 batch id 601 loss 0.06536519527435303 train acc 0.9357974803898249\n",
      "epoch 25 train acc 0.9361062717770038\n"
     ]
    },
    {
     "data": {
      "application/vnd.jupyter.widget-view+json": {
       "model_id": "3be5d55027b04dbe963c83a3f00a956b",
       "version_major": 2,
       "version_minor": 0
      },
      "text/plain": [
       "  0%|          | 0/95 [00:00<?, ?it/s]"
      ]
     },
     "metadata": {},
     "output_type": "display_data"
    },
    {
     "name": "stdout",
     "output_type": "stream",
     "text": [
      "epoch 25 test acc 0.4627708615801799\n"
     ]
    },
    {
     "data": {
      "application/vnd.jupyter.widget-view+json": {
       "model_id": "f3ed52997dab49de9867a16358a87eea",
       "version_major": 2,
       "version_minor": 0
      },
      "text/plain": [
       "  0%|          | 0/738 [00:00<?, ?it/s]"
      ]
     },
     "metadata": {},
     "output_type": "display_data"
    },
    {
     "name": "stdout",
     "output_type": "stream",
     "text": [
      "epoch 26 batch id 1 loss 0.3944970667362213 train acc 0.8571428571428571\n",
      "epoch 26 batch id 201 loss 0.057391207665205 train acc 0.9478322672352512\n",
      "epoch 26 batch id 401 loss 0.351282000541687 train acc 0.94620591378696\n",
      "epoch 26 batch id 601 loss 0.06628582626581192 train acc 0.942524364154979\n",
      "epoch 26 train acc 0.942111885404569\n"
     ]
    },
    {
     "data": {
      "application/vnd.jupyter.widget-view+json": {
       "model_id": "edaa2007613b45f997bbba09112d4909",
       "version_major": 2,
       "version_minor": 0
      },
      "text/plain": [
       "  0%|          | 0/95 [00:00<?, ?it/s]"
      ]
     },
     "metadata": {},
     "output_type": "display_data"
    },
    {
     "name": "stdout",
     "output_type": "stream",
     "text": [
      "epoch 26 test acc 0.47859977813385884\n"
     ]
    },
    {
     "data": {
      "application/vnd.jupyter.widget-view+json": {
       "model_id": "c17399a7c7ba4d3cbc2f4bfd36e0308a",
       "version_major": 2,
       "version_minor": 0
      },
      "text/plain": [
       "  0%|          | 0/738 [00:00<?, ?it/s]"
      ]
     },
     "metadata": {},
     "output_type": "display_data"
    },
    {
     "name": "stdout",
     "output_type": "stream",
     "text": [
      "epoch 27 batch id 1 loss 0.10191398113965988 train acc 0.9571428571428572\n",
      "epoch 27 batch id 201 loss 0.26796242594718933 train acc 0.9470504619758338\n",
      "epoch 27 batch id 401 loss 0.19490386545658112 train acc 0.9459565372283562\n",
      "epoch 27 batch id 601 loss 0.07386022806167603 train acc 0.9433325410030888\n",
      "epoch 27 train acc 0.9442363530778166\n"
     ]
    },
    {
     "data": {
      "application/vnd.jupyter.widget-view+json": {
       "model_id": "d03be8714c7b4c4fba43f6d711a9ae53",
       "version_major": 2,
       "version_minor": 0
      },
      "text/plain": [
       "  0%|          | 0/95 [00:00<?, ?it/s]"
      ]
     },
     "metadata": {},
     "output_type": "display_data"
    },
    {
     "name": "stdout",
     "output_type": "stream",
     "text": [
      "epoch 27 test acc 0.5022975471465551\n"
     ]
    },
    {
     "data": {
      "application/vnd.jupyter.widget-view+json": {
       "model_id": "fb60290a2c09424ab64ade10c10f24ec",
       "version_major": 2,
       "version_minor": 0
      },
      "text/plain": [
       "  0%|          | 0/738 [00:00<?, ?it/s]"
      ]
     },
     "metadata": {},
     "output_type": "display_data"
    },
    {
     "name": "stdout",
     "output_type": "stream",
     "text": [
      "epoch 28 batch id 1 loss 0.17945194244384766 train acc 0.9428571428571428\n",
      "epoch 28 batch id 201 loss 0.16980624198913574 train acc 0.9478322672352514\n",
      "epoch 28 batch id 401 loss 0.21602195501327515 train acc 0.9482365514784449\n",
      "epoch 28 batch id 601 loss 0.057931117713451385 train acc 0.947539814594723\n",
      "epoch 28 train acc 0.9472899728997306\n"
     ]
    },
    {
     "data": {
      "application/vnd.jupyter.widget-view+json": {
       "model_id": "23c695d7a1c14815883f7e93f8184bf7",
       "version_major": 2,
       "version_minor": 0
      },
      "text/plain": [
       "  0%|          | 0/95 [00:00<?, ?it/s]"
      ]
     },
     "metadata": {},
     "output_type": "display_data"
    },
    {
     "name": "stdout",
     "output_type": "stream",
     "text": [
      "epoch 28 test acc 0.5180032047331444\n"
     ]
    },
    {
     "data": {
      "application/vnd.jupyter.widget-view+json": {
       "model_id": "9f4516d0717f463ea4e9aaaeee491c6d",
       "version_major": 2,
       "version_minor": 0
      },
      "text/plain": [
       "  0%|          | 0/738 [00:00<?, ?it/s]"
      ]
     },
     "metadata": {},
     "output_type": "display_data"
    },
    {
     "name": "stdout",
     "output_type": "stream",
     "text": [
      "epoch 29 batch id 1 loss 0.10618703812360764 train acc 0.9714285714285714\n",
      "epoch 29 batch id 201 loss 0.19857054948806763 train acc 0.9542999289267936\n",
      "epoch 29 batch id 401 loss 0.27748361229896545 train acc 0.9535803348770913\n",
      "epoch 29 batch id 601 loss 0.02805401012301445 train acc 0.9527454242928453\n",
      "epoch 29 train acc 0.9528939217963632\n"
     ]
    },
    {
     "data": {
      "application/vnd.jupyter.widget-view+json": {
       "model_id": "a1007301b5584a38baf44c8f3b211ddb",
       "version_major": 2,
       "version_minor": 0
      },
      "text/plain": [
       "  0%|          | 0/95 [00:00<?, ?it/s]"
      ]
     },
     "metadata": {},
     "output_type": "display_data"
    },
    {
     "name": "stdout",
     "output_type": "stream",
     "text": [
      "epoch 29 test acc 0.4726685566374952\n"
     ]
    },
    {
     "data": {
      "application/vnd.jupyter.widget-view+json": {
       "model_id": "e9aa8da06f424cfc900ff73aaa9c4323",
       "version_major": 2,
       "version_minor": 0
      },
      "text/plain": [
       "  0%|          | 0/738 [00:00<?, ?it/s]"
      ]
     },
     "metadata": {},
     "output_type": "display_data"
    },
    {
     "name": "stdout",
     "output_type": "stream",
     "text": [
      "epoch 30 batch id 1 loss 0.26013943552970886 train acc 0.9428571428571428\n",
      "epoch 30 batch id 201 loss 0.17926931381225586 train acc 0.9560056858564308\n",
      "epoch 30 batch id 401 loss 0.18180003762245178 train acc 0.9552903455646586\n",
      "epoch 30 batch id 601 loss 0.016505049541592598 train acc 0.9534822914190637\n",
      "epoch 30 train acc 0.9533343012001563\n"
     ]
    },
    {
     "data": {
      "application/vnd.jupyter.widget-view+json": {
       "model_id": "f6450f583e4246dc871522e48c0d9cd5",
       "version_major": 2,
       "version_minor": 0
      },
      "text/plain": [
       "  0%|          | 0/95 [00:00<?, ?it/s]"
      ]
     },
     "metadata": {},
     "output_type": "display_data"
    },
    {
     "name": "stdout",
     "output_type": "stream",
     "text": [
      "epoch 30 test acc 0.4601873536299763\n"
     ]
    },
    {
     "data": {
      "application/vnd.jupyter.widget-view+json": {
       "model_id": "bbe9467461fe4f0e85643ead263da50c",
       "version_major": 2,
       "version_minor": 0
      },
      "text/plain": [
       "  0%|          | 0/738 [00:00<?, ?it/s]"
      ]
     },
     "metadata": {},
     "output_type": "display_data"
    },
    {
     "name": "stdout",
     "output_type": "stream",
     "text": [
      "epoch 31 batch id 1 loss 0.12937408685684204 train acc 0.9428571428571428\n",
      "epoch 31 batch id 201 loss 0.07518061995506287 train acc 0.9593461265103046\n",
      "epoch 31 batch id 401 loss 0.14939197897911072 train acc 0.9562522265764151\n",
      "epoch 31 batch id 601 loss 0.15042616426944733 train acc 0.9564297599239364\n",
      "epoch 31 train acc 0.9557975222609381\n"
     ]
    },
    {
     "data": {
      "application/vnd.jupyter.widget-view+json": {
       "model_id": "c0fbabf6a49a4c00a4e8b7fd14e66e09",
       "version_major": 2,
       "version_minor": 0
      },
      "text/plain": [
       "  0%|          | 0/95 [00:00<?, ?it/s]"
      ]
     },
     "metadata": {},
     "output_type": "display_data"
    },
    {
     "name": "stdout",
     "output_type": "stream",
     "text": [
      "epoch 31 test acc 0.4834512510785161\n"
     ]
    },
    {
     "data": {
      "application/vnd.jupyter.widget-view+json": {
       "model_id": "4112e845f82840d29eeb92787e055b69",
       "version_major": 2,
       "version_minor": 0
      },
      "text/plain": [
       "  0%|          | 0/738 [00:00<?, ?it/s]"
      ]
     },
     "metadata": {},
     "output_type": "display_data"
    },
    {
     "name": "stdout",
     "output_type": "stream",
     "text": [
      "epoch 32 batch id 1 loss 0.012093694880604744 train acc 1.0\n",
      "epoch 32 batch id 201 loss 0.24893037974834442 train acc 0.9579246624022727\n",
      "epoch 32 batch id 401 loss 0.2968374490737915 train acc 0.9567153544709633\n",
      "epoch 32 batch id 601 loss 0.1384769082069397 train acc 0.9569289279771783\n",
      "epoch 32 train acc 0.956716995741385\n"
     ]
    },
    {
     "data": {
      "application/vnd.jupyter.widget-view+json": {
       "model_id": "a4ed0dcf932241c9abb1233648e99ec5",
       "version_major": 2,
       "version_minor": 0
      },
      "text/plain": [
       "  0%|          | 0/95 [00:00<?, ?it/s]"
      ]
     },
     "metadata": {},
     "output_type": "display_data"
    },
    {
     "name": "stdout",
     "output_type": "stream",
     "text": [
      "epoch 32 test acc 0.4933760631085913\n"
     ]
    },
    {
     "data": {
      "application/vnd.jupyter.widget-view+json": {
       "model_id": "ec1f0d186a924c8e8a48627811ef8937",
       "version_major": 2,
       "version_minor": 0
      },
      "text/plain": [
       "  0%|          | 0/738 [00:00<?, ?it/s]"
      ]
     },
     "metadata": {},
     "output_type": "display_data"
    },
    {
     "name": "stdout",
     "output_type": "stream",
     "text": [
      "epoch 33 batch id 1 loss 0.0774117186665535 train acc 0.9571428571428572\n",
      "epoch 33 batch id 201 loss 0.1499471664428711 train acc 0.962189054726368\n",
      "epoch 33 batch id 401 loss 0.20852148532867432 train acc 0.9622016387602417\n",
      "epoch 33 batch id 601 loss 0.011374599300324917 train acc 0.962182077489898\n",
      "epoch 33 train acc 0.9623306233062331\n"
     ]
    },
    {
     "data": {
      "application/vnd.jupyter.widget-view+json": {
       "model_id": "9c9b2160b7624a9eab667136518000dd",
       "version_major": 2,
       "version_minor": 0
      },
      "text/plain": [
       "  0%|          | 0/95 [00:00<?, ?it/s]"
      ]
     },
     "metadata": {},
     "output_type": "display_data"
    },
    {
     "name": "stdout",
     "output_type": "stream",
     "text": [
      "epoch 33 test acc 0.5105460372242082\n"
     ]
    },
    {
     "data": {
      "application/vnd.jupyter.widget-view+json": {
       "model_id": "728ecb718e39426b8786fd12613afdac",
       "version_major": 2,
       "version_minor": 0
      },
      "text/plain": [
       "  0%|          | 0/738 [00:00<?, ?it/s]"
      ]
     },
     "metadata": {},
     "output_type": "display_data"
    },
    {
     "name": "stdout",
     "output_type": "stream",
     "text": [
      "epoch 34 batch id 1 loss 0.09283705055713654 train acc 0.9428571428571428\n",
      "epoch 34 batch id 201 loss 0.09954394400119781 train acc 0.9660270078180521\n",
      "epoch 34 batch id 401 loss 0.10485691577196121 train acc 0.963484146775916\n",
      "epoch 34 batch id 601 loss 0.1363290697336197 train acc 0.9632279534109806\n",
      "epoch 34 train acc 0.9639421215640728\n"
     ]
    },
    {
     "data": {
      "application/vnd.jupyter.widget-view+json": {
       "model_id": "37b6abbaf697439eaf4622c34f13fefe",
       "version_major": 2,
       "version_minor": 0
      },
      "text/plain": [
       "  0%|          | 0/95 [00:00<?, ?it/s]"
      ]
     },
     "metadata": {},
     "output_type": "display_data"
    },
    {
     "name": "stdout",
     "output_type": "stream",
     "text": [
      "epoch 34 test acc 0.4756588191790952\n"
     ]
    },
    {
     "data": {
      "application/vnd.jupyter.widget-view+json": {
       "model_id": "b2f45dd1555e4733b6866d88e85401dd",
       "version_major": 2,
       "version_minor": 0
      },
      "text/plain": [
       "  0%|          | 0/738 [00:00<?, ?it/s]"
      ]
     },
     "metadata": {},
     "output_type": "display_data"
    },
    {
     "name": "stdout",
     "output_type": "stream",
     "text": [
      "epoch 35 batch id 1 loss 0.1442803144454956 train acc 0.9714285714285714\n",
      "epoch 35 batch id 201 loss 0.14988631010055542 train acc 0.96503198294243\n",
      "epoch 35 batch id 401 loss 0.2436334639787674 train acc 0.9638403990024933\n",
      "epoch 35 batch id 601 loss 0.055085621774196625 train acc 0.9638935108153076\n",
      "epoch 35 train acc 0.9646147890050323\n"
     ]
    },
    {
     "data": {
      "application/vnd.jupyter.widget-view+json": {
       "model_id": "50ae353670994c96aaf6fcbc64e49c60",
       "version_major": 2,
       "version_minor": 0
      },
      "text/plain": [
       "  0%|          | 0/95 [00:00<?, ?it/s]"
      ]
     },
     "metadata": {},
     "output_type": "display_data"
    },
    {
     "name": "stdout",
     "output_type": "stream",
     "text": [
      "epoch 35 test acc 0.49849377542216206\n"
     ]
    },
    {
     "data": {
      "application/vnd.jupyter.widget-view+json": {
       "model_id": "844851980f054b44ad58a740b2708c61",
       "version_major": 2,
       "version_minor": 0
      },
      "text/plain": [
       "  0%|          | 0/738 [00:00<?, ?it/s]"
      ]
     },
     "metadata": {},
     "output_type": "display_data"
    },
    {
     "name": "stdout",
     "output_type": "stream",
     "text": [
      "epoch 36 batch id 1 loss 0.11398938298225403 train acc 0.9857142857142858\n",
      "epoch 36 batch id 201 loss 0.08572820574045181 train acc 0.9693674484719251\n",
      "epoch 36 batch id 401 loss 0.4180617928504944 train acc 0.9655860349127169\n",
      "epoch 36 batch id 601 loss 0.028208252042531967 train acc 0.9654385547896357\n",
      "epoch 36 train acc 0.9654907084785139\n"
     ]
    },
    {
     "data": {
      "application/vnd.jupyter.widget-view+json": {
       "model_id": "88121c4f6ddf47fea117a0431e191d69",
       "version_major": 2,
       "version_minor": 0
      },
      "text/plain": [
       "  0%|          | 0/95 [00:00<?, ?it/s]"
      ]
     },
     "metadata": {},
     "output_type": "display_data"
    },
    {
     "name": "stdout",
     "output_type": "stream",
     "text": [
      "epoch 36 test acc 0.500921977073832\n"
     ]
    },
    {
     "data": {
      "application/vnd.jupyter.widget-view+json": {
       "model_id": "91d534cda0f04eb88458bb4e900644a2",
       "version_major": 2,
       "version_minor": 0
      },
      "text/plain": [
       "  0%|          | 0/738 [00:00<?, ?it/s]"
      ]
     },
     "metadata": {},
     "output_type": "display_data"
    },
    {
     "name": "stdout",
     "output_type": "stream",
     "text": [
      "epoch 37 batch id 1 loss 0.14336803555488586 train acc 0.9714285714285714\n",
      "epoch 37 batch id 201 loss 0.04917115345597267 train acc 0.9712153518123656\n",
      "epoch 37 batch id 401 loss 0.17352740466594696 train acc 0.9680085500534366\n",
      "epoch 37 batch id 601 loss 0.07963908463716507 train acc 0.9678393154266691\n",
      "epoch 37 train acc 0.968529810298102\n"
     ]
    },
    {
     "data": {
      "application/vnd.jupyter.widget-view+json": {
       "model_id": "78a361345c3a4d86a47ff77aea0bd77d",
       "version_major": 2,
       "version_minor": 0
      },
      "text/plain": [
       "  0%|          | 0/95 [00:00<?, ?it/s]"
      ]
     },
     "metadata": {},
     "output_type": "display_data"
    },
    {
     "name": "stdout",
     "output_type": "stream",
     "text": [
      "epoch 37 test acc 0.4783655860963883\n"
     ]
    },
    {
     "data": {
      "application/vnd.jupyter.widget-view+json": {
       "model_id": "f139b00535cb4ed7b4d5f15c861f4e3c",
       "version_major": 2,
       "version_minor": 0
      },
      "text/plain": [
       "  0%|          | 0/738 [00:00<?, ?it/s]"
      ]
     },
     "metadata": {},
     "output_type": "display_data"
    },
    {
     "name": "stdout",
     "output_type": "stream",
     "text": [
      "epoch 38 batch id 1 loss 0.24558185040950775 train acc 0.9285714285714286\n",
      "epoch 38 batch id 201 loss 0.06295978277921677 train acc 0.9707889125799564\n",
      "epoch 38 batch id 401 loss 0.10188411921262741 train acc 0.969967937299606\n",
      "epoch 38 batch id 601 loss 0.08396241813898087 train acc 0.9700261468980264\n",
      "epoch 38 train acc 0.9699525745257446\n"
     ]
    },
    {
     "data": {
      "application/vnd.jupyter.widget-view+json": {
       "model_id": "ac1712fdfd5f40e9981fb2a54757ad82",
       "version_major": 2,
       "version_minor": 0
      },
      "text/plain": [
       "  0%|          | 0/95 [00:00<?, ?it/s]"
      ]
     },
     "metadata": {},
     "output_type": "display_data"
    },
    {
     "name": "stdout",
     "output_type": "stream",
     "text": [
      "epoch 38 test acc 0.4944558116602983\n"
     ]
    },
    {
     "data": {
      "application/vnd.jupyter.widget-view+json": {
       "model_id": "181127a2c0904bfb940ff5cbaa1a58d4",
       "version_major": 2,
       "version_minor": 0
      },
      "text/plain": [
       "  0%|          | 0/738 [00:00<?, ?it/s]"
      ]
     },
     "metadata": {},
     "output_type": "display_data"
    },
    {
     "name": "stdout",
     "output_type": "stream",
     "text": [
      "epoch 39 batch id 1 loss 0.13767555356025696 train acc 0.9428571428571428\n",
      "epoch 39 batch id 201 loss 0.018298817798495293 train acc 0.973987206823027\n",
      "epoch 39 batch id 401 loss 0.09536927938461304 train acc 0.9719985749910929\n",
      "epoch 39 batch id 601 loss 0.015304071828722954 train acc 0.9708818635607317\n",
      "epoch 39 train acc 0.9716656987998448\n"
     ]
    },
    {
     "data": {
      "application/vnd.jupyter.widget-view+json": {
       "model_id": "8a74ce6709fd4e8bb8a2b2f94d3775a7",
       "version_major": 2,
       "version_minor": 0
      },
      "text/plain": [
       "  0%|          | 0/95 [00:00<?, ?it/s]"
      ]
     },
     "metadata": {},
     "output_type": "display_data"
    },
    {
     "name": "stdout",
     "output_type": "stream",
     "text": [
      "epoch 39 test acc 0.48435843707629694\n"
     ]
    },
    {
     "data": {
      "application/vnd.jupyter.widget-view+json": {
       "model_id": "fad7cc1c9ff44419aebacf5620434fa6",
       "version_major": 2,
       "version_minor": 0
      },
      "text/plain": [
       "  0%|          | 0/738 [00:00<?, ?it/s]"
      ]
     },
     "metadata": {},
     "output_type": "display_data"
    },
    {
     "name": "stdout",
     "output_type": "stream",
     "text": [
      "epoch 40 batch id 1 loss 0.14632581174373627 train acc 0.9428571428571428\n",
      "epoch 40 batch id 201 loss 0.14516274631023407 train acc 0.9733475479744134\n",
      "epoch 40 batch id 401 loss 0.032468926161527634 train acc 0.9722479515496962\n",
      "epoch 40 batch id 601 loss 0.0805874839425087 train acc 0.9717613501307334\n",
      "epoch 40 train acc 0.9711188540456818\n"
     ]
    },
    {
     "data": {
      "application/vnd.jupyter.widget-view+json": {
       "model_id": "9328d26f76a042828d6690ef820a35cc",
       "version_major": 2,
       "version_minor": 0
      },
      "text/plain": [
       "  0%|          | 0/95 [00:00<?, ?it/s]"
      ]
     },
     "metadata": {},
     "output_type": "display_data"
    },
    {
     "name": "stdout",
     "output_type": "stream",
     "text": [
      "epoch 40 test acc 0.4926956736102551\n"
     ]
    },
    {
     "data": {
      "application/vnd.jupyter.widget-view+json": {
       "model_id": "e38eebd613654fee9f85a0a20eb90b0f",
       "version_major": 2,
       "version_minor": 0
      },
      "text/plain": [
       "  0%|          | 0/738 [00:00<?, ?it/s]"
      ]
     },
     "metadata": {},
     "output_type": "display_data"
    },
    {
     "name": "stdout",
     "output_type": "stream",
     "text": [
      "epoch 41 batch id 1 loss 0.0620560497045517 train acc 0.9857142857142858\n",
      "epoch 41 batch id 201 loss 0.01570524275302887 train acc 0.9746268656716416\n",
      "epoch 41 batch id 401 loss 0.14686252176761627 train acc 0.9748485928037038\n",
      "epoch 41 batch id 601 loss 0.004568693693727255 train acc 0.9742809603042542\n",
      "epoch 41 train acc 0.9735578784359266\n"
     ]
    },
    {
     "data": {
      "application/vnd.jupyter.widget-view+json": {
       "model_id": "117591d0875641f5a0521c7a3b5a463b",
       "version_major": 2,
       "version_minor": 0
      },
      "text/plain": [
       "  0%|          | 0/95 [00:00<?, ?it/s]"
      ]
     },
     "metadata": {},
     "output_type": "display_data"
    },
    {
     "name": "stdout",
     "output_type": "stream",
     "text": [
      "epoch 41 test acc 0.5230938000739556\n"
     ]
    },
    {
     "data": {
      "application/vnd.jupyter.widget-view+json": {
       "model_id": "6a9922d6892c4922a263ad5b9b04f06a",
       "version_major": 2,
       "version_minor": 0
      },
      "text/plain": [
       "  0%|          | 0/738 [00:00<?, ?it/s]"
      ]
     },
     "metadata": {},
     "output_type": "display_data"
    },
    {
     "name": "stdout",
     "output_type": "stream",
     "text": [
      "epoch 42 batch id 1 loss 0.07068275660276413 train acc 0.9857142857142858\n",
      "epoch 42 batch id 201 loss 0.1752193719148636 train acc 0.9724235963041931\n",
      "epoch 42 batch id 401 loss 0.19154201447963715 train acc 0.9732098325614517\n",
      "epoch 42 batch id 601 loss 0.014626649208366871 train acc 0.9725695269788432\n",
      "epoch 42 train acc 0.9730158730158709\n"
     ]
    },
    {
     "data": {
      "application/vnd.jupyter.widget-view+json": {
       "model_id": "57913c85f0cd403e8d3c0ef2445fdf10",
       "version_major": 2,
       "version_minor": 0
      },
      "text/plain": [
       "  0%|          | 0/95 [00:00<?, ?it/s]"
      ]
     },
     "metadata": {},
     "output_type": "display_data"
    },
    {
     "name": "stdout",
     "output_type": "stream",
     "text": [
      "epoch 42 test acc 0.5198471588808086\n"
     ]
    },
    {
     "data": {
      "application/vnd.jupyter.widget-view+json": {
       "model_id": "0cb0f6ce8188457c81ee233d7aa10935",
       "version_major": 2,
       "version_minor": 0
      },
      "text/plain": [
       "  0%|          | 0/738 [00:00<?, ?it/s]"
      ]
     },
     "metadata": {},
     "output_type": "display_data"
    },
    {
     "name": "stdout",
     "output_type": "stream",
     "text": [
      "epoch 43 batch id 1 loss 0.15608516335487366 train acc 0.9714285714285714\n",
      "epoch 43 batch id 201 loss 0.01080719567835331 train acc 0.9734896943852163\n",
      "epoch 43 batch id 401 loss 0.1286831647157669 train acc 0.9733879586747411\n",
      "epoch 43 batch id 601 loss 0.041822873055934906 train acc 0.9736391728072257\n",
      "epoch 43 train acc 0.9744483159117285\n"
     ]
    },
    {
     "data": {
      "application/vnd.jupyter.widget-view+json": {
       "model_id": "c2644339881b4672a12d8d261dbf51d2",
       "version_major": 2,
       "version_minor": 0
      },
      "text/plain": [
       "  0%|          | 0/95 [00:00<?, ?it/s]"
      ]
     },
     "metadata": {},
     "output_type": "display_data"
    },
    {
     "name": "stdout",
     "output_type": "stream",
     "text": [
      "epoch 43 test acc 0.5071761370639712\n"
     ]
    },
    {
     "data": {
      "application/vnd.jupyter.widget-view+json": {
       "model_id": "18916f48df4f49f483a87206e380e7d4",
       "version_major": 2,
       "version_minor": 0
      },
      "text/plain": [
       "  0%|          | 0/738 [00:00<?, ?it/s]"
      ]
     },
     "metadata": {},
     "output_type": "display_data"
    },
    {
     "name": "stdout",
     "output_type": "stream",
     "text": [
      "epoch 44 batch id 1 loss 0.007279503159224987 train acc 1.0\n",
      "epoch 44 batch id 201 loss 0.07496794313192368 train acc 0.9762615493958775\n",
      "epoch 44 batch id 401 loss 0.13933174312114716 train acc 0.9768436052725317\n",
      "epoch 44 batch id 601 loss 0.07103962451219559 train acc 0.9761350130734481\n",
      "epoch 44 train acc 0.9760598141695692\n"
     ]
    },
    {
     "data": {
      "application/vnd.jupyter.widget-view+json": {
       "model_id": "42fe0fe2defc44d097af50fa89ada5b7",
       "version_major": 2,
       "version_minor": 0
      },
      "text/plain": [
       "  0%|          | 0/95 [00:00<?, ?it/s]"
      ]
     },
     "metadata": {},
     "output_type": "display_data"
    },
    {
     "name": "stdout",
     "output_type": "stream",
     "text": [
      "epoch 44 test acc 0.5199975348206581\n"
     ]
    },
    {
     "data": {
      "application/vnd.jupyter.widget-view+json": {
       "model_id": "1d80de7efc284202bf8edc67085b7c04",
       "version_major": 2,
       "version_minor": 0
      },
      "text/plain": [
       "  0%|          | 0/738 [00:00<?, ?it/s]"
      ]
     },
     "metadata": {},
     "output_type": "display_data"
    },
    {
     "name": "stdout",
     "output_type": "stream",
     "text": [
      "epoch 45 batch id 1 loss 0.0034224193077534437 train acc 1.0\n",
      "epoch 45 batch id 201 loss 0.13372260332107544 train acc 0.9783226723525223\n",
      "epoch 45 batch id 401 loss 0.1545436680316925 train acc 0.9777698610616306\n",
      "epoch 45 batch id 601 loss 0.03243686631321907 train acc 0.9771571190872337\n",
      "epoch 45 train acc 0.9771631823461071\n"
     ]
    },
    {
     "data": {
      "application/vnd.jupyter.widget-view+json": {
       "model_id": "2979b53f9c1a4799ab3c24f9ed36388c",
       "version_major": 2,
       "version_minor": 0
      },
      "text/plain": [
       "  0%|          | 0/95 [00:00<?, ?it/s]"
      ]
     },
     "metadata": {},
     "output_type": "display_data"
    },
    {
     "name": "stdout",
     "output_type": "stream",
     "text": [
      "epoch 45 test acc 0.5288524590163931\n"
     ]
    },
    {
     "data": {
      "application/vnd.jupyter.widget-view+json": {
       "model_id": "b0ba3de3f01749c38f453b5dfec7f5d1",
       "version_major": 2,
       "version_minor": 0
      },
      "text/plain": [
       "  0%|          | 0/738 [00:00<?, ?it/s]"
      ]
     },
     "metadata": {},
     "output_type": "display_data"
    },
    {
     "name": "stdout",
     "output_type": "stream",
     "text": [
      "epoch 46 batch id 1 loss 0.021998276934027672 train acc 0.9857142857142858\n",
      "epoch 46 batch id 201 loss 0.10740450769662857 train acc 0.9776830135039087\n",
      "epoch 46 batch id 401 loss 0.03152156248688698 train acc 0.9774492340577109\n",
      "epoch 46 batch id 601 loss 0.0667487159371376 train acc 0.9773472783456123\n",
      "epoch 46 train acc 0.9778358497870654\n"
     ]
    },
    {
     "data": {
      "application/vnd.jupyter.widget-view+json": {
       "model_id": "b50caaba24204aedb0da68bc72926a47",
       "version_major": 2,
       "version_minor": 0
      },
      "text/plain": [
       "  0%|          | 0/95 [00:00<?, ?it/s]"
      ]
     },
     "metadata": {},
     "output_type": "display_data"
    },
    {
     "name": "stdout",
     "output_type": "stream",
     "text": [
      "epoch 46 test acc 0.5024035498582521\n"
     ]
    },
    {
     "data": {
      "application/vnd.jupyter.widget-view+json": {
       "model_id": "f29a8429a82347069036cf072cc8b4d3",
       "version_major": 2,
       "version_minor": 0
      },
      "text/plain": [
       "  0%|          | 0/738 [00:00<?, ?it/s]"
      ]
     },
     "metadata": {},
     "output_type": "display_data"
    },
    {
     "name": "stdout",
     "output_type": "stream",
     "text": [
      "epoch 47 batch id 1 loss 0.004974291659891605 train acc 1.0\n",
      "epoch 47 batch id 201 loss 0.012551678344607353 train acc 0.9761194029850743\n",
      "epoch 47 batch id 401 loss 0.1190764456987381 train acc 0.977698610616315\n",
      "epoch 47 batch id 601 loss 0.034842874854803085 train acc 0.9775374376039918\n",
      "epoch 47 train acc 0.9777245451025918\n"
     ]
    },
    {
     "data": {
      "application/vnd.jupyter.widget-view+json": {
       "model_id": "aeabe8d64ebf4adf883693a0d7625536",
       "version_major": 2,
       "version_minor": 0
      },
      "text/plain": [
       "  0%|          | 0/95 [00:00<?, ?it/s]"
      ]
     },
     "metadata": {},
     "output_type": "display_data"
    },
    {
     "name": "stdout",
     "output_type": "stream",
     "text": [
      "epoch 47 test acc 0.5249204979662273\n"
     ]
    },
    {
     "data": {
      "application/vnd.jupyter.widget-view+json": {
       "model_id": "8849bbb438df472bab4633d769b82402",
       "version_major": 2,
       "version_minor": 0
      },
      "text/plain": [
       "  0%|          | 0/738 [00:00<?, ?it/s]"
      ]
     },
     "metadata": {},
     "output_type": "display_data"
    },
    {
     "name": "stdout",
     "output_type": "stream",
     "text": [
      "epoch 48 batch id 1 loss 0.006396832410246134 train acc 1.0\n",
      "epoch 48 batch id 201 loss 0.0032901654485613108 train acc 0.9796019900497506\n",
      "epoch 48 batch id 401 loss 0.12977798283100128 train acc 0.979052369077305\n",
      "epoch 48 batch id 601 loss 0.0028186675626784563 train acc 0.978892322319941\n",
      "epoch 48 train acc 0.9788811459543139\n"
     ]
    },
    {
     "data": {
      "application/vnd.jupyter.widget-view+json": {
       "model_id": "07cc2a873d5f44cf9e40d7d9d4467d12",
       "version_major": 2,
       "version_minor": 0
      },
      "text/plain": [
       "  0%|          | 0/95 [00:00<?, ?it/s]"
      ]
     },
     "metadata": {},
     "output_type": "display_data"
    },
    {
     "name": "stdout",
     "output_type": "stream",
     "text": [
      "epoch 48 test acc 0.5276050782694442\n"
     ]
    },
    {
     "data": {
      "application/vnd.jupyter.widget-view+json": {
       "model_id": "ddde1e68c4e64e0898acad1937eedf89",
       "version_major": 2,
       "version_minor": 0
      },
      "text/plain": [
       "  0%|          | 0/738 [00:00<?, ?it/s]"
      ]
     },
     "metadata": {},
     "output_type": "display_data"
    },
    {
     "name": "stdout",
     "output_type": "stream",
     "text": [
      "epoch 49 batch id 1 loss 0.00957716815173626 train acc 1.0\n",
      "epoch 49 batch id 201 loss 0.04020683839917183 train acc 0.9779673063255152\n",
      "epoch 49 batch id 401 loss 0.16933247447013855 train acc 0.9780904880655488\n",
      "epoch 49 batch id 601 loss 0.005087728146463633 train acc 0.9773235084383156\n",
      "epoch 49 train acc 0.9781068524970932\n"
     ]
    },
    {
     "data": {
      "application/vnd.jupyter.widget-view+json": {
       "model_id": "248ab04cc6b848fbb12134121a40fe5d",
       "version_major": 2,
       "version_minor": 0
      },
      "text/plain": [
       "  0%|          | 0/95 [00:00<?, ?it/s]"
      ]
     },
     "metadata": {},
     "output_type": "display_data"
    },
    {
     "name": "stdout",
     "output_type": "stream",
     "text": [
      "epoch 49 test acc 0.5140712436829776\n"
     ]
    },
    {
     "data": {
      "application/vnd.jupyter.widget-view+json": {
       "model_id": "53f21a575c994969ba4faec63c56d899",
       "version_major": 2,
       "version_minor": 0
      },
      "text/plain": [
       "  0%|          | 0/738 [00:00<?, ?it/s]"
      ]
     },
     "metadata": {},
     "output_type": "display_data"
    },
    {
     "name": "stdout",
     "output_type": "stream",
     "text": [
      "epoch 50 batch id 1 loss 0.016265349462628365 train acc 1.0\n",
      "epoch 50 batch id 201 loss 0.029501866549253464 train acc 0.9782515991471219\n",
      "epoch 50 batch id 401 loss 0.014285589568316936 train acc 0.9794442465265395\n",
      "epoch 50 batch id 601 loss 0.0052299583330750465 train acc 0.980104587592107\n",
      "epoch 50 train acc 0.9802555168408807\n"
     ]
    },
    {
     "data": {
      "application/vnd.jupyter.widget-view+json": {
       "model_id": "6b496fa7beee4f5597378baf6767574f",
       "version_major": 2,
       "version_minor": 0
      },
      "text/plain": [
       "  0%|          | 0/95 [00:00<?, ?it/s]"
      ]
     },
     "metadata": {},
     "output_type": "display_data"
    },
    {
     "name": "stdout",
     "output_type": "stream",
     "text": [
      "epoch 50 test acc 0.509365216319487\n"
     ]
    },
    {
     "data": {
      "application/vnd.jupyter.widget-view+json": {
       "model_id": "76c4af2a469541ab9eed470e4a464a2c",
       "version_major": 2,
       "version_minor": 0
      },
      "text/plain": [
       "  0%|          | 0/738 [00:00<?, ?it/s]"
      ]
     },
     "metadata": {},
     "output_type": "display_data"
    },
    {
     "name": "stdout",
     "output_type": "stream",
     "text": [
      "epoch 51 batch id 1 loss 0.10872593522071838 train acc 0.9714285714285714\n",
      "epoch 51 batch id 201 loss 0.01724042370915413 train acc 0.9782515991471211\n",
      "epoch 51 batch id 401 loss 0.009807955473661423 train acc 0.980619878874241\n",
      "epoch 51 batch id 601 loss 0.03970080614089966 train acc 0.9801996672212954\n",
      "epoch 51 train acc 0.9804103755323235\n"
     ]
    },
    {
     "data": {
      "application/vnd.jupyter.widget-view+json": {
       "model_id": "c1c3abcf099d4626b1d11e275acc4f5a",
       "version_major": 2,
       "version_minor": 0
      },
      "text/plain": [
       "  0%|          | 0/95 [00:00<?, ?it/s]"
      ]
     },
     "metadata": {},
     "output_type": "display_data"
    },
    {
     "name": "stdout",
     "output_type": "stream",
     "text": [
      "epoch 51 test acc 0.538626895106619\n"
     ]
    },
    {
     "data": {
      "application/vnd.jupyter.widget-view+json": {
       "model_id": "6be642df42614e28bd6f3ac8f633b27b",
       "version_major": 2,
       "version_minor": 0
      },
      "text/plain": [
       "  0%|          | 0/738 [00:00<?, ?it/s]"
      ]
     },
     "metadata": {},
     "output_type": "display_data"
    },
    {
     "name": "stdout",
     "output_type": "stream",
     "text": [
      "epoch 52 batch id 1 loss 0.0866079106926918 train acc 0.9714285714285714\n",
      "epoch 52 batch id 201 loss 0.09801851212978363 train acc 0.9790334044065387\n",
      "epoch 52 batch id 401 loss 0.03260855749249458 train acc 0.9800855005343767\n",
      "epoch 52 batch id 601 loss 0.14958278834819794 train acc 0.9795341098169701\n",
      "epoch 52 train acc 0.979776422764225\n"
     ]
    },
    {
     "data": {
      "application/vnd.jupyter.widget-view+json": {
       "model_id": "86918141f06647e6bc19bfffc5c366bb",
       "version_major": 2,
       "version_minor": 0
      },
      "text/plain": [
       "  0%|          | 0/95 [00:00<?, ?it/s]"
      ]
     },
     "metadata": {},
     "output_type": "display_data"
    },
    {
     "name": "stdout",
     "output_type": "stream",
     "text": [
      "epoch 52 test acc 0.5176358930112166\n"
     ]
    },
    {
     "data": {
      "application/vnd.jupyter.widget-view+json": {
       "model_id": "01c231264ac1465caea9f60466176446",
       "version_major": 2,
       "version_minor": 0
      },
      "text/plain": [
       "  0%|          | 0/738 [00:00<?, ?it/s]"
      ]
     },
     "metadata": {},
     "output_type": "display_data"
    },
    {
     "name": "stdout",
     "output_type": "stream",
     "text": [
      "epoch 53 batch id 1 loss 0.030787376686930656 train acc 0.9857142857142858\n",
      "epoch 53 batch id 201 loss 0.005750007461756468 train acc 0.9790334044065377\n",
      "epoch 53 batch id 401 loss 0.10848063230514526 train acc 0.9812967581047362\n",
      "epoch 53 batch id 601 loss 0.05739152058959007 train acc 0.9809840741621084\n",
      "epoch 53 train acc 0.9810152922957772\n"
     ]
    },
    {
     "data": {
      "application/vnd.jupyter.widget-view+json": {
       "model_id": "ac6d875daa5a41e8905b136ce3b7b345",
       "version_major": 2,
       "version_minor": 0
      },
      "text/plain": [
       "  0%|          | 0/95 [00:00<?, ?it/s]"
      ]
     },
     "metadata": {},
     "output_type": "display_data"
    },
    {
     "name": "stdout",
     "output_type": "stream",
     "text": [
      "epoch 53 test acc 0.5553408110440036\n"
     ]
    },
    {
     "data": {
      "application/vnd.jupyter.widget-view+json": {
       "model_id": "e3067b327e8e498b8da9d76bee9ae40a",
       "version_major": 2,
       "version_minor": 0
      },
      "text/plain": [
       "  0%|          | 0/738 [00:00<?, ?it/s]"
      ]
     },
     "metadata": {},
     "output_type": "display_data"
    },
    {
     "name": "stdout",
     "output_type": "stream",
     "text": [
      "epoch 54 batch id 1 loss 0.09508797526359558 train acc 0.9714285714285714\n",
      "epoch 54 batch id 201 loss 0.06391949951648712 train acc 0.980525941719971\n",
      "epoch 54 batch id 401 loss 0.042372751981019974 train acc 0.9813323833273947\n",
      "epoch 54 batch id 601 loss 0.061288390308618546 train acc 0.9805799857380534\n",
      "epoch 54 train acc 0.9810346496322071\n"
     ]
    },
    {
     "data": {
      "application/vnd.jupyter.widget-view+json": {
       "model_id": "e4324ec648d041f08ad15f28357fe4b7",
       "version_major": 2,
       "version_minor": 0
      },
      "text/plain": [
       "  0%|          | 0/95 [00:00<?, ?it/s]"
      ]
     },
     "metadata": {},
     "output_type": "display_data"
    },
    {
     "name": "stdout",
     "output_type": "stream",
     "text": [
      "epoch 54 test acc 0.523438925181807\n"
     ]
    },
    {
     "data": {
      "application/vnd.jupyter.widget-view+json": {
       "model_id": "f9618ff08cc64bf8af7d517826ff101d",
       "version_major": 2,
       "version_minor": 0
      },
      "text/plain": [
       "  0%|          | 0/738 [00:00<?, ?it/s]"
      ]
     },
     "metadata": {},
     "output_type": "display_data"
    },
    {
     "name": "stdout",
     "output_type": "stream",
     "text": [
      "epoch 55 batch id 1 loss 0.041924770921468735 train acc 0.9714285714285714\n",
      "epoch 55 batch id 201 loss 0.06634180247783661 train acc 0.9808102345415782\n",
      "epoch 55 batch id 401 loss 0.0019096153555437922 train acc 0.9821873886711783\n",
      "epoch 55 batch id 601 loss 0.038689352571964264 train acc 0.9819586403613011\n",
      "epoch 55 train acc 0.9814750290360017\n"
     ]
    },
    {
     "data": {
      "application/vnd.jupyter.widget-view+json": {
       "model_id": "0bf19db93ec34b45b7131412e03c8267",
       "version_major": 2,
       "version_minor": 0
      },
      "text/plain": [
       "  0%|          | 0/95 [00:00<?, ?it/s]"
      ]
     },
     "metadata": {},
     "output_type": "display_data"
    },
    {
     "name": "stdout",
     "output_type": "stream",
     "text": [
      "epoch 55 test acc 0.5253050659435473\n"
     ]
    },
    {
     "data": {
      "application/vnd.jupyter.widget-view+json": {
       "model_id": "98e0a1b1437b4cfeb3a27ba301eb28b2",
       "version_major": 2,
       "version_minor": 0
      },
      "text/plain": [
       "  0%|          | 0/738 [00:00<?, ?it/s]"
      ]
     },
     "metadata": {},
     "output_type": "display_data"
    },
    {
     "name": "stdout",
     "output_type": "stream",
     "text": [
      "epoch 56 batch id 1 loss 0.06649471819400787 train acc 0.9857142857142858\n",
      "epoch 56 batch id 201 loss 0.059743501245975494 train acc 0.9810234541577822\n",
      "epoch 56 batch id 401 loss 0.18515713512897491 train acc 0.9817242607766284\n",
      "epoch 56 batch id 601 loss 0.0028789055068045855 train acc 0.9818160209175165\n",
      "epoch 56 train acc 0.9821331784746388\n"
     ]
    },
    {
     "data": {
      "application/vnd.jupyter.widget-view+json": {
       "model_id": "491835600c064743ae9f08098a3d2eb3",
       "version_major": 2,
       "version_minor": 0
      },
      "text/plain": [
       "  0%|          | 0/95 [00:00<?, ?it/s]"
      ]
     },
     "metadata": {},
     "output_type": "display_data"
    },
    {
     "name": "stdout",
     "output_type": "stream",
     "text": [
      "epoch 56 test acc 0.516716381116726\n"
     ]
    },
    {
     "data": {
      "application/vnd.jupyter.widget-view+json": {
       "model_id": "eb4d3c8816da4e418a5822496c2abe6d",
       "version_major": 2,
       "version_minor": 0
      },
      "text/plain": [
       "  0%|          | 0/738 [00:00<?, ?it/s]"
      ]
     },
     "metadata": {},
     "output_type": "display_data"
    },
    {
     "name": "stdout",
     "output_type": "stream",
     "text": [
      "epoch 57 batch id 1 loss 0.01272028498351574 train acc 1.0\n",
      "epoch 57 batch id 201 loss 0.05662216991186142 train acc 0.9793176972281452\n",
      "epoch 57 batch id 401 loss 0.008015547879040241 train acc 0.981189882436764\n",
      "epoch 57 batch id 601 loss 0.0503387413918972 train acc 0.9817209412883271\n",
      "epoch 57 train acc 0.9818476577622892\n"
     ]
    },
    {
     "data": {
      "application/vnd.jupyter.widget-view+json": {
       "model_id": "e7e7ef594dde4b07b0ab44f2babe1f86",
       "version_major": 2,
       "version_minor": 0
      },
      "text/plain": [
       "  0%|          | 0/95 [00:00<?, ?it/s]"
      ]
     },
     "metadata": {},
     "output_type": "display_data"
    },
    {
     "name": "stdout",
     "output_type": "stream",
     "text": [
      "epoch 57 test acc 0.5289362751140142\n"
     ]
    },
    {
     "data": {
      "application/vnd.jupyter.widget-view+json": {
       "model_id": "1cfd2b39ec054e23964aa9418d9291ba",
       "version_major": 2,
       "version_minor": 0
      },
      "text/plain": [
       "  0%|          | 0/738 [00:00<?, ?it/s]"
      ]
     },
     "metadata": {},
     "output_type": "display_data"
    },
    {
     "name": "stdout",
     "output_type": "stream",
     "text": [
      "epoch 58 batch id 1 loss 0.009887454099953175 train acc 1.0\n",
      "epoch 58 batch id 201 loss 0.15132111310958862 train acc 0.9814498933901912\n",
      "epoch 58 batch id 401 loss 0.1172633022069931 train acc 0.983683648022799\n",
      "epoch 58 batch id 601 loss 0.09141596406698227 train acc 0.9830758260042763\n",
      "epoch 58 train acc 0.9838414634146303\n"
     ]
    },
    {
     "data": {
      "application/vnd.jupyter.widget-view+json": {
       "model_id": "de5923f960aa4bb0960431d131644e03",
       "version_major": 2,
       "version_minor": 0
      },
      "text/plain": [
       "  0%|          | 0/95 [00:00<?, ?it/s]"
      ]
     },
     "metadata": {},
     "output_type": "display_data"
    },
    {
     "name": "stdout",
     "output_type": "stream",
     "text": [
      "epoch 58 test acc 0.5161765068408725\n"
     ]
    },
    {
     "data": {
      "application/vnd.jupyter.widget-view+json": {
       "model_id": "046d42f5cbba4399a003d0fffd4abae6",
       "version_major": 2,
       "version_minor": 0
      },
      "text/plain": [
       "  0%|          | 0/738 [00:00<?, ?it/s]"
      ]
     },
     "metadata": {},
     "output_type": "display_data"
    },
    {
     "name": "stdout",
     "output_type": "stream",
     "text": [
      "epoch 59 batch id 1 loss 0.02574065700173378 train acc 0.9857142857142858\n",
      "epoch 59 batch id 201 loss 0.07336292415857315 train acc 0.9813788201847901\n",
      "epoch 59 batch id 401 loss 0.037724804133176804 train acc 0.9839686498040598\n",
      "epoch 59 batch id 601 loss 0.011971905827522278 train acc 0.983551224150223\n",
      "epoch 59 train acc 0.9839914827719666\n"
     ]
    },
    {
     "data": {
      "application/vnd.jupyter.widget-view+json": {
       "model_id": "66a599d478a94d939dc7798177c2c62c",
       "version_major": 2,
       "version_minor": 0
      },
      "text/plain": [
       "  0%|          | 0/95 [00:00<?, ?it/s]"
      ]
     },
     "metadata": {},
     "output_type": "display_data"
    },
    {
     "name": "stdout",
     "output_type": "stream",
     "text": [
      "epoch 59 test acc 0.5562874399112534\n"
     ]
    },
    {
     "data": {
      "application/vnd.jupyter.widget-view+json": {
       "model_id": "5081d9206d1840738aca868647b459a4",
       "version_major": 2,
       "version_minor": 0
      },
      "text/plain": [
       "  0%|          | 0/738 [00:00<?, ?it/s]"
      ]
     },
     "metadata": {},
     "output_type": "display_data"
    },
    {
     "name": "stdout",
     "output_type": "stream",
     "text": [
      "epoch 60 batch id 1 loss 0.2523212730884552 train acc 0.9571428571428572\n",
      "epoch 60 batch id 201 loss 0.03626567870378494 train acc 0.9844349680170574\n",
      "epoch 60 batch id 401 loss 0.28080642223358154 train acc 0.9847167794798706\n",
      "epoch 60 batch id 601 loss 0.0044405278749763966 train acc 0.9843594009983344\n",
      "epoch 60 train acc 0.9843786295005779\n"
     ]
    },
    {
     "data": {
      "application/vnd.jupyter.widget-view+json": {
       "model_id": "988f718ea7804c0d82ad465e92696009",
       "version_major": 2,
       "version_minor": 0
      },
      "text/plain": [
       "  0%|          | 0/95 [00:00<?, ?it/s]"
      ]
     },
     "metadata": {},
     "output_type": "display_data"
    },
    {
     "name": "stdout",
     "output_type": "stream",
     "text": [
      "epoch 60 test acc 0.5222531739184023\n"
     ]
    },
    {
     "data": {
      "application/vnd.jupyter.widget-view+json": {
       "model_id": "5f48fc23acac460cb36fd27206198894",
       "version_major": 2,
       "version_minor": 0
      },
      "text/plain": [
       "  0%|          | 0/738 [00:00<?, ?it/s]"
      ]
     },
     "metadata": {},
     "output_type": "display_data"
    },
    {
     "name": "stdout",
     "output_type": "stream",
     "text": [
      "epoch 61 batch id 1 loss 0.06945854425430298 train acc 0.9857142857142858\n",
      "epoch 61 batch id 201 loss 0.0030415612272918224 train acc 0.9840796019900495\n",
      "epoch 61 batch id 401 loss 0.03438808396458626 train acc 0.984823655147843\n",
      "epoch 61 batch id 601 loss 0.03649664670228958 train acc 0.9842167815545493\n",
      "epoch 61 train acc 0.9840495547812586\n"
     ]
    },
    {
     "data": {
      "application/vnd.jupyter.widget-view+json": {
       "model_id": "781e8de3d9ec4a2ab95945a8b75da368",
       "version_major": 2,
       "version_minor": 0
      },
      "text/plain": [
       "  0%|          | 0/95 [00:00<?, ?it/s]"
      ]
     },
     "metadata": {},
     "output_type": "display_data"
    },
    {
     "name": "stdout",
     "output_type": "stream",
     "text": [
      "epoch 61 test acc 0.5389276469863182\n"
     ]
    },
    {
     "data": {
      "application/vnd.jupyter.widget-view+json": {
       "model_id": "3ae586422c664c4690ea9aa87c94246f",
       "version_major": 2,
       "version_minor": 0
      },
      "text/plain": [
       "  0%|          | 0/738 [00:00<?, ?it/s]"
      ]
     },
     "metadata": {},
     "output_type": "display_data"
    },
    {
     "name": "stdout",
     "output_type": "stream",
     "text": [
      "epoch 62 batch id 1 loss 0.016240809112787247 train acc 1.0\n",
      "epoch 62 batch id 201 loss 0.2088446170091629 train acc 0.984648187633262\n",
      "epoch 62 batch id 401 loss 0.09100762754678726 train acc 0.9851442821517622\n",
      "epoch 62 batch id 601 loss 0.159113347530365 train acc 0.9847872593296862\n",
      "epoch 62 train acc 0.9854239256678246\n"
     ]
    },
    {
     "data": {
      "application/vnd.jupyter.widget-view+json": {
       "model_id": "86e34fcfac6c431fba20f6680be21aed",
       "version_major": 2,
       "version_minor": 0
      },
      "text/plain": [
       "  0%|          | 0/95 [00:00<?, ?it/s]"
      ]
     },
     "metadata": {},
     "output_type": "display_data"
    },
    {
     "name": "stdout",
     "output_type": "stream",
     "text": [
      "epoch 62 test acc 0.5546111179588316\n"
     ]
    },
    {
     "data": {
      "application/vnd.jupyter.widget-view+json": {
       "model_id": "8daf2130a0204b9aa44843a16c3a7d05",
       "version_major": 2,
       "version_minor": 0
      },
      "text/plain": [
       "  0%|          | 0/738 [00:00<?, ?it/s]"
      ]
     },
     "metadata": {},
     "output_type": "display_data"
    },
    {
     "name": "stdout",
     "output_type": "stream",
     "text": [
      "epoch 63 batch id 1 loss 0.0004620252875611186 train acc 1.0\n",
      "epoch 63 batch id 201 loss 0.02245001122355461 train acc 0.9856432125088841\n",
      "epoch 63 batch id 401 loss 0.033947866410017014 train acc 0.9866049162807252\n",
      "epoch 63 batch id 601 loss 0.004452516324818134 train acc 0.9848347991442806\n",
      "epoch 63 train acc 0.9850416182733209\n"
     ]
    },
    {
     "data": {
      "application/vnd.jupyter.widget-view+json": {
       "model_id": "17b94a336e8848d4b0b21d604f213fc2",
       "version_major": 2,
       "version_minor": 0
      },
      "text/plain": [
       "  0%|          | 0/95 [00:00<?, ?it/s]"
      ]
     },
     "metadata": {},
     "output_type": "display_data"
    },
    {
     "name": "stdout",
     "output_type": "stream",
     "text": [
      "epoch 63 test acc 0.5302502157031922\n"
     ]
    },
    {
     "data": {
      "application/vnd.jupyter.widget-view+json": {
       "model_id": "cf10b2665703417f844796de5ffa78b9",
       "version_major": 2,
       "version_minor": 0
      },
      "text/plain": [
       "  0%|          | 0/738 [00:00<?, ?it/s]"
      ]
     },
     "metadata": {},
     "output_type": "display_data"
    },
    {
     "name": "stdout",
     "output_type": "stream",
     "text": [
      "epoch 64 batch id 1 loss 0.0682479739189148 train acc 0.9571428571428572\n",
      "epoch 64 batch id 201 loss 0.10679023712873459 train acc 0.9852167732764749\n",
      "epoch 64 batch id 401 loss 0.0020684467162936926 train acc 0.9858567866049148\n",
      "epoch 64 batch id 601 loss 0.09047212451696396 train acc 0.9846446398859028\n",
      "epoch 64 train acc 0.9849012775842015\n"
     ]
    },
    {
     "data": {
      "application/vnd.jupyter.widget-view+json": {
       "model_id": "20c3416f62c94be8be96cf604d7c473b",
       "version_major": 2,
       "version_minor": 0
      },
      "text/plain": [
       "  0%|          | 0/95 [00:00<?, ?it/s]"
      ]
     },
     "metadata": {},
     "output_type": "display_data"
    },
    {
     "name": "stdout",
     "output_type": "stream",
     "text": [
      "epoch 64 test acc 0.5339874275853567\n"
     ]
    },
    {
     "data": {
      "application/vnd.jupyter.widget-view+json": {
       "model_id": "0a6ff3723e71449299b3c82ffc065141",
       "version_major": 2,
       "version_minor": 0
      },
      "text/plain": [
       "  0%|          | 0/738 [00:00<?, ?it/s]"
      ]
     },
     "metadata": {},
     "output_type": "display_data"
    },
    {
     "name": "stdout",
     "output_type": "stream",
     "text": [
      "epoch 65 batch id 1 loss 0.0025840161833912134 train acc 1.0\n",
      "epoch 65 batch id 201 loss 0.13259989023208618 train acc 0.9850746268656716\n",
      "epoch 65 batch id 401 loss 0.1040731891989708 train acc 0.986177413608834\n",
      "epoch 65 batch id 601 loss 0.0010416361037641764 train acc 0.9858331352507697\n",
      "epoch 65 train acc 0.985578784359268\n"
     ]
    },
    {
     "data": {
      "application/vnd.jupyter.widget-view+json": {
       "model_id": "c35808ab824f48bf933164281bc61b99",
       "version_major": 2,
       "version_minor": 0
      },
      "text/plain": [
       "  0%|          | 0/95 [00:00<?, ?it/s]"
      ]
     },
     "metadata": {},
     "output_type": "display_data"
    },
    {
     "name": "stdout",
     "output_type": "stream",
     "text": [
      "epoch 65 test acc 0.5253494391716996\n"
     ]
    },
    {
     "data": {
      "application/vnd.jupyter.widget-view+json": {
       "model_id": "4492b7ea05824d59bed9fb0cc7b06111",
       "version_major": 2,
       "version_minor": 0
      },
      "text/plain": [
       "  0%|          | 0/738 [00:00<?, ?it/s]"
      ]
     },
     "metadata": {},
     "output_type": "display_data"
    },
    {
     "name": "stdout",
     "output_type": "stream",
     "text": [
      "epoch 66 batch id 1 loss 0.003367586061358452 train acc 1.0\n",
      "epoch 66 batch id 201 loss 0.0009918982395902276 train acc 0.986638237384506\n",
      "epoch 66 batch id 401 loss 0.01287190243601799 train acc 0.9867474171713555\n",
      "epoch 66 batch id 601 loss 0.017014030367136 train acc 0.9862372236748261\n",
      "epoch 66 train acc 0.9863143631436285\n"
     ]
    },
    {
     "data": {
      "application/vnd.jupyter.widget-view+json": {
       "model_id": "0b4a877ed2c04e488f2c6684c938b894",
       "version_major": 2,
       "version_minor": 0
      },
      "text/plain": [
       "  0%|          | 0/95 [00:00<?, ?it/s]"
      ]
     },
     "metadata": {},
     "output_type": "display_data"
    },
    {
     "name": "stdout",
     "output_type": "stream",
     "text": [
      "epoch 66 test acc 0.5080783927030693\n"
     ]
    },
    {
     "data": {
      "application/vnd.jupyter.widget-view+json": {
       "model_id": "4aefa1ca3abc4d10b71f1696d9c475b9",
       "version_major": 2,
       "version_minor": 0
      },
      "text/plain": [
       "  0%|          | 0/738 [00:00<?, ?it/s]"
      ]
     },
     "metadata": {},
     "output_type": "display_data"
    },
    {
     "name": "stdout",
     "output_type": "stream",
     "text": [
      "epoch 67 batch id 1 loss 0.008372667245566845 train acc 1.0\n",
      "epoch 67 batch id 201 loss 0.004888283088803291 train acc 0.982942430703625\n",
      "epoch 67 batch id 401 loss 0.003647595178335905 train acc 0.9852155325970777\n",
      "epoch 67 batch id 601 loss 0.03944798931479454 train acc 0.9847159496077941\n",
      "epoch 67 train acc 0.9853174603174565\n"
     ]
    },
    {
     "data": {
      "application/vnd.jupyter.widget-view+json": {
       "model_id": "69305d2f42e74e4ea3ad677de5e89c2a",
       "version_major": 2,
       "version_minor": 0
      },
      "text/plain": [
       "  0%|          | 0/95 [00:00<?, ?it/s]"
      ]
     },
     "metadata": {},
     "output_type": "display_data"
    },
    {
     "name": "stdout",
     "output_type": "stream",
     "text": [
      "epoch 67 test acc 0.5540761740416613\n"
     ]
    },
    {
     "data": {
      "application/vnd.jupyter.widget-view+json": {
       "model_id": "5c1ba95123a6477c8e23a39e27e19cf4",
       "version_major": 2,
       "version_minor": 0
      },
      "text/plain": [
       "  0%|          | 0/738 [00:00<?, ?it/s]"
      ]
     },
     "metadata": {},
     "output_type": "display_data"
    },
    {
     "name": "stdout",
     "output_type": "stream",
     "text": [
      "epoch 68 batch id 1 loss 0.06593161821365356 train acc 0.9857142857142858\n",
      "epoch 68 batch id 201 loss 0.010909083299338818 train acc 0.9860696517412935\n",
      "epoch 68 batch id 401 loss 0.19005326926708221 train acc 0.9877092981831117\n",
      "epoch 68 batch id 601 loss 0.038980353623628616 train acc 0.9873306394105038\n",
      "epoch 68 train acc 0.9875387146728574\n"
     ]
    },
    {
     "data": {
      "application/vnd.jupyter.widget-view+json": {
       "model_id": "c3c15fdf9f5a4de685ec1affb68db8e4",
       "version_major": 2,
       "version_minor": 0
      },
      "text/plain": [
       "  0%|          | 0/95 [00:00<?, ?it/s]"
      ]
     },
     "metadata": {},
     "output_type": "display_data"
    },
    {
     "name": "stdout",
     "output_type": "stream",
     "text": [
      "epoch 68 test acc 0.5485344508813015\n"
     ]
    },
    {
     "data": {
      "application/vnd.jupyter.widget-view+json": {
       "model_id": "b2a879a6795a420db376232cb383b301",
       "version_major": 2,
       "version_minor": 0
      },
      "text/plain": [
       "  0%|          | 0/738 [00:00<?, ?it/s]"
      ]
     },
     "metadata": {},
     "output_type": "display_data"
    },
    {
     "name": "stdout",
     "output_type": "stream",
     "text": [
      "epoch 69 batch id 1 loss 0.14292672276496887 train acc 0.9285714285714286\n",
      "epoch 69 batch id 201 loss 0.03736184537410736 train acc 0.9854299928926796\n",
      "epoch 69 batch id 401 loss 0.045837197452783585 train acc 0.9872461702885632\n",
      "epoch 69 batch id 601 loss 0.019539961591362953 train acc 0.9867839315426646\n",
      "epoch 69 train acc 0.9869386372435118\n"
     ]
    },
    {
     "data": {
      "application/vnd.jupyter.widget-view+json": {
       "model_id": "aa9685ade18049699b2e3117f2d5fd3e",
       "version_major": 2,
       "version_minor": 0
      },
      "text/plain": [
       "  0%|          | 0/95 [00:00<?, ?it/s]"
      ]
     },
     "metadata": {},
     "output_type": "display_data"
    },
    {
     "name": "stdout",
     "output_type": "stream",
     "text": [
      "epoch 69 test acc 0.5691975841242448\n"
     ]
    },
    {
     "data": {
      "application/vnd.jupyter.widget-view+json": {
       "model_id": "8a7e9dba50bc4079b3c42727c51948ff",
       "version_major": 2,
       "version_minor": 0
      },
      "text/plain": [
       "  0%|          | 0/738 [00:00<?, ?it/s]"
      ]
     },
     "metadata": {},
     "output_type": "display_data"
    },
    {
     "name": "stdout",
     "output_type": "stream",
     "text": [
      "epoch 70 batch id 1 loss 0.03177536278963089 train acc 0.9857142857142858\n",
      "epoch 70 batch id 201 loss 0.029486536979675293 train acc 0.9865671641791045\n",
      "epoch 70 batch id 401 loss 0.0019024667562916875 train acc 0.9870680441752745\n",
      "epoch 70 batch id 601 loss 0.027822220697999 train acc 0.9865224625623933\n",
      "epoch 70 train acc 0.9868757259001116\n"
     ]
    },
    {
     "data": {
      "application/vnd.jupyter.widget-view+json": {
       "model_id": "12d1959ca63042b3b60bc6558d675486",
       "version_major": 2,
       "version_minor": 0
      },
      "text/plain": [
       "  0%|          | 0/95 [00:00<?, ?it/s]"
      ]
     },
     "metadata": {},
     "output_type": "display_data"
    },
    {
     "name": "stdout",
     "output_type": "stream",
     "text": [
      "epoch 70 test acc 0.557897202021447\n"
     ]
    },
    {
     "data": {
      "application/vnd.jupyter.widget-view+json": {
       "model_id": "e129c773801343ba96ac7f4e77241447",
       "version_major": 2,
       "version_minor": 0
      },
      "text/plain": [
       "  0%|          | 0/738 [00:00<?, ?it/s]"
      ]
     },
     "metadata": {},
     "output_type": "display_data"
    },
    {
     "name": "stdout",
     "output_type": "stream",
     "text": [
      "epoch 71 batch id 1 loss 0.0011764330556616187 train acc 1.0\n",
      "epoch 71 batch id 201 loss 0.020171424373984337 train acc 0.9892679459843645\n",
      "epoch 71 batch id 401 loss 0.04107695072889328 train acc 0.9887780548628422\n",
      "epoch 71 batch id 601 loss 0.0558871254324913 train acc 0.9879248870929379\n",
      "epoch 71 train acc 0.9878629500580682\n"
     ]
    },
    {
     "data": {
      "application/vnd.jupyter.widget-view+json": {
       "model_id": "7ac8522b9d4c4acdb6b1e1355f6fc97f",
       "version_major": 2,
       "version_minor": 0
      },
      "text/plain": [
       "  0%|          | 0/95 [00:00<?, ?it/s]"
      ]
     },
     "metadata": {},
     "output_type": "display_data"
    },
    {
     "name": "stdout",
     "output_type": "stream",
     "text": [
      "epoch 71 test acc 0.5357475656353997\n"
     ]
    },
    {
     "data": {
      "application/vnd.jupyter.widget-view+json": {
       "model_id": "bab838a8296747e382913feb231d3771",
       "version_major": 2,
       "version_minor": 0
      },
      "text/plain": [
       "  0%|          | 0/738 [00:00<?, ?it/s]"
      ]
     },
     "metadata": {},
     "output_type": "display_data"
    },
    {
     "name": "stdout",
     "output_type": "stream",
     "text": [
      "epoch 72 batch id 1 loss 0.000808822107501328 train acc 1.0\n",
      "epoch 72 batch id 201 loss 0.0683923289179802 train acc 0.9869225302061121\n",
      "epoch 72 batch id 401 loss 0.05807309225201607 train acc 0.9879942999643736\n",
      "epoch 72 batch id 601 loss 0.006009768228977919 train acc 0.9882338958878034\n",
      "epoch 72 train acc 0.9885791715059971\n"
     ]
    },
    {
     "data": {
      "application/vnd.jupyter.widget-view+json": {
       "model_id": "5c146446e5ca40828c233d928f4c2a40",
       "version_major": 2,
       "version_minor": 0
      },
      "text/plain": [
       "  0%|          | 0/95 [00:00<?, ?it/s]"
      ]
     },
     "metadata": {},
     "output_type": "display_data"
    },
    {
     "name": "stdout",
     "output_type": "stream",
     "text": [
      "epoch 72 test acc 0.5463182546530257\n"
     ]
    },
    {
     "data": {
      "application/vnd.jupyter.widget-view+json": {
       "model_id": "98aeaddf45c5451993ec206764f3ed70",
       "version_major": 2,
       "version_minor": 0
      },
      "text/plain": [
       "  0%|          | 0/738 [00:00<?, ?it/s]"
      ]
     },
     "metadata": {},
     "output_type": "display_data"
    },
    {
     "name": "stdout",
     "output_type": "stream",
     "text": [
      "epoch 73 batch id 1 loss 0.011045686900615692 train acc 0.9857142857142858\n",
      "epoch 73 batch id 201 loss 0.06805878132581711 train acc 0.9872778962331199\n",
      "epoch 73 batch id 401 loss 0.016281573101878166 train acc 0.9883149269682918\n",
      "epoch 73 batch id 601 loss 0.0034083109349012375 train acc 0.9879961968148301\n",
      "epoch 73 train acc 0.988269454123109\n"
     ]
    },
    {
     "data": {
      "application/vnd.jupyter.widget-view+json": {
       "model_id": "5436ea1f52ac4b6baaedf4abc330beea",
       "version_major": 2,
       "version_minor": 0
      },
      "text/plain": [
       "  0%|          | 0/95 [00:00<?, ?it/s]"
      ]
     },
     "metadata": {},
     "output_type": "display_data"
    },
    {
     "name": "stdout",
     "output_type": "stream",
     "text": [
      "epoch 73 test acc 0.5517712313570812\n"
     ]
    },
    {
     "data": {
      "application/vnd.jupyter.widget-view+json": {
       "model_id": "b18b1b782634463fb701363d0823d1fa",
       "version_major": 2,
       "version_minor": 0
      },
      "text/plain": [
       "  0%|          | 0/738 [00:00<?, ?it/s]"
      ]
     },
     "metadata": {},
     "output_type": "display_data"
    },
    {
     "name": "stdout",
     "output_type": "stream",
     "text": [
      "epoch 74 batch id 1 loss 0.0033865368459373713 train acc 1.0\n",
      "epoch 74 batch id 201 loss 0.0036042132414877415 train acc 0.986638237384506\n",
      "epoch 74 batch id 401 loss 0.046495769172906876 train acc 0.9881368008550043\n",
      "epoch 74 batch id 601 loss 0.0072257942520082 train acc 0.9882338958878036\n",
      "epoch 74 train acc 0.9882162214479251\n"
     ]
    },
    {
     "data": {
      "application/vnd.jupyter.widget-view+json": {
       "model_id": "cf28305773c74d0d92b7f7b9fdd39f66",
       "version_major": 2,
       "version_minor": 0
      },
      "text/plain": [
       "  0%|          | 0/95 [00:00<?, ?it/s]"
      ]
     },
     "metadata": {},
     "output_type": "display_data"
    },
    {
     "name": "stdout",
     "output_type": "stream",
     "text": [
      "epoch 74 test acc 0.5690028349562432\n"
     ]
    },
    {
     "data": {
      "application/vnd.jupyter.widget-view+json": {
       "model_id": "6ed821c21b084389922b911980eac607",
       "version_major": 2,
       "version_minor": 0
      },
      "text/plain": [
       "  0%|          | 0/738 [00:00<?, ?it/s]"
      ]
     },
     "metadata": {},
     "output_type": "display_data"
    },
    {
     "name": "stdout",
     "output_type": "stream",
     "text": [
      "epoch 75 batch id 1 loss 0.04525989666581154 train acc 0.9857142857142858\n",
      "epoch 75 batch id 201 loss 0.027811530977487564 train acc 0.9881307746979386\n",
      "epoch 75 batch id 401 loss 0.022521739825606346 train acc 0.9888493053081572\n",
      "epoch 75 batch id 601 loss 0.0014668878866359591 train acc 0.9890896125505078\n",
      "epoch 75 train acc 0.9891598915989113\n"
     ]
    },
    {
     "data": {
      "application/vnd.jupyter.widget-view+json": {
       "model_id": "0a5f6b5874c74dfbaa4976fe15936f58",
       "version_major": 2,
       "version_minor": 0
      },
      "text/plain": [
       "  0%|          | 0/95 [00:00<?, ?it/s]"
      ]
     },
     "metadata": {},
     "output_type": "display_data"
    },
    {
     "name": "stdout",
     "output_type": "stream",
     "text": [
      "epoch 75 test acc 0.5775077036854432\n"
     ]
    },
    {
     "data": {
      "application/vnd.jupyter.widget-view+json": {
       "model_id": "692c7ad99e354ad6b3479b73d27d9af1",
       "version_major": 2,
       "version_minor": 0
      },
      "text/plain": [
       "  0%|          | 0/738 [00:00<?, ?it/s]"
      ]
     },
     "metadata": {},
     "output_type": "display_data"
    },
    {
     "name": "stdout",
     "output_type": "stream",
     "text": [
      "epoch 76 batch id 1 loss 0.0009885128820315003 train acc 1.0\n",
      "epoch 76 batch id 201 loss 0.0034619534853845835 train acc 0.9893390191897661\n",
      "epoch 76 batch id 401 loss 0.03571261838078499 train acc 0.9895261845386526\n",
      "epoch 76 batch id 601 loss 0.06640928238630295 train acc 0.9891133824578059\n",
      "epoch 76 train acc 0.9891986062717734\n"
     ]
    },
    {
     "data": {
      "application/vnd.jupyter.widget-view+json": {
       "model_id": "ca2f4089ba0545b987234cad076ef38b",
       "version_major": 2,
       "version_minor": 0
      },
      "text/plain": [
       "  0%|          | 0/95 [00:00<?, ?it/s]"
      ]
     },
     "metadata": {},
     "output_type": "display_data"
    },
    {
     "name": "stdout",
     "output_type": "stream",
     "text": [
      "epoch 76 test acc 0.5758535683470973\n"
     ]
    },
    {
     "data": {
      "application/vnd.jupyter.widget-view+json": {
       "model_id": "b1a2d49b602e49f5bc509a21c98ad617",
       "version_major": 2,
       "version_minor": 0
      },
      "text/plain": [
       "  0%|          | 0/738 [00:00<?, ?it/s]"
      ]
     },
     "metadata": {},
     "output_type": "display_data"
    },
    {
     "name": "stdout",
     "output_type": "stream",
     "text": [
      "epoch 77 batch id 1 loss 0.07169411331415176 train acc 0.9857142857142858\n",
      "epoch 77 batch id 201 loss 0.012572492472827435 train acc 0.9891257995735607\n",
      "epoch 77 batch id 401 loss 0.013310562819242477 train acc 0.9894905593159947\n",
      "epoch 77 batch id 601 loss 0.0633753314614296 train acc 0.988709294033751\n",
      "epoch 77 train acc 0.989295392953926\n"
     ]
    },
    {
     "data": {
      "application/vnd.jupyter.widget-view+json": {
       "model_id": "a7d46d82c2eb4a6f9426309e95e08584",
       "version_major": 2,
       "version_minor": 0
      },
      "text/plain": [
       "  0%|          | 0/95 [00:00<?, ?it/s]"
      ]
     },
     "metadata": {},
     "output_type": "display_data"
    },
    {
     "name": "stdout",
     "output_type": "stream",
     "text": [
      "epoch 77 test acc 0.5567607543448786\n"
     ]
    },
    {
     "data": {
      "application/vnd.jupyter.widget-view+json": {
       "model_id": "dbcf57ca0ea2458f87cb24dc8a4d41bb",
       "version_major": 2,
       "version_minor": 0
      },
      "text/plain": [
       "  0%|          | 0/738 [00:00<?, ?it/s]"
      ]
     },
     "metadata": {},
     "output_type": "display_data"
    },
    {
     "name": "stdout",
     "output_type": "stream",
     "text": [
      "epoch 78 batch id 1 loss 0.0065321531146764755 train acc 1.0\n",
      "epoch 78 batch id 201 loss 0.05596936121582985 train acc 0.9887704335465531\n",
      "epoch 78 batch id 401 loss 0.08130210638046265 train acc 0.9897755610972558\n",
      "epoch 78 batch id 601 loss 0.11015043407678604 train acc 0.9897551699548344\n",
      "epoch 78 train acc 0.9900551684088233\n"
     ]
    },
    {
     "data": {
      "application/vnd.jupyter.widget-view+json": {
       "model_id": "702a3e18e4694cecb4bad557cc11be79",
       "version_major": 2,
       "version_minor": 0
      },
      "text/plain": [
       "  0%|          | 0/95 [00:00<?, ?it/s]"
      ]
     },
     "metadata": {},
     "output_type": "display_data"
    },
    {
     "name": "stdout",
     "output_type": "stream",
     "text": [
      "epoch 78 test acc 0.5605595957105879\n"
     ]
    },
    {
     "data": {
      "application/vnd.jupyter.widget-view+json": {
       "model_id": "9f014c9e60fa45939c92ca90563b0937",
       "version_major": 2,
       "version_minor": 0
      },
      "text/plain": [
       "  0%|          | 0/738 [00:00<?, ?it/s]"
      ]
     },
     "metadata": {},
     "output_type": "display_data"
    },
    {
     "name": "stdout",
     "output_type": "stream",
     "text": [
      "epoch 79 batch id 1 loss 0.039018429815769196 train acc 0.9857142857142858\n",
      "epoch 79 batch id 201 loss 0.007907845079898834 train acc 0.9899786780383797\n",
      "epoch 79 batch id 401 loss 0.06266738474369049 train acc 0.9905236907730663\n",
      "epoch 79 batch id 601 loss 0.00302584539167583 train acc 0.9902543380080793\n",
      "epoch 79 train acc 0.9901664730932985\n"
     ]
    },
    {
     "data": {
      "application/vnd.jupyter.widget-view+json": {
       "model_id": "2dd39db20be34efb9bf16846352d4414",
       "version_major": 2,
       "version_minor": 0
      },
      "text/plain": [
       "  0%|          | 0/95 [00:00<?, ?it/s]"
      ]
     },
     "metadata": {},
     "output_type": "display_data"
    },
    {
     "name": "stdout",
     "output_type": "stream",
     "text": [
      "epoch 79 test acc 0.5761370639714036\n"
     ]
    },
    {
     "data": {
      "application/vnd.jupyter.widget-view+json": {
       "model_id": "e75de8fde192490381875e3debd8211c",
       "version_major": 2,
       "version_minor": 0
      },
      "text/plain": [
       "  0%|          | 0/738 [00:00<?, ?it/s]"
      ]
     },
     "metadata": {},
     "output_type": "display_data"
    },
    {
     "name": "stdout",
     "output_type": "stream",
     "text": [
      "epoch 80 batch id 1 loss 0.003946214448660612 train acc 1.0\n",
      "epoch 80 batch id 201 loss 0.010879366658627987 train acc 0.9891257995735612\n",
      "epoch 80 batch id 401 loss 0.05145573243498802 train acc 0.9893836836480212\n",
      "epoch 80 batch id 601 loss 0.011098792776465416 train acc 0.9899690991205106\n",
      "epoch 80 train acc 0.9901664730932983\n"
     ]
    },
    {
     "data": {
      "application/vnd.jupyter.widget-view+json": {
       "model_id": "dd54698deffc429abe1c540790634d27",
       "version_major": 2,
       "version_minor": 0
      },
      "text/plain": [
       "  0%|          | 0/95 [00:00<?, ?it/s]"
      ]
     },
     "metadata": {},
     "output_type": "display_data"
    },
    {
     "name": "stdout",
     "output_type": "stream",
     "text": [
      "epoch 80 test acc 0.5549118698385305\n"
     ]
    },
    {
     "data": {
      "application/vnd.jupyter.widget-view+json": {
       "model_id": "81581f2cb5dc4be998a06d0dba5648f1",
       "version_major": 2,
       "version_minor": 0
      },
      "text/plain": [
       "  0%|          | 0/738 [00:00<?, ?it/s]"
      ]
     },
     "metadata": {},
     "output_type": "display_data"
    },
    {
     "name": "stdout",
     "output_type": "stream",
     "text": [
      "epoch 81 batch id 1 loss 0.0359012670814991 train acc 0.9714285714285714\n",
      "epoch 81 batch id 201 loss 0.0015880352584645152 train acc 0.9906894100923951\n",
      "epoch 81 batch id 401 loss 0.06988496333360672 train acc 0.9907730673316695\n",
      "epoch 81 batch id 601 loss 0.01903836615383625 train acc 0.9902781079153765\n",
      "epoch 81 train acc 0.9903987611304648\n"
     ]
    },
    {
     "data": {
      "application/vnd.jupyter.widget-view+json": {
       "model_id": "858ff56be9e94bedb3117b3e2a7c039d",
       "version_major": 2,
       "version_minor": 0
      },
      "text/plain": [
       "  0%|          | 0/95 [00:00<?, ?it/s]"
      ]
     },
     "metadata": {},
     "output_type": "display_data"
    },
    {
     "name": "stdout",
     "output_type": "stream",
     "text": [
      "epoch 81 test acc 0.5594847775175644\n"
     ]
    },
    {
     "data": {
      "application/vnd.jupyter.widget-view+json": {
       "model_id": "187c16a2449c4400a9abc4716af9b883",
       "version_major": 2,
       "version_minor": 0
      },
      "text/plain": [
       "  0%|          | 0/738 [00:00<?, ?it/s]"
      ]
     },
     "metadata": {},
     "output_type": "display_data"
    },
    {
     "name": "stdout",
     "output_type": "stream",
     "text": [
      "epoch 82 batch id 1 loss 0.0008326417882926762 train acc 1.0\n",
      "epoch 82 batch id 201 loss 0.0940178632736206 train acc 0.9910447761194037\n",
      "epoch 82 batch id 401 loss 0.124787837266922 train acc 0.9912718204488771\n",
      "epoch 82 batch id 601 loss 0.004895463585853577 train acc 0.9908485856905132\n",
      "epoch 82 train acc 0.9910085172280257\n"
     ]
    },
    {
     "data": {
      "application/vnd.jupyter.widget-view+json": {
       "model_id": "a027b7effc044bf8acf3aa71239e1042",
       "version_major": 2,
       "version_minor": 0
      },
      "text/plain": [
       "  0%|          | 0/95 [00:00<?, ?it/s]"
      ]
     },
     "metadata": {},
     "output_type": "display_data"
    },
    {
     "name": "stdout",
     "output_type": "stream",
     "text": [
      "epoch 82 test acc 0.5744163687908296\n"
     ]
    },
    {
     "data": {
      "application/vnd.jupyter.widget-view+json": {
       "model_id": "e561d2349d1b49f4b4b0ee2eb5b89995",
       "version_major": 2,
       "version_minor": 0
      },
      "text/plain": [
       "  0%|          | 0/738 [00:00<?, ?it/s]"
      ]
     },
     "metadata": {},
     "output_type": "display_data"
    },
    {
     "name": "stdout",
     "output_type": "stream",
     "text": [
      "epoch 83 batch id 1 loss 0.005026637110859156 train acc 1.0\n",
      "epoch 83 batch id 201 loss 0.05457713454961777 train acc 0.9905472636815922\n",
      "epoch 83 batch id 401 loss 0.0017119389958679676 train acc 0.9910224438902734\n",
      "epoch 83 batch id 601 loss 0.002624156652018428 train acc 0.9903731875445658\n",
      "epoch 83 train acc 0.9906116918312003\n"
     ]
    },
    {
     "data": {
      "application/vnd.jupyter.widget-view+json": {
       "model_id": "a6e41eb07f4d4865951ef362eaf5d90a",
       "version_major": 2,
       "version_minor": 0
      },
      "text/plain": [
       "  0%|          | 0/95 [00:00<?, ?it/s]"
      ]
     },
     "metadata": {},
     "output_type": "display_data"
    },
    {
     "name": "stdout",
     "output_type": "stream",
     "text": [
      "epoch 83 test acc 0.5730629853321827\n"
     ]
    },
    {
     "data": {
      "application/vnd.jupyter.widget-view+json": {
       "model_id": "d8e58a0b54c24be59dbc988cbba45d29",
       "version_major": 2,
       "version_minor": 0
      },
      "text/plain": [
       "  0%|          | 0/738 [00:00<?, ?it/s]"
      ]
     },
     "metadata": {},
     "output_type": "display_data"
    },
    {
     "name": "stdout",
     "output_type": "stream",
     "text": [
      "epoch 84 batch id 1 loss 0.0004401628393679857 train acc 1.0\n",
      "epoch 84 batch id 201 loss 0.014355061575770378 train acc 0.9909026297086003\n",
      "epoch 84 batch id 401 loss 0.002186798257753253 train acc 0.9909511934449581\n",
      "epoch 84 batch id 601 loss 0.057951170951128006 train acc 0.9912289042072713\n",
      "epoch 84 train acc 0.9914246999612819\n"
     ]
    },
    {
     "data": {
      "application/vnd.jupyter.widget-view+json": {
       "model_id": "eb9c6ab9b98c46d58f547f9f84739872",
       "version_major": 2,
       "version_minor": 0
      },
      "text/plain": [
       "  0%|          | 0/95 [00:00<?, ?it/s]"
      ]
     },
     "metadata": {},
     "output_type": "display_data"
    },
    {
     "name": "stdout",
     "output_type": "stream",
     "text": [
      "epoch 84 test acc 0.5753186244299274\n"
     ]
    },
    {
     "data": {
      "application/vnd.jupyter.widget-view+json": {
       "model_id": "eb56dca67640467b9b58b5da4258751f",
       "version_major": 2,
       "version_minor": 0
      },
      "text/plain": [
       "  0%|          | 0/738 [00:00<?, ?it/s]"
      ]
     },
     "metadata": {},
     "output_type": "display_data"
    },
    {
     "name": "stdout",
     "output_type": "stream",
     "text": [
      "epoch 85 batch id 1 loss 0.0057418495416641235 train acc 1.0\n",
      "epoch 85 batch id 201 loss 0.08054745942354202 train acc 0.9916844349680173\n",
      "epoch 85 batch id 401 loss 0.06695691496133804 train acc 0.9921268257926602\n",
      "epoch 85 batch id 601 loss 0.0010653430363163352 train acc 0.9913952935583527\n",
      "epoch 85 train acc 0.9912117692605464\n"
     ]
    },
    {
     "data": {
      "application/vnd.jupyter.widget-view+json": {
       "model_id": "f4c0198fbc774be18c4697bb3f84a00a",
       "version_major": 2,
       "version_minor": 0
      },
      "text/plain": [
       "  0%|          | 0/95 [00:00<?, ?it/s]"
      ]
     },
     "metadata": {},
     "output_type": "display_data"
    },
    {
     "name": "stdout",
     "output_type": "stream",
     "text": [
      "epoch 85 test acc 0.5777468260815973\n"
     ]
    },
    {
     "data": {
      "application/vnd.jupyter.widget-view+json": {
       "model_id": "a1fa930792c240be97b67f2ca1865dab",
       "version_major": 2,
       "version_minor": 0
      },
      "text/plain": [
       "  0%|          | 0/738 [00:00<?, ?it/s]"
      ]
     },
     "metadata": {},
     "output_type": "display_data"
    },
    {
     "name": "stdout",
     "output_type": "stream",
     "text": [
      "epoch 86 batch id 1 loss 0.10287415236234665 train acc 0.9857142857142858\n",
      "epoch 86 batch id 201 loss 0.005742756184190512 train acc 0.9913290689410093\n",
      "epoch 86 batch id 401 loss 0.0036532985977828503 train acc 0.991913074456714\n",
      "epoch 86 batch id 601 loss 0.0028644141275435686 train acc 0.9913715236510547\n",
      "epoch 86 train acc 0.9914246999612818\n"
     ]
    },
    {
     "data": {
      "application/vnd.jupyter.widget-view+json": {
       "model_id": "b1fcea85af6749bab2ab282e2d0cf083",
       "version_major": 2,
       "version_minor": 0
      },
      "text/plain": [
       "  0%|          | 0/95 [00:00<?, ?it/s]"
      ]
     },
     "metadata": {},
     "output_type": "display_data"
    },
    {
     "name": "stdout",
     "output_type": "stream",
     "text": [
      "epoch 86 test acc 0.5717096018735359\n"
     ]
    },
    {
     "data": {
      "application/vnd.jupyter.widget-view+json": {
       "model_id": "2507446fe8b949169e05bd1a9be561d5",
       "version_major": 2,
       "version_minor": 0
      },
      "text/plain": [
       "  0%|          | 0/738 [00:00<?, ?it/s]"
      ]
     },
     "metadata": {},
     "output_type": "display_data"
    },
    {
     "name": "stdout",
     "output_type": "stream",
     "text": [
      "epoch 87 batch id 1 loss 0.0681501254439354 train acc 0.9857142857142858\n",
      "epoch 87 batch id 201 loss 0.05679236724972725 train acc 0.9898365316275766\n",
      "epoch 87 batch id 401 loss 0.0005609191721305251 train acc 0.9910580691129309\n",
      "epoch 87 batch id 601 loss 0.001808881526812911 train acc 0.9908485856905134\n",
      "epoch 87 train acc 0.9912940379403757\n"
     ]
    },
    {
     "data": {
      "application/vnd.jupyter.widget-view+json": {
       "model_id": "b457ce6295c44d5da135378c9ba227f9",
       "version_major": 2,
       "version_minor": 0
      },
      "text/plain": [
       "  0%|          | 0/95 [00:00<?, ?it/s]"
      ]
     },
     "metadata": {},
     "output_type": "display_data"
    },
    {
     "name": "stdout",
     "output_type": "stream",
     "text": [
      "epoch 87 test acc 0.5715814125477627\n"
     ]
    },
    {
     "data": {
      "application/vnd.jupyter.widget-view+json": {
       "model_id": "3dd0af88143c4417ac03c62fca973097",
       "version_major": 2,
       "version_minor": 0
      },
      "text/plain": [
       "  0%|          | 0/738 [00:00<?, ?it/s]"
      ]
     },
     "metadata": {},
     "output_type": "display_data"
    },
    {
     "name": "stdout",
     "output_type": "stream",
     "text": [
      "epoch 88 batch id 1 loss 0.019521446898579597 train acc 0.9857142857142858\n",
      "epoch 88 batch id 201 loss 0.0012933387188240886 train acc 0.9901918976545843\n",
      "epoch 88 batch id 401 loss 0.0012168424436822534 train acc 0.9918774492340569\n",
      "epoch 88 batch id 601 loss 0.06510714441537857 train acc 0.9917756120751103\n",
      "epoch 88 train acc 0.9921602787456413\n"
     ]
    },
    {
     "data": {
      "application/vnd.jupyter.widget-view+json": {
       "model_id": "a5ecabf1d3ee4e5782bfeb9a55089345",
       "version_major": 2,
       "version_minor": 0
      },
      "text/plain": [
       "  0%|          | 0/95 [00:00<?, ?it/s]"
      ]
     },
     "metadata": {},
     "output_type": "display_data"
    },
    {
     "name": "stdout",
     "output_type": "stream",
     "text": [
      "epoch 88 test acc 0.6093479600640945\n"
     ]
    },
    {
     "data": {
      "application/vnd.jupyter.widget-view+json": {
       "model_id": "655676236a604ab6aef145e5bf1569a0",
       "version_major": 2,
       "version_minor": 0
      },
      "text/plain": [
       "  0%|          | 0/738 [00:00<?, ?it/s]"
      ]
     },
     "metadata": {},
     "output_type": "display_data"
    },
    {
     "name": "stdout",
     "output_type": "stream",
     "text": [
      "epoch 89 batch id 1 loss 0.10328640043735504 train acc 0.9714285714285714\n",
      "epoch 89 batch id 201 loss 0.022898809984326363 train acc 0.990760483297797\n",
      "epoch 89 batch id 401 loss 0.05562293902039528 train acc 0.9917705735660834\n",
      "epoch 89 batch id 601 loss 0.0007353014079853892 train acc 0.9919657713334894\n",
      "epoch 89 train acc 0.9920247773906277\n"
     ]
    },
    {
     "data": {
      "application/vnd.jupyter.widget-view+json": {
       "model_id": "b18d644146c742c3aa8f3db7a78d4b6f",
       "version_major": 2,
       "version_minor": 0
      },
      "text/plain": [
       "  0%|          | 0/95 [00:00<?, ?it/s]"
      ]
     },
     "metadata": {},
     "output_type": "display_data"
    },
    {
     "name": "stdout",
     "output_type": "stream",
     "text": [
      "epoch 89 test acc 0.5939652409712805\n"
     ]
    },
    {
     "data": {
      "application/vnd.jupyter.widget-view+json": {
       "model_id": "dd471750fe7f4e2a91d16154e6aa929a",
       "version_major": 2,
       "version_minor": 0
      },
      "text/plain": [
       "  0%|          | 0/738 [00:00<?, ?it/s]"
      ]
     },
     "metadata": {},
     "output_type": "display_data"
    },
    {
     "name": "stdout",
     "output_type": "stream",
     "text": [
      "epoch 90 batch id 1 loss 0.010059149004518986 train acc 1.0\n",
      "epoch 90 batch id 201 loss 0.014394470490515232 train acc 0.9920398009950253\n",
      "epoch 90 batch id 401 loss 0.0871683657169342 train acc 0.9925899536872094\n",
      "epoch 90 batch id 601 loss 0.0015073175309225917 train acc 0.9917043023532178\n",
      "epoch 90 train acc 0.9919473480449053\n"
     ]
    },
    {
     "data": {
      "application/vnd.jupyter.widget-view+json": {
       "model_id": "f0370f6d247b4e8db173c31cffe9e619",
       "version_major": 2,
       "version_minor": 0
      },
      "text/plain": [
       "  0%|          | 0/95 [00:00<?, ?it/s]"
      ]
     },
     "metadata": {},
     "output_type": "display_data"
    },
    {
     "name": "stdout",
     "output_type": "stream",
     "text": [
      "epoch 90 test acc 0.5821521015653889\n"
     ]
    },
    {
     "data": {
      "application/vnd.jupyter.widget-view+json": {
       "model_id": "423225c7bc3941bb95223ea532c6258c",
       "version_major": 2,
       "version_minor": 0
      },
      "text/plain": [
       "  0%|          | 0/738 [00:00<?, ?it/s]"
      ]
     },
     "metadata": {},
     "output_type": "display_data"
    },
    {
     "name": "stdout",
     "output_type": "stream",
     "text": [
      "epoch 91 batch id 1 loss 0.004961818922311068 train acc 1.0\n",
      "epoch 91 batch id 201 loss 0.001338051282800734 train acc 0.993816631130064\n",
      "epoch 91 batch id 401 loss 0.044912077486515045 train acc 0.993623085144281\n",
      "epoch 91 batch id 601 loss 0.015305732376873493 train acc 0.9931780366056545\n",
      "epoch 91 train acc 0.9931910569105654\n"
     ]
    },
    {
     "data": {
      "application/vnd.jupyter.widget-view+json": {
       "model_id": "f4967abd24e84b73be5bd463edcef5b7",
       "version_major": 2,
       "version_minor": 0
      },
      "text/plain": [
       "  0%|          | 0/95 [00:00<?, ?it/s]"
      ]
     },
     "metadata": {},
     "output_type": "display_data"
    },
    {
     "name": "stdout",
     "output_type": "stream",
     "text": [
      "epoch 91 test acc 0.5954295575003079\n"
     ]
    },
    {
     "data": {
      "application/vnd.jupyter.widget-view+json": {
       "model_id": "73937b7023e142cc89cced447d330c78",
       "version_major": 2,
       "version_minor": 0
      },
      "text/plain": [
       "  0%|          | 0/738 [00:00<?, ?it/s]"
      ]
     },
     "metadata": {},
     "output_type": "display_data"
    },
    {
     "name": "stdout",
     "output_type": "stream",
     "text": [
      "epoch 92 batch id 1 loss 0.0013325698673725128 train acc 1.0\n",
      "epoch 92 batch id 201 loss 0.002705430844798684 train acc 0.9926794598436388\n",
      "epoch 92 batch id 401 loss 0.021246543154120445 train acc 0.9935518346989657\n",
      "epoch 92 batch id 601 loss 0.0025359895080327988 train acc 0.9928927977180869\n",
      "epoch 92 train acc 0.993012001548584\n"
     ]
    },
    {
     "data": {
      "application/vnd.jupyter.widget-view+json": {
       "model_id": "6728abd6facf47a998367ab7f0a4f8cc",
       "version_major": 2,
       "version_minor": 0
      },
      "text/plain": [
       "  0%|          | 0/95 [00:00<?, ?it/s]"
      ]
     },
     "metadata": {},
     "output_type": "display_data"
    },
    {
     "name": "stdout",
     "output_type": "stream",
     "text": [
      "epoch 92 test acc 0.5952126217182298\n"
     ]
    },
    {
     "data": {
      "application/vnd.jupyter.widget-view+json": {
       "model_id": "130085d09919479ea2bd6d757d29e38f",
       "version_major": 2,
       "version_minor": 0
      },
      "text/plain": [
       "  0%|          | 0/738 [00:00<?, ?it/s]"
      ]
     },
     "metadata": {},
     "output_type": "display_data"
    },
    {
     "name": "stdout",
     "output_type": "stream",
     "text": [
      "epoch 93 batch id 1 loss 0.004484004806727171 train acc 1.0\n",
      "epoch 93 batch id 201 loss 0.0005827306886203587 train acc 0.99225302061123\n",
      "epoch 93 batch id 401 loss 0.000523183960467577 train acc 0.9935874599216241\n",
      "epoch 93 batch id 601 loss 0.0045671770349144936 train acc 0.9929641074399788\n",
      "epoch 93 train acc 0.9928765001935701\n"
     ]
    },
    {
     "data": {
      "application/vnd.jupyter.widget-view+json": {
       "model_id": "c3874b90b6b345688ff6d3bb5d1b0b78",
       "version_major": 2,
       "version_minor": 0
      },
      "text/plain": [
       "  0%|          | 0/95 [00:00<?, ?it/s]"
      ]
     },
     "metadata": {},
     "output_type": "display_data"
    },
    {
     "name": "stdout",
     "output_type": "stream",
     "text": [
      "epoch 93 test acc 0.5860396893874031\n"
     ]
    },
    {
     "data": {
      "application/vnd.jupyter.widget-view+json": {
       "model_id": "409ce06143c84dac883e3629ad4a4353",
       "version_major": 2,
       "version_minor": 0
      },
      "text/plain": [
       "  0%|          | 0/738 [00:00<?, ?it/s]"
      ]
     },
     "metadata": {},
     "output_type": "display_data"
    },
    {
     "name": "stdout",
     "output_type": "stream",
     "text": [
      "epoch 94 batch id 1 loss 0.00022000919852871448 train acc 1.0\n",
      "epoch 94 batch id 201 loss 0.0006457098643295467 train acc 0.9933901918976551\n",
      "epoch 94 batch id 401 loss 0.07305313646793365 train acc 0.9940862130388309\n",
      "epoch 94 batch id 601 loss 0.0009440250578336418 train acc 0.993843594009981\n",
      "epoch 94 train acc 0.9937088656600819\n"
     ]
    },
    {
     "data": {
      "application/vnd.jupyter.widget-view+json": {
       "model_id": "17e3c0bcabe0416c9a68ff2d2340465f",
       "version_major": 2,
       "version_minor": 0
      },
      "text/plain": [
       "  0%|          | 0/95 [00:00<?, ?it/s]"
      ]
     },
     "metadata": {},
     "output_type": "display_data"
    },
    {
     "name": "stdout",
     "output_type": "stream",
     "text": [
      "epoch 94 test acc 0.609175397510169\n"
     ]
    },
    {
     "data": {
      "application/vnd.jupyter.widget-view+json": {
       "model_id": "f23a951a030344ba865b78260a5d8f73",
       "version_major": 2,
       "version_minor": 0
      },
      "text/plain": [
       "  0%|          | 0/738 [00:00<?, ?it/s]"
      ]
     },
     "metadata": {},
     "output_type": "display_data"
    },
    {
     "name": "stdout",
     "output_type": "stream",
     "text": [
      "epoch 95 batch id 1 loss 0.0004727097402792424 train acc 1.0\n",
      "epoch 95 batch id 201 loss 0.000324794789776206 train acc 0.9930348258706467\n",
      "epoch 95 batch id 401 loss 0.06370808184146881 train acc 0.9935874599216235\n",
      "epoch 95 batch id 601 loss 0.00037698503001593053 train acc 0.9933206560494393\n",
      "epoch 95 train acc 0.9933797909407637\n"
     ]
    },
    {
     "data": {
      "application/vnd.jupyter.widget-view+json": {
       "model_id": "5851615556754212862fb5d7def67b3f",
       "version_major": 2,
       "version_minor": 0
      },
      "text/plain": [
       "  0%|          | 0/95 [00:00<?, ?it/s]"
      ]
     },
     "metadata": {},
     "output_type": "display_data"
    },
    {
     "name": "stdout",
     "output_type": "stream",
     "text": [
      "epoch 95 test acc 0.6062738814248736\n"
     ]
    },
    {
     "data": {
      "application/vnd.jupyter.widget-view+json": {
       "model_id": "de3d854b8bef4eb2aeda8063ebd4dbdb",
       "version_major": 2,
       "version_minor": 0
      },
      "text/plain": [
       "  0%|          | 0/738 [00:00<?, ?it/s]"
      ]
     },
     "metadata": {},
     "output_type": "display_data"
    },
    {
     "name": "stdout",
     "output_type": "stream",
     "text": [
      "epoch 96 batch id 1 loss 0.03784291446208954 train acc 0.9857142857142858\n",
      "epoch 96 batch id 201 loss 0.00015054221148602664 train acc 0.9923240938166317\n",
      "epoch 96 batch id 401 loss 0.15294307470321655 train acc 0.9928393302458134\n",
      "epoch 96 batch id 601 loss 0.08693802356719971 train acc 0.9926313287378152\n",
      "epoch 96 train acc 0.9927216415021257\n"
     ]
    },
    {
     "data": {
      "application/vnd.jupyter.widget-view+json": {
       "model_id": "fba1b85847ab41df84d26f62383d6635",
       "version_major": 2,
       "version_minor": 0
      },
      "text/plain": [
       "  0%|          | 0/95 [00:00<?, ?it/s]"
      ]
     },
     "metadata": {},
     "output_type": "display_data"
    },
    {
     "name": "stdout",
     "output_type": "stream",
     "text": [
      "epoch 96 test acc 0.5952742512017751\n"
     ]
    },
    {
     "data": {
      "application/vnd.jupyter.widget-view+json": {
       "model_id": "a6c325e8aca140dc9c0431bc8967a0c5",
       "version_major": 2,
       "version_minor": 0
      },
      "text/plain": [
       "  0%|          | 0/738 [00:00<?, ?it/s]"
      ]
     },
     "metadata": {},
     "output_type": "display_data"
    },
    {
     "name": "stdout",
     "output_type": "stream",
     "text": [
      "epoch 97 batch id 1 loss 0.00214797118678689 train acc 1.0\n",
      "epoch 97 batch id 201 loss 0.0005499146063812077 train acc 0.9928926794598439\n",
      "epoch 97 batch id 401 loss 0.00040851725498214364 train acc 0.9938012112575693\n",
      "epoch 97 batch id 601 loss 0.0005063491989858449 train acc 0.9935821250297107\n",
      "epoch 97 train acc 0.9934378629500553\n"
     ]
    },
    {
     "data": {
      "application/vnd.jupyter.widget-view+json": {
       "model_id": "ce4737c41dd64b338230b20efe3caebf",
       "version_major": 2,
       "version_minor": 0
      },
      "text/plain": [
       "  0%|          | 0/95 [00:00<?, ?it/s]"
      ]
     },
     "metadata": {},
     "output_type": "display_data"
    },
    {
     "name": "stdout",
     "output_type": "stream",
     "text": [
      "epoch 97 test acc 0.5836287439911252\n"
     ]
    },
    {
     "data": {
      "application/vnd.jupyter.widget-view+json": {
       "model_id": "bbe1a4d1f1b543bdb6f0e46f976f2e4d",
       "version_major": 2,
       "version_minor": 0
      },
      "text/plain": [
       "  0%|          | 0/738 [00:00<?, ?it/s]"
      ]
     },
     "metadata": {},
     "output_type": "display_data"
    },
    {
     "name": "stdout",
     "output_type": "stream",
     "text": [
      "epoch 98 batch id 1 loss 0.006161149591207504 train acc 1.0\n",
      "epoch 98 batch id 201 loss 0.0010544044198468328 train acc 0.9913290689410091\n",
      "epoch 98 batch id 401 loss 0.000505157164297998 train acc 0.9928749554684707\n",
      "epoch 98 batch id 601 loss 0.11461090296506882 train acc 0.992797718088897\n",
      "epoch 98 train acc 0.9931862175764583\n"
     ]
    },
    {
     "data": {
      "application/vnd.jupyter.widget-view+json": {
       "model_id": "cec4bc173f05488c8bf53fb31e6ab19f",
       "version_major": 2,
       "version_minor": 0
      },
      "text/plain": [
       "  0%|          | 0/95 [00:00<?, ?it/s]"
      ]
     },
     "metadata": {},
     "output_type": "display_data"
    },
    {
     "name": "stdout",
     "output_type": "stream",
     "text": [
      "epoch 98 test acc 0.5749956859361517\n"
     ]
    },
    {
     "data": {
      "application/vnd.jupyter.widget-view+json": {
       "model_id": "9a7d8d8a74ae4a418010bf8b9235b541",
       "version_major": 2,
       "version_minor": 0
      },
      "text/plain": [
       "  0%|          | 0/738 [00:00<?, ?it/s]"
      ]
     },
     "metadata": {},
     "output_type": "display_data"
    },
    {
     "name": "stdout",
     "output_type": "stream",
     "text": [
      "epoch 99 batch id 1 loss 0.01267585065215826 train acc 1.0\n",
      "epoch 99 batch id 201 loss 0.00016371457604691386 train acc 0.9936744847192612\n",
      "epoch 99 batch id 401 loss 0.0019409669330343604 train acc 0.9941930887068031\n",
      "epoch 99 batch id 601 loss 0.00043087860103696585 train acc 0.9937247444734939\n",
      "epoch 99 train acc 0.9938056523422342\n"
     ]
    },
    {
     "data": {
      "application/vnd.jupyter.widget-view+json": {
       "model_id": "d929b3ce9bb34b56978bf605672d735f",
       "version_major": 2,
       "version_minor": 0
      },
      "text/plain": [
       "  0%|          | 0/95 [00:00<?, ?it/s]"
      ]
     },
     "metadata": {},
     "output_type": "display_data"
    },
    {
     "name": "stdout",
     "output_type": "stream",
     "text": [
      "epoch 99 test acc 0.6149340564526069\n"
     ]
    },
    {
     "data": {
      "application/vnd.jupyter.widget-view+json": {
       "model_id": "1dc7d0ba1b0645a2b920c89951507ec6",
       "version_major": 2,
       "version_minor": 0
      },
      "text/plain": [
       "  0%|          | 0/738 [00:00<?, ?it/s]"
      ]
     },
     "metadata": {},
     "output_type": "display_data"
    },
    {
     "name": "stdout",
     "output_type": "stream",
     "text": [
      "epoch 100 batch id 1 loss 0.0006874020327813923 train acc 1.0\n",
      "epoch 100 batch id 201 loss 0.05064542219042778 train acc 0.9936744847192612\n",
      "epoch 100 batch id 401 loss 0.00032500256202183664 train acc 0.9945137157107228\n",
      "epoch 100 batch id 601 loss 0.0003600119089242071 train acc 0.9941288328975494\n",
      "epoch 100 train acc 0.9940040650406475\n"
     ]
    },
    {
     "data": {
      "application/vnd.jupyter.widget-view+json": {
       "model_id": "33d694b50cdb42b4b6d9b0921e042350",
       "version_major": 2,
       "version_minor": 0
      },
      "text/plain": [
       "  0%|          | 0/95 [00:00<?, ?it/s]"
      ]
     },
     "metadata": {},
     "output_type": "display_data"
    },
    {
     "name": "stdout",
     "output_type": "stream",
     "text": [
      "epoch 100 test acc 0.6020633551090843\n"
     ]
    },
    {
     "data": {
      "application/vnd.jupyter.widget-view+json": {
       "model_id": "30392cbfb06c480a9317726308e56042",
       "version_major": 2,
       "version_minor": 0
      },
      "text/plain": [
       "  0%|          | 0/738 [00:00<?, ?it/s]"
      ]
     },
     "metadata": {},
     "output_type": "display_data"
    },
    {
     "name": "stdout",
     "output_type": "stream",
     "text": [
      "epoch 101 batch id 1 loss 0.00029729859670624137 train acc 1.0\n",
      "epoch 101 batch id 201 loss 0.00016763848543632776 train acc 0.9925373134328361\n",
      "epoch 101 batch id 401 loss 0.0034113924484699965 train acc 0.9936587103669391\n",
      "epoch 101 batch id 601 loss 0.006676711142063141 train acc 0.9935821250297101\n",
      "epoch 101 train acc 0.9937330623306204\n"
     ]
    },
    {
     "data": {
      "application/vnd.jupyter.widget-view+json": {
       "model_id": "f77fc7cc89c641c4b0906022c4c0d706",
       "version_major": 2,
       "version_minor": 0
      },
      "text/plain": [
       "  0%|          | 0/95 [00:00<?, ?it/s]"
      ]
     },
     "metadata": {},
     "output_type": "display_data"
    },
    {
     "name": "stdout",
     "output_type": "stream",
     "text": [
      "epoch 101 test acc 0.6028374214224085\n"
     ]
    },
    {
     "data": {
      "application/vnd.jupyter.widget-view+json": {
       "model_id": "b0f833a77ce6472e852d1184b4227dcf",
       "version_major": 2,
       "version_minor": 0
      },
      "text/plain": [
       "  0%|          | 0/738 [00:00<?, ?it/s]"
      ]
     },
     "metadata": {},
     "output_type": "display_data"
    },
    {
     "name": "stdout",
     "output_type": "stream",
     "text": [
      "epoch 102 batch id 1 loss 0.0035467431880533695 train acc 1.0\n",
      "epoch 102 batch id 201 loss 0.0009937107097357512 train acc 0.9933191186922535\n",
      "epoch 102 batch id 401 loss 0.000406656414270401 train acc 0.9944068400427498\n",
      "epoch 102 batch id 601 loss 0.00024930096697062254 train acc 0.9941288328975502\n",
      "epoch 102 train acc 0.994076655052262\n"
     ]
    },
    {
     "data": {
      "application/vnd.jupyter.widget-view+json": {
       "model_id": "69db74931c714b38bec6cbad869402ee",
       "version_major": 2,
       "version_minor": 0
      },
      "text/plain": [
       "  0%|          | 0/95 [00:00<?, ?it/s]"
      ]
     },
     "metadata": {},
     "output_type": "display_data"
    },
    {
     "name": "stdout",
     "output_type": "stream",
     "text": [
      "epoch 102 test acc 0.61832614322692\n"
     ]
    },
    {
     "data": {
      "application/vnd.jupyter.widget-view+json": {
       "model_id": "865d32825a054a9c87437d7636ff8b45",
       "version_major": 2,
       "version_minor": 0
      },
      "text/plain": [
       "  0%|          | 0/738 [00:00<?, ?it/s]"
      ]
     },
     "metadata": {},
     "output_type": "display_data"
    },
    {
     "name": "stdout",
     "output_type": "stream",
     "text": [
      "epoch 103 batch id 1 loss 0.00017303862841799855 train acc 1.0\n",
      "epoch 103 batch id 201 loss 0.14961566030979156 train acc 0.9936034115138592\n",
      "epoch 103 batch id 401 loss 0.029048534110188484 train acc 0.9944780904880648\n",
      "epoch 103 batch id 601 loss 0.004371248185634613 train acc 0.9943665319705243\n",
      "epoch 103 train acc 0.9945412311265949\n"
     ]
    },
    {
     "data": {
      "application/vnd.jupyter.widget-view+json": {
       "model_id": "8286ab919565479da82499a4b02b226f",
       "version_major": 2,
       "version_minor": 0
      },
      "text/plain": [
       "  0%|          | 0/95 [00:00<?, ?it/s]"
      ]
     },
     "metadata": {},
     "output_type": "display_data"
    },
    {
     "name": "stdout",
     "output_type": "stream",
     "text": [
      "epoch 103 test acc 0.5920719832367805\n"
     ]
    },
    {
     "data": {
      "application/vnd.jupyter.widget-view+json": {
       "model_id": "64ba77a76ddd454d8d347acfd7642052",
       "version_major": 2,
       "version_minor": 0
      },
      "text/plain": [
       "  0%|          | 0/738 [00:00<?, ?it/s]"
      ]
     },
     "metadata": {},
     "output_type": "display_data"
    },
    {
     "name": "stdout",
     "output_type": "stream",
     "text": [
      "epoch 104 batch id 1 loss 0.0011246587382629514 train acc 1.0\n",
      "epoch 104 batch id 201 loss 0.029108533635735512 train acc 0.9949538024164891\n",
      "epoch 104 batch id 401 loss 0.00023237240384332836 train acc 0.9956180976131096\n",
      "epoch 104 batch id 601 loss 0.0010821891482919455 train acc 0.9945804611362\n",
      "epoch 104 train acc 0.9947396438250073\n"
     ]
    },
    {
     "data": {
      "application/vnd.jupyter.widget-view+json": {
       "model_id": "bda796e7718e49f69eae843d24e56ec9",
       "version_major": 2,
       "version_minor": 0
      },
      "text/plain": [
       "  0%|          | 0/95 [00:00<?, ?it/s]"
      ]
     },
     "metadata": {},
     "output_type": "display_data"
    },
    {
     "name": "stdout",
     "output_type": "stream",
     "text": [
      "epoch 104 test acc 0.6217847898434612\n"
     ]
    },
    {
     "data": {
      "application/vnd.jupyter.widget-view+json": {
       "model_id": "0cfd1d9301bf4470bc3b541edbd441df",
       "version_major": 2,
       "version_minor": 0
      },
      "text/plain": [
       "  0%|          | 0/738 [00:00<?, ?it/s]"
      ]
     },
     "metadata": {},
     "output_type": "display_data"
    },
    {
     "name": "stdout",
     "output_type": "stream",
     "text": [
      "epoch 105 batch id 1 loss 0.00016093820158857852 train acc 1.0\n",
      "epoch 105 batch id 201 loss 0.0030670291744172573 train acc 0.9955223880597018\n",
      "epoch 105 batch id 401 loss 0.0016393382102251053 train acc 0.9954399714998208\n",
      "epoch 105 batch id 601 loss 0.004927836824208498 train acc 0.9949132398383622\n",
      "epoch 105 train acc 0.9950638792102178\n"
     ]
    },
    {
     "data": {
      "application/vnd.jupyter.widget-view+json": {
       "model_id": "2f5cf760819a47f6be0807c6c2f254c5",
       "version_major": 2,
       "version_minor": 0
      },
      "text/plain": [
       "  0%|          | 0/95 [00:00<?, ?it/s]"
      ]
     },
     "metadata": {},
     "output_type": "display_data"
    },
    {
     "name": "stdout",
     "output_type": "stream",
     "text": [
      "epoch 105 test acc 0.6119437939110068\n"
     ]
    },
    {
     "data": {
      "application/vnd.jupyter.widget-view+json": {
       "model_id": "42715c7bed4347bca332d664345fceef",
       "version_major": 2,
       "version_minor": 0
      },
      "text/plain": [
       "  0%|          | 0/738 [00:00<?, ?it/s]"
      ]
     },
     "metadata": {},
     "output_type": "display_data"
    },
    {
     "name": "stdout",
     "output_type": "stream",
     "text": [
      "epoch 106 batch id 1 loss 0.00041613270877860487 train acc 1.0\n",
      "epoch 106 batch id 201 loss 0.0003516877768561244 train acc 0.9931769722814501\n",
      "epoch 106 batch id 401 loss 0.0001735252299113199 train acc 0.9946205913786957\n",
      "epoch 106 batch id 601 loss 0.022418981418013573 train acc 0.9940812930829557\n",
      "epoch 106 train acc 0.9944444444444425\n"
     ]
    },
    {
     "data": {
      "application/vnd.jupyter.widget-view+json": {
       "model_id": "21b3dc9e54d4492bb51f719ca1a10999",
       "version_major": 2,
       "version_minor": 0
      },
      "text/plain": [
       "  0%|          | 0/95 [00:00<?, ?it/s]"
      ]
     },
     "metadata": {},
     "output_type": "display_data"
    },
    {
     "name": "stdout",
     "output_type": "stream",
     "text": [
      "epoch 106 test acc 0.6371231357081225\n"
     ]
    },
    {
     "data": {
      "application/vnd.jupyter.widget-view+json": {
       "model_id": "c4fbe0aaee3a4bd192c0bdb388e2f398",
       "version_major": 2,
       "version_minor": 0
      },
      "text/plain": [
       "  0%|          | 0/738 [00:00<?, ?it/s]"
      ]
     },
     "metadata": {},
     "output_type": "display_data"
    },
    {
     "name": "stdout",
     "output_type": "stream",
     "text": [
      "epoch 107 batch id 1 loss 0.055252645164728165 train acc 0.9857142857142858\n",
      "epoch 107 batch id 201 loss 0.00027386017609387636 train acc 0.9963041933191188\n",
      "epoch 107 batch id 401 loss 0.0404341034591198 train acc 0.9955468471677934\n",
      "epoch 107 batch id 601 loss 0.006340053863823414 train acc 0.9950558592821458\n",
      "epoch 107 train acc 0.9951025938830781\n"
     ]
    },
    {
     "data": {
      "application/vnd.jupyter.widget-view+json": {
       "model_id": "429ac6ccad734cd1a464bceae4452e65",
       "version_major": 2,
       "version_minor": 0
      },
      "text/plain": [
       "  0%|          | 0/95 [00:00<?, ?it/s]"
      ]
     },
     "metadata": {},
     "output_type": "display_data"
    },
    {
     "name": "stdout",
     "output_type": "stream",
     "text": [
      "epoch 107 test acc 0.6369111302847282\n"
     ]
    },
    {
     "data": {
      "application/vnd.jupyter.widget-view+json": {
       "model_id": "3c1ed260086d4e2b885ae55f017ebbfe",
       "version_major": 2,
       "version_minor": 0
      },
      "text/plain": [
       "  0%|          | 0/738 [00:00<?, ?it/s]"
      ]
     },
     "metadata": {},
     "output_type": "display_data"
    },
    {
     "name": "stdout",
     "output_type": "stream",
     "text": [
      "epoch 108 batch id 1 loss 0.0010036261519417167 train acc 1.0\n",
      "epoch 108 batch id 201 loss 0.000761614937800914 train acc 0.9947405828002844\n",
      "epoch 108 batch id 401 loss 0.0038025425747036934 train acc 0.9950837192732445\n",
      "epoch 108 batch id 601 loss 0.0002395680930931121 train acc 0.9949132398383627\n",
      "epoch 108 train acc 0.9950832365466488\n"
     ]
    },
    {
     "data": {
      "application/vnd.jupyter.widget-view+json": {
       "model_id": "3c66c7372afe4e39a4aa519dcca72aa9",
       "version_major": 2,
       "version_minor": 0
      },
      "text/plain": [
       "  0%|          | 0/95 [00:00<?, ?it/s]"
      ]
     },
     "metadata": {},
     "output_type": "display_data"
    },
    {
     "name": "stdout",
     "output_type": "stream",
     "text": [
      "epoch 108 test acc 0.6270479477381982\n"
     ]
    },
    {
     "data": {
      "application/vnd.jupyter.widget-view+json": {
       "model_id": "2998dcbfba8242cf805b4564dc25c3c8",
       "version_major": 2,
       "version_minor": 0
      },
      "text/plain": [
       "  0%|          | 0/738 [00:00<?, ?it/s]"
      ]
     },
     "metadata": {},
     "output_type": "display_data"
    },
    {
     "name": "stdout",
     "output_type": "stream",
     "text": [
      "epoch 109 batch id 1 loss 0.0002548407355789095 train acc 1.0\n",
      "epoch 109 batch id 201 loss 0.00024111148377414793 train acc 0.9945984363894813\n",
      "epoch 109 batch id 401 loss 0.09848127514123917 train acc 0.9952974706091906\n",
      "epoch 109 batch id 601 loss 0.00047734551480971277 train acc 0.99493700974566\n",
      "epoch 109 train acc 0.9950251645373569\n"
     ]
    },
    {
     "data": {
      "application/vnd.jupyter.widget-view+json": {
       "model_id": "ab2f3d4f22e24614a4a3e454b595257f",
       "version_major": 2,
       "version_minor": 0
      },
      "text/plain": [
       "  0%|          | 0/95 [00:00<?, ?it/s]"
      ]
     },
     "metadata": {},
     "output_type": "display_data"
    },
    {
     "name": "stdout",
     "output_type": "stream",
     "text": [
      "epoch 109 test acc 0.6174904474300507\n"
     ]
    },
    {
     "data": {
      "application/vnd.jupyter.widget-view+json": {
       "model_id": "41e806c596fb4083bdcf55bc16ca5dd7",
       "version_major": 2,
       "version_minor": 0
      },
      "text/plain": [
       "  0%|          | 0/738 [00:00<?, ?it/s]"
      ]
     },
     "metadata": {},
     "output_type": "display_data"
    },
    {
     "name": "stdout",
     "output_type": "stream",
     "text": [
      "epoch 110 batch id 1 loss 0.00012875697575509548 train acc 1.0\n",
      "epoch 110 batch id 201 loss 0.00023482540564145893 train acc 0.9956645344705051\n",
      "epoch 110 batch id 401 loss 0.0001032840009429492 train acc 0.9962237263982895\n",
      "epoch 110 batch id 601 loss 0.017506467178463936 train acc 0.9950558592821471\n",
      "epoch 110 train acc 0.9952961672473847\n"
     ]
    },
    {
     "data": {
      "application/vnd.jupyter.widget-view+json": {
       "model_id": "5f3d3806a1774ea282d90e523b63eb65",
       "version_major": 2,
       "version_minor": 0
      },
      "text/plain": [
       "  0%|          | 0/95 [00:00<?, ?it/s]"
      ]
     },
     "metadata": {},
     "output_type": "display_data"
    },
    {
     "name": "stdout",
     "output_type": "stream",
     "text": [
      "epoch 110 test acc 0.6359645014174784\n"
     ]
    },
    {
     "data": {
      "application/vnd.jupyter.widget-view+json": {
       "model_id": "be3b8be1b4e84afa988822cec4aeaaaf",
       "version_major": 2,
       "version_minor": 0
      },
      "text/plain": [
       "  0%|          | 0/738 [00:00<?, ?it/s]"
      ]
     },
     "metadata": {},
     "output_type": "display_data"
    },
    {
     "name": "stdout",
     "output_type": "stream",
     "text": [
      "epoch 111 batch id 1 loss 0.00013806212518829852 train acc 1.0\n",
      "epoch 111 batch id 201 loss 0.07892266660928726 train acc 0.9949538024164896\n",
      "epoch 111 batch id 401 loss 0.008565487340092659 train acc 0.9961524759529742\n",
      "epoch 111 batch id 601 loss 0.08891922980546951 train acc 0.995673876871878\n",
      "epoch 111 train acc 0.9957994579945773\n"
     ]
    },
    {
     "data": {
      "application/vnd.jupyter.widget-view+json": {
       "model_id": "2fc2f87747ee4cee84eec942ccf8691d",
       "version_major": 2,
       "version_minor": 0
      },
      "text/plain": [
       "  0%|          | 0/95 [00:00<?, ?it/s]"
      ]
     },
     "metadata": {},
     "output_type": "display_data"
    },
    {
     "name": "stdout",
     "output_type": "stream",
     "text": [
      "epoch 111 test acc 0.6314975964501417\n"
     ]
    },
    {
     "data": {
      "application/vnd.jupyter.widget-view+json": {
       "model_id": "1bfb8b557c2a4a0b9f931a738094793b",
       "version_major": 2,
       "version_minor": 0
      },
      "text/plain": [
       "  0%|          | 0/738 [00:00<?, ?it/s]"
      ]
     },
     "metadata": {},
     "output_type": "display_data"
    },
    {
     "name": "stdout",
     "output_type": "stream",
     "text": [
      "epoch 112 batch id 1 loss 0.00015767553122714162 train acc 1.0\n",
      "epoch 112 batch id 201 loss 0.00033190398244187236 train acc 0.9960199004975125\n",
      "epoch 112 batch id 401 loss 0.0005891072796657681 train acc 0.996651229070181\n",
      "epoch 112 batch id 601 loss 0.0033007946331053972 train acc 0.9959591157594458\n",
      "epoch 112 train acc 0.9958962446767292\n"
     ]
    },
    {
     "data": {
      "application/vnd.jupyter.widget-view+json": {
       "model_id": "f35e03faed0446418b7f8f0af21801d1",
       "version_major": 2,
       "version_minor": 0
      },
      "text/plain": [
       "  0%|          | 0/95 [00:00<?, ?it/s]"
      ]
     },
     "metadata": {},
     "output_type": "display_data"
    },
    {
     "name": "stdout",
     "output_type": "stream",
     "text": [
      "epoch 112 test acc 0.6432047331443362\n"
     ]
    },
    {
     "data": {
      "application/vnd.jupyter.widget-view+json": {
       "model_id": "60859604dc524deea1866145b914f858",
       "version_major": 2,
       "version_minor": 0
      },
      "text/plain": [
       "  0%|          | 0/738 [00:00<?, ?it/s]"
      ]
     },
     "metadata": {},
     "output_type": "display_data"
    },
    {
     "name": "stdout",
     "output_type": "stream",
     "text": [
      "epoch 113 batch id 1 loss 0.10199813544750214 train acc 0.9857142857142858\n",
      "epoch 113 batch id 201 loss 8.804020762909204e-05 train acc 0.9954513148543004\n",
      "epoch 113 batch id 401 loss 0.00016501826758030802 train acc 0.996294976843605\n",
      "epoch 113 batch id 601 loss 0.0435662604868412 train acc 0.9959353458521493\n",
      "epoch 113 train acc 0.9957462253193933\n"
     ]
    },
    {
     "data": {
      "application/vnd.jupyter.widget-view+json": {
       "model_id": "02938b787c5f4aa0af7a2f606df90c75",
       "version_major": 2,
       "version_minor": 0
      },
      "text/plain": [
       "  0%|          | 0/95 [00:00<?, ?it/s]"
      ]
     },
     "metadata": {},
     "output_type": "display_data"
    },
    {
     "name": "stdout",
     "output_type": "stream",
     "text": [
      "epoch 113 test acc 0.6409490940465918\n"
     ]
    },
    {
     "data": {
      "application/vnd.jupyter.widget-view+json": {
       "model_id": "3a615db2e49745f0afee8f1d8da0d52d",
       "version_major": 2,
       "version_minor": 0
      },
      "text/plain": [
       "  0%|          | 0/738 [00:00<?, ?it/s]"
      ]
     },
     "metadata": {},
     "output_type": "display_data"
    },
    {
     "name": "stdout",
     "output_type": "stream",
     "text": [
      "epoch 114 batch id 1 loss 0.0006601455388590693 train acc 1.0\n",
      "epoch 114 batch id 201 loss 0.00013571958697866648 train acc 0.9960909737029142\n",
      "epoch 114 batch id 401 loss 0.00014203375030774623 train acc 0.9967581047381544\n",
      "epoch 114 batch id 601 loss 0.0006290486198849976 train acc 0.9960304254813391\n",
      "epoch 114 train acc 0.9958381726674388\n"
     ]
    },
    {
     "data": {
      "application/vnd.jupyter.widget-view+json": {
       "model_id": "7c9ee9fe4efb4d2699da41c783f80ec4",
       "version_major": 2,
       "version_minor": 0
      },
      "text/plain": [
       "  0%|          | 0/95 [00:00<?, ?it/s]"
      ]
     },
     "metadata": {},
     "output_type": "display_data"
    },
    {
     "name": "stdout",
     "output_type": "stream",
     "text": [
      "epoch 114 test acc 0.651024282016517\n"
     ]
    },
    {
     "data": {
      "application/vnd.jupyter.widget-view+json": {
       "model_id": "a068875edd914c8abc98afc5bfa8428b",
       "version_major": 2,
       "version_minor": 0
      },
      "text/plain": [
       "  0%|          | 0/738 [00:00<?, ?it/s]"
      ]
     },
     "metadata": {},
     "output_type": "display_data"
    },
    {
     "name": "stdout",
     "output_type": "stream",
     "text": [
      "epoch 115 batch id 1 loss 0.040124256163835526 train acc 0.9714285714285714\n",
      "epoch 115 batch id 201 loss 0.0003034905530512333 train acc 0.9958066808813081\n",
      "epoch 115 batch id 401 loss 0.011503592133522034 train acc 0.9960099750623438\n",
      "epoch 115 batch id 601 loss 0.000350680376868695 train acc 0.9956501069645812\n",
      "epoch 115 train acc 0.9957220286488557\n"
     ]
    },
    {
     "data": {
      "application/vnd.jupyter.widget-view+json": {
       "model_id": "b980a9e3bce54dbba139ab7c400f698b",
       "version_major": 2,
       "version_minor": 0
      },
      "text/plain": [
       "  0%|          | 0/95 [00:00<?, ?it/s]"
      ]
     },
     "metadata": {},
     "output_type": "display_data"
    },
    {
     "name": "stdout",
     "output_type": "stream",
     "text": [
      "epoch 115 test acc 0.6469419450265007\n"
     ]
    },
    {
     "data": {
      "application/vnd.jupyter.widget-view+json": {
       "model_id": "35bac96e08454e19bcc47b1ca136acde",
       "version_major": 2,
       "version_minor": 0
      },
      "text/plain": [
       "  0%|          | 0/738 [00:00<?, ?it/s]"
      ]
     },
     "metadata": {},
     "output_type": "display_data"
    },
    {
     "name": "stdout",
     "output_type": "stream",
     "text": [
      "epoch 116 batch id 1 loss 0.00036296367761678994 train acc 1.0\n",
      "epoch 116 batch id 201 loss 0.00019112291920464486 train acc 0.9958777540867096\n",
      "epoch 116 batch id 401 loss 0.06701231002807617 train acc 0.9964018525115773\n",
      "epoch 116 batch id 601 loss 0.0795980915427208 train acc 0.9962681245543124\n",
      "epoch 116 train acc 0.9963269454123089\n"
     ]
    },
    {
     "data": {
      "application/vnd.jupyter.widget-view+json": {
       "model_id": "ff6b41525c6947c2bfd1fd74b8729214",
       "version_major": 2,
       "version_minor": 0
      },
      "text/plain": [
       "  0%|          | 0/95 [00:00<?, ?it/s]"
      ]
     },
     "metadata": {},
     "output_type": "display_data"
    },
    {
     "name": "stdout",
     "output_type": "stream",
     "text": [
      "epoch 116 test acc 0.6507679033649703\n"
     ]
    },
    {
     "data": {
      "application/vnd.jupyter.widget-view+json": {
       "model_id": "af85aad51c9b4ff6a7c8e8c55827616b",
       "version_major": 2,
       "version_minor": 0
      },
      "text/plain": [
       "  0%|          | 0/738 [00:00<?, ?it/s]"
      ]
     },
     "metadata": {},
     "output_type": "display_data"
    },
    {
     "name": "stdout",
     "output_type": "stream",
     "text": [
      "epoch 117 batch id 1 loss 0.0005871535977348685 train acc 1.0\n",
      "epoch 117 batch id 201 loss 7.898187323007733e-05 train acc 0.9960199004975124\n",
      "epoch 117 batch id 401 loss 0.03589984402060509 train acc 0.9966868542928385\n",
      "epoch 117 batch id 601 loss 0.006586335599422455 train acc 0.9966009032564755\n",
      "epoch 117 train acc 0.9964963221060759\n"
     ]
    },
    {
     "data": {
      "application/vnd.jupyter.widget-view+json": {
       "model_id": "688a8ab5d65a46ff9bf884c4e11a3c02",
       "version_major": 2,
       "version_minor": 0
      },
      "text/plain": [
       "  0%|          | 0/95 [00:00<?, ?it/s]"
      ]
     },
     "metadata": {},
     "output_type": "display_data"
    },
    {
     "name": "stdout",
     "output_type": "stream",
     "text": [
      "epoch 117 test acc 0.6475656353999755\n"
     ]
    },
    {
     "data": {
      "application/vnd.jupyter.widget-view+json": {
       "model_id": "046a2ccd336d4b7c818ddf2325a4c39c",
       "version_major": 2,
       "version_minor": 0
      },
      "text/plain": [
       "  0%|          | 0/738 [00:00<?, ?it/s]"
      ]
     },
     "metadata": {},
     "output_type": "display_data"
    },
    {
     "name": "stdout",
     "output_type": "stream",
     "text": [
      "epoch 118 batch id 1 loss 0.0001811402034945786 train acc 1.0\n",
      "epoch 118 batch id 201 loss 0.000295686477329582 train acc 0.9962331201137172\n",
      "epoch 118 batch id 401 loss 0.08275177329778671 train acc 0.9970787317420732\n",
      "epoch 118 batch id 601 loss 0.045271337032318115 train acc 0.9965058236272857\n",
      "epoch 118 train acc 0.9964769647696451\n"
     ]
    },
    {
     "data": {
      "application/vnd.jupyter.widget-view+json": {
       "model_id": "10bea90ad04949548bc852ba189c72db",
       "version_major": 2,
       "version_minor": 0
      },
      "text/plain": [
       "  0%|          | 0/95 [00:00<?, ?it/s]"
      ]
     },
     "metadata": {},
     "output_type": "display_data"
    },
    {
     "name": "stdout",
     "output_type": "stream",
     "text": [
      "epoch 118 test acc 0.6645581166029828\n"
     ]
    },
    {
     "data": {
      "application/vnd.jupyter.widget-view+json": {
       "model_id": "a27dbefe48c0461885625b59e0669451",
       "version_major": 2,
       "version_minor": 0
      },
      "text/plain": [
       "  0%|          | 0/738 [00:00<?, ?it/s]"
      ]
     },
     "metadata": {},
     "output_type": "display_data"
    },
    {
     "name": "stdout",
     "output_type": "stream",
     "text": [
      "epoch 119 batch id 1 loss 0.00013845291687175632 train acc 1.0\n",
      "epoch 119 batch id 201 loss 0.00010671051131794229 train acc 0.9963752665245204\n",
      "epoch 119 batch id 401 loss 0.011797325685620308 train acc 0.9972212326327036\n",
      "epoch 119 batch id 601 loss 0.006123721599578857 train acc 0.9964582838126917\n",
      "epoch 119 train acc 0.9964188927603542\n"
     ]
    },
    {
     "data": {
      "application/vnd.jupyter.widget-view+json": {
       "model_id": "a97a0bb32ea54df283c401cf8a77a34b",
       "version_major": 2,
       "version_minor": 0
      },
      "text/plain": [
       "  0%|          | 0/95 [00:00<?, ?it/s]"
      ]
     },
     "metadata": {},
     "output_type": "display_data"
    },
    {
     "name": "stdout",
     "output_type": "stream",
     "text": [
      "epoch 119 test acc 0.6539036114877358\n"
     ]
    },
    {
     "data": {
      "application/vnd.jupyter.widget-view+json": {
       "model_id": "c15f880147184d0c81611e99bae6d842",
       "version_major": 2,
       "version_minor": 0
      },
      "text/plain": [
       "  0%|          | 0/738 [00:00<?, ?it/s]"
      ]
     },
     "metadata": {},
     "output_type": "display_data"
    },
    {
     "name": "stdout",
     "output_type": "stream",
     "text": [
      "epoch 120 batch id 1 loss 0.00011719416215782985 train acc 1.0\n",
      "epoch 120 batch id 201 loss 8.897519001038745e-05 train acc 0.995806680881308\n",
      "epoch 120 batch id 401 loss 9.125324140768498e-05 train acc 0.9967224795154962\n",
      "epoch 120 batch id 601 loss 0.0002550187346059829 train acc 0.9966484430710703\n",
      "epoch 120 train acc 0.9963995354239232\n"
     ]
    },
    {
     "data": {
      "application/vnd.jupyter.widget-view+json": {
       "model_id": "93f9ade0b28a47118840999d23a0450d",
       "version_major": 2,
       "version_minor": 0
      },
      "text/plain": [
       "  0%|          | 0/95 [00:00<?, ?it/s]"
      ]
     },
     "metadata": {},
     "output_type": "display_data"
    },
    {
     "name": "stdout",
     "output_type": "stream",
     "text": [
      "epoch 120 test acc 0.6576186367558241\n"
     ]
    },
    {
     "data": {
      "application/vnd.jupyter.widget-view+json": {
       "model_id": "e5152031ac194a858984bf8582c91c72",
       "version_major": 2,
       "version_minor": 0
      },
      "text/plain": [
       "  0%|          | 0/738 [00:00<?, ?it/s]"
      ]
     },
     "metadata": {},
     "output_type": "display_data"
    },
    {
     "name": "stdout",
     "output_type": "stream",
     "text": [
      "epoch 121 batch id 1 loss 7.688041660003364e-05 train acc 1.0\n",
      "epoch 121 batch id 201 loss 9.859749843599275e-05 train acc 0.9963041933191191\n",
      "epoch 121 batch id 401 loss 7.754762918921188e-05 train acc 0.9970787317420734\n",
      "epoch 121 batch id 601 loss 0.14948807656764984 train acc 0.9969099120513416\n",
      "epoch 121 train acc 0.9967286101432423\n"
     ]
    },
    {
     "data": {
      "application/vnd.jupyter.widget-view+json": {
       "model_id": "7288d262ffd3475592ee2ecf5a8ab635",
       "version_major": 2,
       "version_minor": 0
      },
      "text/plain": [
       "  0%|          | 0/95 [00:00<?, ?it/s]"
      ]
     },
     "metadata": {},
     "output_type": "display_data"
    },
    {
     "name": "stdout",
     "output_type": "stream",
     "text": [
      "epoch 121 test acc 0.6624134105756194\n"
     ]
    },
    {
     "data": {
      "application/vnd.jupyter.widget-view+json": {
       "model_id": "bc55bb74d5bf435483a83f1c3abf00b7",
       "version_major": 2,
       "version_minor": 0
      },
      "text/plain": [
       "  0%|          | 0/738 [00:00<?, ?it/s]"
      ]
     },
     "metadata": {},
     "output_type": "display_data"
    },
    {
     "name": "stdout",
     "output_type": "stream",
     "text": [
      "epoch 122 batch id 1 loss 0.05357097461819649 train acc 0.9857142857142858\n",
      "epoch 122 batch id 201 loss 8.152567170327529e-05 train acc 0.9960909737029143\n",
      "epoch 122 batch id 401 loss 8.931257616495714e-05 train acc 0.9970787317420734\n",
      "epoch 122 batch id 601 loss 0.007551303133368492 train acc 0.9968148324221524\n",
      "epoch 122 train acc 0.9967286101432424\n"
     ]
    },
    {
     "data": {
      "application/vnd.jupyter.widget-view+json": {
       "model_id": "01424b39a9ab4f02bc53925c8ec949f8",
       "version_major": 2,
       "version_minor": 0
      },
      "text/plain": [
       "  0%|          | 0/95 [00:00<?, ?it/s]"
      ]
     },
     "metadata": {},
     "output_type": "display_data"
    },
    {
     "name": "stdout",
     "output_type": "stream",
     "text": [
      "epoch 122 test acc 0.6653765561444595\n"
     ]
    },
    {
     "data": {
      "application/vnd.jupyter.widget-view+json": {
       "model_id": "35e02ed5a6554705bbfd64f171dde2f0",
       "version_major": 2,
       "version_minor": 0
      },
      "text/plain": [
       "  0%|          | 0/738 [00:00<?, ?it/s]"
      ]
     },
     "metadata": {},
     "output_type": "display_data"
    },
    {
     "name": "stdout",
     "output_type": "stream",
     "text": [
      "epoch 123 batch id 1 loss 8.345212700078264e-05 train acc 1.0\n",
      "epoch 123 batch id 201 loss 0.00022629731392953545 train acc 0.9963041933191188\n",
      "epoch 123 batch id 401 loss 7.877689495217055e-05 train acc 0.9972212326327035\n",
      "epoch 123 batch id 601 loss 7.192455814220011e-05 train acc 0.9970763014024234\n",
      "epoch 123 train acc 0.9969802555168392\n"
     ]
    },
    {
     "data": {
      "application/vnd.jupyter.widget-view+json": {
       "model_id": "a49b0ae6d86a4c2c9931a5a1a24f794f",
       "version_major": 2,
       "version_minor": 0
      },
      "text/plain": [
       "  0%|          | 0/95 [00:00<?, ?it/s]"
      ]
     },
     "metadata": {},
     "output_type": "display_data"
    },
    {
     "name": "stdout",
     "output_type": "stream",
     "text": [
      "epoch 123 test acc 0.6678269444102061\n"
     ]
    },
    {
     "data": {
      "application/vnd.jupyter.widget-view+json": {
       "model_id": "24008cb3caff446d9dacb1163fe4b975",
       "version_major": 2,
       "version_minor": 0
      },
      "text/plain": [
       "  0%|          | 0/738 [00:00<?, ?it/s]"
      ]
     },
     "metadata": {},
     "output_type": "display_data"
    },
    {
     "name": "stdout",
     "output_type": "stream",
     "text": [
      "epoch 124 batch id 1 loss 0.00014616610133089125 train acc 1.0\n",
      "epoch 124 batch id 201 loss 5.6685028539504856e-05 train acc 0.9970149253731342\n",
      "epoch 124 batch id 401 loss 7.199400715762749e-05 train acc 0.9975418596366221\n",
      "epoch 124 batch id 601 loss 0.00012176402378827333 train acc 0.99710007130972\n",
      "epoch 124 train acc 0.9971931862175744\n"
     ]
    },
    {
     "data": {
      "application/vnd.jupyter.widget-view+json": {
       "model_id": "f5f5679db3834f59867bc0fabd43882a",
       "version_major": 2,
       "version_minor": 0
      },
      "text/plain": [
       "  0%|          | 0/95 [00:00<?, ?it/s]"
      ]
     },
     "metadata": {},
     "output_type": "display_data"
    },
    {
     "name": "stdout",
     "output_type": "stream",
     "text": [
      "epoch 124 test acc 0.6808874645630472\n"
     ]
    },
    {
     "data": {
      "application/vnd.jupyter.widget-view+json": {
       "model_id": "08f52ebe34b947499856d2e29e8a5778",
       "version_major": 2,
       "version_minor": 0
      },
      "text/plain": [
       "  0%|          | 0/738 [00:00<?, ?it/s]"
      ]
     },
     "metadata": {},
     "output_type": "display_data"
    },
    {
     "name": "stdout",
     "output_type": "stream",
     "text": [
      "epoch 125 batch id 1 loss 6.441854202421382e-05 train acc 1.0\n",
      "epoch 125 batch id 201 loss 6.592871795874089e-05 train acc 0.99680170575693\n",
      "epoch 125 batch id 401 loss 4.357645593699999e-05 train acc 0.9973993587459917\n",
      "epoch 125 batch id 601 loss 0.00010083326196763664 train acc 0.9971000713097204\n",
      "epoch 125 train acc 0.9969608981804083\n"
     ]
    },
    {
     "data": {
      "application/vnd.jupyter.widget-view+json": {
       "model_id": "c69de31e94654b138916e00ff6d6a778",
       "version_major": 2,
       "version_minor": 0
      },
      "text/plain": [
       "  0%|          | 0/95 [00:00<?, ?it/s]"
      ]
     },
     "metadata": {},
     "output_type": "display_data"
    },
    {
     "name": "stdout",
     "output_type": "stream",
     "text": [
      "epoch 125 test acc 0.6661949956859362\n"
     ]
    },
    {
     "data": {
      "application/vnd.jupyter.widget-view+json": {
       "model_id": "f7dfbd2db67044a7a106bedbb49ea299",
       "version_major": 2,
       "version_minor": 0
      },
      "text/plain": [
       "  0%|          | 0/738 [00:00<?, ?it/s]"
      ]
     },
     "metadata": {},
     "output_type": "display_data"
    },
    {
     "name": "stdout",
     "output_type": "stream",
     "text": [
      "epoch 126 batch id 1 loss 8.293231076095253e-05 train acc 1.0\n",
      "epoch 126 batch id 201 loss 0.0004366522189229727 train acc 0.997441364605544\n",
      "epoch 126 batch id 401 loss 6.492540705949068e-05 train acc 0.9976131100819375\n",
      "epoch 126 batch id 601 loss 0.00011995412205578759 train acc 0.9973615402899914\n",
      "epoch 126 train acc 0.9973093302361575\n"
     ]
    },
    {
     "data": {
      "application/vnd.jupyter.widget-view+json": {
       "model_id": "f1319ae62e704dac95195f47cecd5323",
       "version_major": 2,
       "version_minor": 0
      },
      "text/plain": [
       "  0%|          | 0/95 [00:00<?, ?it/s]"
      ]
     },
     "metadata": {},
     "output_type": "display_data"
    },
    {
     "name": "stdout",
     "output_type": "stream",
     "text": [
      "epoch 126 test acc 0.6852261802046101\n"
     ]
    },
    {
     "data": {
      "application/vnd.jupyter.widget-view+json": {
       "model_id": "402adee9068e47fea397e65a1404ba1d",
       "version_major": 2,
       "version_minor": 0
      },
      "text/plain": [
       "  0%|          | 0/738 [00:00<?, ?it/s]"
      ]
     },
     "metadata": {},
     "output_type": "display_data"
    },
    {
     "name": "stdout",
     "output_type": "stream",
     "text": [
      "epoch 127 batch id 1 loss 0.0002895877114497125 train acc 1.0\n",
      "epoch 127 batch id 201 loss 0.055128175765275955 train acc 0.9972992181947408\n",
      "epoch 127 batch id 401 loss 0.00028161006048321724 train acc 0.9980049875311716\n",
      "epoch 127 batch id 601 loss 0.014986969530582428 train acc 0.9974566199191806\n",
      "epoch 127 train acc 0.9971931862175741\n"
     ]
    },
    {
     "data": {
      "application/vnd.jupyter.widget-view+json": {
       "model_id": "db71f51d920b4a878fd2039c5d83ee64",
       "version_major": 2,
       "version_minor": 0
      },
      "text/plain": [
       "  0%|          | 0/95 [00:00<?, ?it/s]"
      ]
     },
     "metadata": {},
     "output_type": "display_data"
    },
    {
     "name": "stdout",
     "output_type": "stream",
     "text": [
      "epoch 127 test acc 0.6775570072722792\n"
     ]
    },
    {
     "data": {
      "application/vnd.jupyter.widget-view+json": {
       "model_id": "b842ea51501c465fbbbbf79749568236",
       "version_major": 2,
       "version_minor": 0
      },
      "text/plain": [
       "  0%|          | 0/738 [00:00<?, ?it/s]"
      ]
     },
     "metadata": {},
     "output_type": "display_data"
    },
    {
     "name": "stdout",
     "output_type": "stream",
     "text": [
      "epoch 128 batch id 1 loss 0.00010322350863134488 train acc 1.0\n",
      "epoch 128 batch id 201 loss 9.405471064383164e-05 train acc 0.9973702914001422\n",
      "epoch 128 batch id 401 loss 6.089563248679042e-05 train acc 0.9975418596366219\n",
      "epoch 128 batch id 601 loss 0.021586956456303596 train acc 0.996767292607557\n",
      "epoch 128 train acc 0.9969221835075474\n"
     ]
    },
    {
     "data": {
      "application/vnd.jupyter.widget-view+json": {
       "model_id": "eb19aa0c9af2407fbd7097af4bced550",
       "version_major": 2,
       "version_minor": 0
      },
      "text/plain": [
       "  0%|          | 0/95 [00:00<?, ?it/s]"
      ]
     },
     "metadata": {},
     "output_type": "display_data"
    },
    {
     "name": "stdout",
     "output_type": "stream",
     "text": [
      "epoch 128 test acc 0.6852261802046101\n"
     ]
    },
    {
     "data": {
      "application/vnd.jupyter.widget-view+json": {
       "model_id": "5f17843a6157458bbaefdc18797be4ce",
       "version_major": 2,
       "version_minor": 0
      },
      "text/plain": [
       "  0%|          | 0/738 [00:00<?, ?it/s]"
      ]
     },
     "metadata": {},
     "output_type": "display_data"
    },
    {
     "name": "stdout",
     "output_type": "stream",
     "text": [
      "epoch 129 batch id 1 loss 0.00014161992294248194 train acc 1.0\n",
      "epoch 129 batch id 201 loss 8.435318886768073e-05 train acc 0.9980099502487564\n",
      "epoch 129 batch id 401 loss 0.0042792088352143764 train acc 0.9985749910936941\n",
      "epoch 129 batch id 601 loss 0.0001719012507237494 train acc 0.9977893986213441\n",
      "epoch 129 train acc 0.9975803329461846\n"
     ]
    },
    {
     "data": {
      "application/vnd.jupyter.widget-view+json": {
       "model_id": "74699ea98791426c9fd15d91f22adf52",
       "version_major": 2,
       "version_minor": 0
      },
      "text/plain": [
       "  0%|          | 0/95 [00:00<?, ?it/s]"
      ]
     },
     "metadata": {},
     "output_type": "display_data"
    },
    {
     "name": "stdout",
     "output_type": "stream",
     "text": [
      "epoch 129 test acc 0.6805423394551956\n"
     ]
    },
    {
     "data": {
      "application/vnd.jupyter.widget-view+json": {
       "model_id": "5b17cfe6e5a2428fb282d802ecff386a",
       "version_major": 2,
       "version_minor": 0
      },
      "text/plain": [
       "  0%|          | 0/738 [00:00<?, ?it/s]"
      ]
     },
     "metadata": {},
     "output_type": "display_data"
    },
    {
     "name": "stdout",
     "output_type": "stream",
     "text": [
      "epoch 130 batch id 1 loss 0.008875556290149689 train acc 1.0\n",
      "epoch 130 batch id 201 loss 7.15675123501569e-05 train acc 0.9977256574271502\n",
      "epoch 130 batch id 401 loss 7.016138260951266e-05 train acc 0.9981118631991452\n",
      "epoch 130 batch id 601 loss 0.0001242866856046021 train acc 0.9976467791775603\n",
      "epoch 130 train acc 0.9975803329461852\n"
     ]
    },
    {
     "data": {
      "application/vnd.jupyter.widget-view+json": {
       "model_id": "af3065c92b434d159d0f223f26ba6a65",
       "version_major": 2,
       "version_minor": 0
      },
      "text/plain": [
       "  0%|          | 0/95 [00:00<?, ?it/s]"
      ]
     },
     "metadata": {},
     "output_type": "display_data"
    },
    {
     "name": "stdout",
     "output_type": "stream",
     "text": [
      "epoch 130 test acc 0.6745051152471342\n"
     ]
    },
    {
     "data": {
      "application/vnd.jupyter.widget-view+json": {
       "model_id": "d04bcabae1dc4bf6b67e4366acf11f73",
       "version_major": 2,
       "version_minor": 0
      },
      "text/plain": [
       "  0%|          | 0/738 [00:00<?, ?it/s]"
      ]
     },
     "metadata": {},
     "output_type": "display_data"
    },
    {
     "name": "stdout",
     "output_type": "stream",
     "text": [
      "epoch 131 batch id 1 loss 0.00010223810386378318 train acc 1.0\n",
      "epoch 131 batch id 201 loss 0.06504259258508682 train acc 0.9971570717839376\n",
      "epoch 131 batch id 401 loss 4.8727284593041986e-05 train acc 0.9977912361952259\n",
      "epoch 131 batch id 601 loss 7.397386798402295e-05 train acc 0.9977418588067495\n",
      "epoch 131 train acc 0.9974496709252793\n"
     ]
    },
    {
     "data": {
      "application/vnd.jupyter.widget-view+json": {
       "model_id": "107597f61bf8459db3c779db9218e746",
       "version_major": 2,
       "version_minor": 0
      },
      "text/plain": [
       "  0%|          | 0/95 [00:00<?, ?it/s]"
      ]
     },
     "metadata": {},
     "output_type": "display_data"
    },
    {
     "name": "stdout",
     "output_type": "stream",
     "text": [
      "epoch 131 test acc 0.6990607666707754\n"
     ]
    },
    {
     "data": {
      "application/vnd.jupyter.widget-view+json": {
       "model_id": "f9cf3c18f0c24043b02f3193567677f8",
       "version_major": 2,
       "version_minor": 0
      },
      "text/plain": [
       "  0%|          | 0/738 [00:00<?, ?it/s]"
      ]
     },
     "metadata": {},
     "output_type": "display_data"
    },
    {
     "name": "stdout",
     "output_type": "stream",
     "text": [
      "epoch 132 batch id 1 loss 5.246196815278381e-05 train acc 1.0\n",
      "epoch 132 batch id 201 loss 3.738971645361744e-05 train acc 0.9975835110163469\n",
      "epoch 132 batch id 401 loss 0.004679757170379162 train acc 0.9978624866405409\n",
      "epoch 132 batch id 601 loss 0.00014531795750372112 train acc 0.9974803898264778\n",
      "epoch 132 train acc 0.9974448315911708\n"
     ]
    },
    {
     "data": {
      "application/vnd.jupyter.widget-view+json": {
       "model_id": "66cad92b80b04b9c95326ec86cf0d326",
       "version_major": 2,
       "version_minor": 0
      },
      "text/plain": [
       "  0%|          | 0/95 [00:00<?, ?it/s]"
      ]
     },
     "metadata": {},
     "output_type": "display_data"
    },
    {
     "name": "stdout",
     "output_type": "stream",
     "text": [
      "epoch 132 test acc 0.68780475779613\n"
     ]
    },
    {
     "data": {
      "application/vnd.jupyter.widget-view+json": {
       "model_id": "79d143cc64ef44f2ae222424154e7258",
       "version_major": 2,
       "version_minor": 0
      },
      "text/plain": [
       "  0%|          | 0/738 [00:00<?, ?it/s]"
      ]
     },
     "metadata": {},
     "output_type": "display_data"
    },
    {
     "name": "stdout",
     "output_type": "stream",
     "text": [
      "epoch 133 batch id 1 loss 5.7620567531557754e-05 train acc 1.0\n",
      "epoch 133 batch id 201 loss 6.888155621709302e-05 train acc 0.9977256574271504\n",
      "epoch 133 batch id 401 loss 0.009087949059903622 train acc 0.9982187388671178\n",
      "epoch 133 batch id 601 loss 0.00011528190225362778 train acc 0.9978369384359387\n",
      "epoch 133 train acc 0.9976964769647677\n"
     ]
    },
    {
     "data": {
      "application/vnd.jupyter.widget-view+json": {
       "model_id": "a4b9ff59cbae4ee3a168306535f39474",
       "version_major": 2,
       "version_minor": 0
      },
      "text/plain": [
       "  0%|          | 0/95 [00:00<?, ?it/s]"
      ]
     },
     "metadata": {},
     "output_type": "display_data"
    },
    {
     "name": "stdout",
     "output_type": "stream",
     "text": [
      "epoch 133 test acc 0.6960532478737834\n"
     ]
    },
    {
     "data": {
      "application/vnd.jupyter.widget-view+json": {
       "model_id": "6bd05f248fb547e2bff0be9f54f68cc1",
       "version_major": 2,
       "version_minor": 0
      },
      "text/plain": [
       "  0%|          | 0/738 [00:00<?, ?it/s]"
      ]
     },
     "metadata": {},
     "output_type": "display_data"
    },
    {
     "name": "stdout",
     "output_type": "stream",
     "text": [
      "epoch 134 batch id 1 loss 0.00014593699597753584 train acc 1.0\n",
      "epoch 134 batch id 201 loss 0.00019115918257739395 train acc 0.9978678038379533\n",
      "epoch 134 batch id 401 loss 8.571386570110917e-05 train acc 0.9979337370858566\n",
      "epoch 134 batch id 601 loss 0.01337966788560152 train acc 0.9975754694556679\n",
      "epoch 134 train acc 0.997289972899727\n"
     ]
    },
    {
     "data": {
      "application/vnd.jupyter.widget-view+json": {
       "model_id": "19969eafe1ba4514887dfb2375c10849",
       "version_major": 2,
       "version_minor": 0
      },
      "text/plain": [
       "  0%|          | 0/95 [00:00<?, ?it/s]"
      ]
     },
     "metadata": {},
     "output_type": "display_data"
    },
    {
     "name": "stdout",
     "output_type": "stream",
     "text": [
      "epoch 134 test acc 0.7005867126833478\n"
     ]
    },
    {
     "data": {
      "application/vnd.jupyter.widget-view+json": {
       "model_id": "9f2b36cb6ce14cfa8ef3f59fa1ed2215",
       "version_major": 2,
       "version_minor": 0
      },
      "text/plain": [
       "  0%|          | 0/738 [00:00<?, ?it/s]"
      ]
     },
     "metadata": {},
     "output_type": "display_data"
    },
    {
     "name": "stdout",
     "output_type": "stream",
     "text": [
      "epoch 135 batch id 1 loss 0.05990186333656311 train acc 0.9857142857142858\n",
      "epoch 135 batch id 201 loss 5.068568862043321e-05 train acc 0.9981520966595596\n",
      "epoch 135 batch id 401 loss 0.008461390621960163 train acc 0.9983968649804058\n",
      "epoch 135 batch id 601 loss 0.0001581076066941023 train acc 0.9983123365818861\n",
      "epoch 135 train acc 0.9980449090205172\n"
     ]
    },
    {
     "data": {
      "application/vnd.jupyter.widget-view+json": {
       "model_id": "ddc6532b94254419a595a6a5441bda2f",
       "version_major": 2,
       "version_minor": 0
      },
      "text/plain": [
       "  0%|          | 0/95 [00:00<?, ?it/s]"
      ]
     },
     "metadata": {},
     "output_type": "display_data"
    },
    {
     "name": "stdout",
     "output_type": "stream",
     "text": [
      "epoch 135 test acc 0.6986318254653028\n"
     ]
    },
    {
     "data": {
      "application/vnd.jupyter.widget-view+json": {
       "model_id": "59668623373f48438b16d738d73da42f",
       "version_major": 2,
       "version_minor": 0
      },
      "text/plain": [
       "  0%|          | 0/738 [00:00<?, ?it/s]"
      ]
     },
     "metadata": {},
     "output_type": "display_data"
    },
    {
     "name": "stdout",
     "output_type": "stream",
     "text": [
      "epoch 136 batch id 1 loss 0.0005055936053395271 train acc 1.0\n",
      "epoch 136 batch id 201 loss 0.00014481907419394702 train acc 0.9982231698649607\n",
      "epoch 136 batch id 401 loss 0.04293682426214218 train acc 0.9986462415390094\n",
      "epoch 136 batch id 601 loss 4.9575221055420116e-05 train acc 0.998122177323507\n",
      "epoch 136 train acc 0.9978900503290727\n"
     ]
    },
    {
     "data": {
      "application/vnd.jupyter.widget-view+json": {
       "model_id": "707e164fc9154793a56b7c06e7f19233",
       "version_major": 2,
       "version_minor": 0
      },
      "text/plain": [
       "  0%|          | 0/95 [00:00<?, ?it/s]"
      ]
     },
     "metadata": {},
     "output_type": "display_data"
    },
    {
     "name": "stdout",
     "output_type": "stream",
     "text": [
      "epoch 136 test acc 0.7001577714778752\n"
     ]
    },
    {
     "data": {
      "application/vnd.jupyter.widget-view+json": {
       "model_id": "91d08b89d2cf49e6b58dfdc7aa65b19c",
       "version_major": 2,
       "version_minor": 0
      },
      "text/plain": [
       "  0%|          | 0/738 [00:00<?, ?it/s]"
      ]
     },
     "metadata": {},
     "output_type": "display_data"
    },
    {
     "name": "stdout",
     "output_type": "stream",
     "text": [
      "epoch 137 batch id 1 loss 0.00012951994722243398 train acc 1.0\n",
      "epoch 137 batch id 201 loss 4.230087506584823e-05 train acc 0.9984363894811658\n",
      "epoch 137 batch id 401 loss 0.030506640672683716 train acc 0.998361239757748\n",
      "epoch 137 batch id 601 loss 0.020071089267730713 train acc 0.9980984074162096\n",
      "epoch 137 train acc 0.9979674796747949\n"
     ]
    },
    {
     "data": {
      "application/vnd.jupyter.widget-view+json": {
       "model_id": "f86b40cbae114ffb9ea571e17747ac90",
       "version_major": 2,
       "version_minor": 0
      },
      "text/plain": [
       "  0%|          | 0/95 [00:00<?, ?it/s]"
      ]
     },
     "metadata": {},
     "output_type": "display_data"
    },
    {
     "name": "stdout",
     "output_type": "stream",
     "text": [
      "epoch 137 test acc 0.7030149143350182\n"
     ]
    },
    {
     "data": {
      "application/vnd.jupyter.widget-view+json": {
       "model_id": "c1ae56b35aa24f0b83b3603458188bd6",
       "version_major": 2,
       "version_minor": 0
      },
      "text/plain": [
       "  0%|          | 0/738 [00:00<?, ?it/s]"
      ]
     },
     "metadata": {},
     "output_type": "display_data"
    },
    {
     "name": "stdout",
     "output_type": "stream",
     "text": [
      "epoch 138 batch id 1 loss 7.548011490143836e-05 train acc 1.0\n",
      "epoch 138 batch id 201 loss 4.320629159337841e-05 train acc 0.9977256574271502\n",
      "epoch 138 batch id 401 loss 0.00011525089939823374 train acc 0.9983968649804058\n",
      "epoch 138 batch id 601 loss 7.017047755653039e-05 train acc 0.9980508676016149\n",
      "epoch 138 train acc 0.9979287650019338\n"
     ]
    },
    {
     "data": {
      "application/vnd.jupyter.widget-view+json": {
       "model_id": "d87d208106ac4e55ba2f1608cadcd121",
       "version_major": 2,
       "version_minor": 0
      },
      "text/plain": [
       "  0%|          | 0/95 [00:00<?, ?it/s]"
      ]
     },
     "metadata": {},
     "output_type": "display_data"
    },
    {
     "name": "stdout",
     "output_type": "stream",
     "text": [
      "epoch 138 test acc 0.7050979908788367\n"
     ]
    },
    {
     "data": {
      "application/vnd.jupyter.widget-view+json": {
       "model_id": "a4bdefdbf87b435cb2031e2bd1e674ba",
       "version_major": 2,
       "version_minor": 0
      },
      "text/plain": [
       "  0%|          | 0/738 [00:00<?, ?it/s]"
      ]
     },
     "metadata": {},
     "output_type": "display_data"
    },
    {
     "name": "stdout",
     "output_type": "stream",
     "text": [
      "epoch 139 batch id 1 loss 3.553179340087809e-05 train acc 1.0\n",
      "epoch 139 batch id 201 loss 6.653127638855949e-05 train acc 0.9979388770433549\n",
      "epoch 139 batch id 401 loss 6.676573684671894e-05 train acc 0.9981831136444599\n",
      "epoch 139 batch id 601 loss 0.03556618094444275 train acc 0.9980270976943179\n",
      "epoch 139 train acc 0.9980061943476563\n"
     ]
    },
    {
     "data": {
      "application/vnd.jupyter.widget-view+json": {
       "model_id": "701a54600c4a41ab9dd811a122e8d9a7",
       "version_major": 2,
       "version_minor": 0
      },
      "text/plain": [
       "  0%|          | 0/95 [00:00<?, ?it/s]"
      ]
     },
     "metadata": {},
     "output_type": "display_data"
    },
    {
     "name": "stdout",
     "output_type": "stream",
     "text": [
      "epoch 139 test acc 0.7049476149389869\n"
     ]
    },
    {
     "data": {
      "application/vnd.jupyter.widget-view+json": {
       "model_id": "4b0e2dc0b2224efbb07838bb0f9e80a2",
       "version_major": 2,
       "version_minor": 0
      },
      "text/plain": [
       "  0%|          | 0/738 [00:00<?, ?it/s]"
      ]
     },
     "metadata": {},
     "output_type": "display_data"
    },
    {
     "name": "stdout",
     "output_type": "stream",
     "text": [
      "epoch 140 batch id 1 loss 8.235155110014603e-05 train acc 1.0\n",
      "epoch 140 batch id 201 loss 3.92677029594779e-05 train acc 0.9982231698649613\n",
      "epoch 140 batch id 401 loss 7.064767851261422e-05 train acc 0.9983968649804059\n",
      "epoch 140 batch id 601 loss 0.0012842670548707247 train acc 0.9979557879724257\n",
      "epoch 140 train acc 0.9979287650019342\n"
     ]
    },
    {
     "data": {
      "application/vnd.jupyter.widget-view+json": {
       "model_id": "5d65a447bf7e42979b25bb5e9f6b22a0",
       "version_major": 2,
       "version_minor": 0
      },
      "text/plain": [
       "  0%|          | 0/95 [00:00<?, ?it/s]"
      ]
     },
     "metadata": {},
     "output_type": "display_data"
    },
    {
     "name": "stdout",
     "output_type": "stream",
     "text": [
      "epoch 140 test acc 0.7047972389991374\n"
     ]
    },
    {
     "data": {
      "application/vnd.jupyter.widget-view+json": {
       "model_id": "449f154eb3f0466392a275cb8c8ddb49",
       "version_major": 2,
       "version_minor": 0
      },
      "text/plain": [
       "  0%|          | 0/738 [00:00<?, ?it/s]"
      ]
     },
     "metadata": {},
     "output_type": "display_data"
    },
    {
     "name": "stdout",
     "output_type": "stream",
     "text": [
      "epoch 141 batch id 1 loss 0.0009701890521682799 train acc 1.0\n",
      "epoch 141 batch id 201 loss 0.00011751402780646458 train acc 0.998720682302772\n",
      "epoch 141 batch id 401 loss 0.005469435825943947 train acc 0.9986462415390094\n",
      "epoch 141 batch id 601 loss 0.07806918770074844 train acc 0.9982172569526966\n",
      "epoch 141 train acc 0.9981416957026698\n"
     ]
    },
    {
     "data": {
      "application/vnd.jupyter.widget-view+json": {
       "model_id": "4046540ab64d486c8a8002ed70b7b77f",
       "version_major": 2,
       "version_minor": 0
      },
      "text/plain": [
       "  0%|          | 0/95 [00:00<?, ?it/s]"
      ]
     },
     "metadata": {},
     "output_type": "display_data"
    },
    {
     "name": "stdout",
     "output_type": "stream",
     "text": [
      "epoch 141 test acc 0.7073092567484284\n"
     ]
    },
    {
     "data": {
      "application/vnd.jupyter.widget-view+json": {
       "model_id": "651b976c57bd4524a70a549ee2c80687",
       "version_major": 2,
       "version_minor": 0
      },
      "text/plain": [
       "  0%|          | 0/738 [00:00<?, ?it/s]"
      ]
     },
     "metadata": {},
     "output_type": "display_data"
    },
    {
     "name": "stdout",
     "output_type": "stream",
     "text": [
      "epoch 142 batch id 1 loss 0.05125932767987251 train acc 0.9857142857142858\n",
      "epoch 142 batch id 201 loss 7.684257434448227e-05 train acc 0.9977967306325519\n",
      "epoch 142 batch id 401 loss 3.601725984481163e-05 train acc 0.998396864980406\n",
      "epoch 142 batch id 601 loss 0.039825189858675 train acc 0.9980033277870206\n",
      "epoch 142 train acc 0.9977158343011985\n"
     ]
    },
    {
     "data": {
      "application/vnd.jupyter.widget-view+json": {
       "model_id": "8730b98a28424b3c9e4b81467ceb4f41",
       "version_major": 2,
       "version_minor": 0
      },
      "text/plain": [
       "  0%|          | 0/95 [00:00<?, ?it/s]"
      ]
     },
     "metadata": {},
     "output_type": "display_data"
    },
    {
     "name": "stdout",
     "output_type": "stream",
     "text": [
      "epoch 142 test acc 0.716053247873783\n"
     ]
    },
    {
     "data": {
      "application/vnd.jupyter.widget-view+json": {
       "model_id": "fd457d19e1fb4079af4d2d9f19702afb",
       "version_major": 2,
       "version_minor": 0
      },
      "text/plain": [
       "  0%|          | 0/738 [00:00<?, ?it/s]"
      ]
     },
     "metadata": {},
     "output_type": "display_data"
    },
    {
     "name": "stdout",
     "output_type": "stream",
     "text": [
      "epoch 143 batch id 1 loss 0.0025464631617069244 train acc 1.0\n",
      "epoch 143 batch id 201 loss 7.670080231036991e-05 train acc 0.9985785358919691\n",
      "epoch 143 batch id 401 loss 3.699969602166675e-05 train acc 0.9989312433202707\n",
      "epoch 143 batch id 601 loss 5.3418512834468856e-05 train acc 0.9985262657475625\n",
      "epoch 143 train acc 0.9982771970576833\n"
     ]
    },
    {
     "data": {
      "application/vnd.jupyter.widget-view+json": {
       "model_id": "195629c118654abc9cd8a9f12da753d4",
       "version_major": 2,
       "version_minor": 0
      },
      "text/plain": [
       "  0%|          | 0/95 [00:00<?, ?it/s]"
      ]
     },
     "metadata": {},
     "output_type": "display_data"
    },
    {
     "name": "stdout",
     "output_type": "stream",
     "text": [
      "epoch 143 test acc 0.7110908418587452\n"
     ]
    },
    {
     "data": {
      "application/vnd.jupyter.widget-view+json": {
       "model_id": "c6405242ad1a4c4e9e656759541d1698",
       "version_major": 2,
       "version_minor": 0
      },
      "text/plain": [
       "  0%|          | 0/738 [00:00<?, ?it/s]"
      ]
     },
     "metadata": {},
     "output_type": "display_data"
    },
    {
     "name": "stdout",
     "output_type": "stream",
     "text": [
      "epoch 144 batch id 1 loss 4.613522833096795e-05 train acc 1.0\n",
      "epoch 144 batch id 201 loss 0.001047455589286983 train acc 0.9982942430703627\n",
      "epoch 144 batch id 401 loss 0.0076120332814753056 train acc 0.9985749910936941\n",
      "epoch 144 batch id 601 loss 3.976352672907524e-05 train acc 0.9985262657475628\n",
      "epoch 144 train acc 0.9982191250483918\n"
     ]
    },
    {
     "data": {
      "application/vnd.jupyter.widget-view+json": {
       "model_id": "2177596e8a034727a580390811d9eef9",
       "version_major": 2,
       "version_minor": 0
      },
      "text/plain": [
       "  0%|          | 0/95 [00:00<?, ?it/s]"
      ]
     },
     "metadata": {},
     "output_type": "display_data"
    },
    {
     "name": "stdout",
     "output_type": "stream",
     "text": [
      "epoch 144 test acc 0.7158190558363121\n"
     ]
    },
    {
     "data": {
      "application/vnd.jupyter.widget-view+json": {
       "model_id": "f1b0757012834646866d1256f3955926",
       "version_major": 2,
       "version_minor": 0
      },
      "text/plain": [
       "  0%|          | 0/738 [00:00<?, ?it/s]"
      ]
     },
     "metadata": {},
     "output_type": "display_data"
    },
    {
     "name": "stdout",
     "output_type": "stream",
     "text": [
      "epoch 145 batch id 1 loss 3.441817534621805e-05 train acc 1.0\n",
      "epoch 145 batch id 201 loss 4.273164086043835e-05 train acc 0.998720682302772\n",
      "epoch 145 batch id 401 loss 7.478894258383662e-05 train acc 0.9985749910936939\n",
      "epoch 145 batch id 601 loss 9.33839546632953e-05 train acc 0.9983361064891836\n",
      "epoch 145 train acc 0.9982384823848224\n"
     ]
    },
    {
     "data": {
      "application/vnd.jupyter.widget-view+json": {
       "model_id": "8e120355f38a41ed890a6c3b39b19080",
       "version_major": 2,
       "version_minor": 0
      },
      "text/plain": [
       "  0%|          | 0/95 [00:00<?, ?it/s]"
      ]
     },
     "metadata": {},
     "output_type": "display_data"
    },
    {
     "name": "stdout",
     "output_type": "stream",
     "text": [
      "epoch 145 test acc 0.7252483668186862\n"
     ]
    },
    {
     "data": {
      "application/vnd.jupyter.widget-view+json": {
       "model_id": "4e07bd540e4f47a381c6d5513f7c69c7",
       "version_major": 2,
       "version_minor": 0
      },
      "text/plain": [
       "  0%|          | 0/738 [00:00<?, ?it/s]"
      ]
     },
     "metadata": {},
     "output_type": "display_data"
    },
    {
     "name": "stdout",
     "output_type": "stream",
     "text": [
      "epoch 146 batch id 1 loss 3.4118376788683236e-05 train acc 1.0\n",
      "epoch 146 batch id 201 loss 6.761440454283729e-05 train acc 0.9988628287135751\n",
      "epoch 146 batch id 401 loss 3.184680826961994e-05 train acc 0.9988599928749553\n",
      "epoch 146 batch id 601 loss 3.658595232991502e-05 train acc 0.9985024958402653\n",
      "epoch 146 train acc 0.9982384823848224\n"
     ]
    },
    {
     "data": {
      "application/vnd.jupyter.widget-view+json": {
       "model_id": "c278689a5b314aa89209e5ecd7965ae6",
       "version_major": 2,
       "version_minor": 0
      },
      "text/plain": [
       "  0%|          | 0/95 [00:00<?, ?it/s]"
      ]
     },
     "metadata": {},
     "output_type": "display_data"
    },
    {
     "name": "stdout",
     "output_type": "stream",
     "text": [
      "epoch 146 test acc 0.7242179218538147\n"
     ]
    },
    {
     "data": {
      "application/vnd.jupyter.widget-view+json": {
       "model_id": "6372417f35a04c32862ec90affdee25e",
       "version_major": 2,
       "version_minor": 0
      },
      "text/plain": [
       "  0%|          | 0/738 [00:00<?, ?it/s]"
      ]
     },
     "metadata": {},
     "output_type": "display_data"
    },
    {
     "name": "stdout",
     "output_type": "stream",
     "text": [
      "epoch 147 batch id 1 loss 2.9609162083943374e-05 train acc 1.0\n",
      "epoch 147 batch id 201 loss 3.003995880135335e-05 train acc 0.9992181947405832\n",
      "epoch 147 batch id 401 loss 2.954624142148532e-05 train acc 0.9992518703241894\n",
      "epoch 147 batch id 601 loss 5.085572411189787e-05 train acc 0.9989778939862126\n",
      "epoch 147 train acc 0.9987998451413074\n"
     ]
    },
    {
     "data": {
      "application/vnd.jupyter.widget-view+json": {
       "model_id": "d9e51451fbfa44e09fabfa697142f8bd",
       "version_major": 2,
       "version_minor": 0
      },
      "text/plain": [
       "  0%|          | 0/95 [00:00<?, ?it/s]"
      ]
     },
     "metadata": {},
     "output_type": "display_data"
    },
    {
     "name": "stdout",
     "output_type": "stream",
     "text": [
      "epoch 147 test acc 0.7228867250092447\n"
     ]
    },
    {
     "data": {
      "application/vnd.jupyter.widget-view+json": {
       "model_id": "a7f351016af146dbb6d9e63f4c8100ef",
       "version_major": 2,
       "version_minor": 0
      },
      "text/plain": [
       "  0%|          | 0/738 [00:00<?, ?it/s]"
      ]
     },
     "metadata": {},
     "output_type": "display_data"
    },
    {
     "name": "stdout",
     "output_type": "stream",
     "text": [
      "epoch 148 batch id 1 loss 2.6080781026394106e-05 train acc 1.0\n",
      "epoch 148 batch id 201 loss 0.00015751026512589306 train acc 0.9985074626865674\n",
      "epoch 148 batch id 401 loss 0.08902046829462051 train acc 0.9983968649804058\n",
      "epoch 148 batch id 601 loss 0.00012404975132085383 train acc 0.998122177323507\n",
      "epoch 148 train acc 0.9979868370112255\n"
     ]
    },
    {
     "data": {
      "application/vnd.jupyter.widget-view+json": {
       "model_id": "2218c907051745a88290d2f33bda2ea1",
       "version_major": 2,
       "version_minor": 0
      },
      "text/plain": [
       "  0%|          | 0/95 [00:00<?, ?it/s]"
      ]
     },
     "metadata": {},
     "output_type": "display_data"
    },
    {
     "name": "stdout",
     "output_type": "stream",
     "text": [
      "epoch 148 test acc 0.7241957352397391\n"
     ]
    },
    {
     "data": {
      "application/vnd.jupyter.widget-view+json": {
       "model_id": "5c6e2f707e6f46d7b120483a54c93881",
       "version_major": 2,
       "version_minor": 0
      },
      "text/plain": [
       "  0%|          | 0/738 [00:00<?, ?it/s]"
      ]
     },
     "metadata": {},
     "output_type": "display_data"
    },
    {
     "name": "stdout",
     "output_type": "stream",
     "text": [
      "epoch 149 batch id 1 loss 3.009452484548092e-05 train acc 1.0\n",
      "epoch 149 batch id 201 loss 5.5606204114155844e-05 train acc 0.9991471215351813\n",
      "epoch 149 batch id 401 loss 2.85277401417261e-05 train acc 0.9994299964374775\n",
      "epoch 149 batch id 601 loss 3.209012356819585e-05 train acc 0.998835274542428\n",
      "epoch 149 train acc 0.9987224157955851\n"
     ]
    },
    {
     "data": {
      "application/vnd.jupyter.widget-view+json": {
       "model_id": "9ba9fd2444234ba8ae84a01d4e059e24",
       "version_major": 2,
       "version_minor": 0
      },
      "text/plain": [
       "  0%|          | 0/95 [00:00<?, ?it/s]"
      ]
     },
     "metadata": {},
     "output_type": "display_data"
    },
    {
     "name": "stdout",
     "output_type": "stream",
     "text": [
      "epoch 149 test acc 0.7267521262171827\n"
     ]
    },
    {
     "data": {
      "application/vnd.jupyter.widget-view+json": {
       "model_id": "c68dc129001e40fcac779ca08987bf82",
       "version_major": 2,
       "version_minor": 0
      },
      "text/plain": [
       "  0%|          | 0/738 [00:00<?, ?it/s]"
      ]
     },
     "metadata": {},
     "output_type": "display_data"
    },
    {
     "name": "stdout",
     "output_type": "stream",
     "text": [
      "epoch 150 batch id 1 loss 2.7508825951372273e-05 train acc 1.0\n",
      "epoch 150 batch id 201 loss 2.622556348796934e-05 train acc 0.9989339019189767\n",
      "epoch 150 batch id 401 loss 6.050919182598591e-05 train acc 0.9990737442109013\n",
      "epoch 150 batch id 601 loss 3.1049854442244396e-05 train acc 0.9986926550986442\n",
      "epoch 150 train acc 0.9986449864498634\n"
     ]
    },
    {
     "data": {
      "application/vnd.jupyter.widget-view+json": {
       "model_id": "85e038b196bf4e2893d958f6ddadb8b3",
       "version_major": 2,
       "version_minor": 0
      },
      "text/plain": [
       "  0%|          | 0/95 [00:00<?, ?it/s]"
      ]
     },
     "metadata": {},
     "output_type": "display_data"
    },
    {
     "name": "stdout",
     "output_type": "stream",
     "text": [
      "epoch 150 test acc 0.7312855910267472\n"
     ]
    },
    {
     "data": {
      "application/vnd.jupyter.widget-view+json": {
       "model_id": "22500fea04954421afa310e2380bd212",
       "version_major": 2,
       "version_minor": 0
      },
      "text/plain": [
       "  0%|          | 0/738 [00:00<?, ?it/s]"
      ]
     },
     "metadata": {},
     "output_type": "display_data"
    },
    {
     "name": "stdout",
     "output_type": "stream",
     "text": [
      "epoch 151 batch id 1 loss 3.703593392856419e-05 train acc 1.0\n",
      "epoch 151 batch id 201 loss 9.404389857081696e-05 train acc 0.9990760483297798\n",
      "epoch 151 batch id 401 loss 7.5376003223937e-05 train acc 0.9991093694335588\n",
      "epoch 151 batch id 601 loss 3.2749430829426274e-05 train acc 0.9986926550986441\n",
      "epoch 151 train acc 0.9985481997677106\n"
     ]
    },
    {
     "data": {
      "application/vnd.jupyter.widget-view+json": {
       "model_id": "24db791d695044ebaf6d4e5420105802",
       "version_major": 2,
       "version_minor": 0
      },
      "text/plain": [
       "  0%|          | 0/95 [00:00<?, ?it/s]"
      ]
     },
     "metadata": {},
     "output_type": "display_data"
    },
    {
     "name": "stdout",
     "output_type": "stream",
     "text": [
      "epoch 151 test acc 0.7281276962899053\n"
     ]
    },
    {
     "data": {
      "application/vnd.jupyter.widget-view+json": {
       "model_id": "6cb47c29b75c4f6796dcce34f5999a50",
       "version_major": 2,
       "version_minor": 0
      },
      "text/plain": [
       "  0%|          | 0/738 [00:00<?, ?it/s]"
      ]
     },
     "metadata": {},
     "output_type": "display_data"
    },
    {
     "name": "stdout",
     "output_type": "stream",
     "text": [
      "epoch 152 batch id 1 loss 0.0001240293204318732 train acc 1.0\n",
      "epoch 152 batch id 201 loss 4.3986121454508975e-05 train acc 0.9992892679459845\n",
      "epoch 152 batch id 401 loss 4.911847645416856e-05 train acc 0.999180619878874\n",
      "epoch 152 batch id 601 loss 2.9391063435468823e-05 train acc 0.9987877347278334\n",
      "epoch 152 train acc 0.9986498257839708\n"
     ]
    },
    {
     "data": {
      "application/vnd.jupyter.widget-view+json": {
       "model_id": "8b74851d8eec4a4ca6931ba4841eb044",
       "version_major": 2,
       "version_minor": 0
      },
      "text/plain": [
       "  0%|          | 0/95 [00:00<?, ?it/s]"
      ]
     },
     "metadata": {},
     "output_type": "display_data"
    },
    {
     "name": "stdout",
     "output_type": "stream",
     "text": [
      "epoch 152 test acc 0.7366769382472573\n"
     ]
    },
    {
     "data": {
      "application/vnd.jupyter.widget-view+json": {
       "model_id": "c9f3f0409e984de5ad36ec50cfee0236",
       "version_major": 2,
       "version_minor": 0
      },
      "text/plain": [
       "  0%|          | 0/738 [00:00<?, ?it/s]"
      ]
     },
     "metadata": {},
     "output_type": "display_data"
    },
    {
     "name": "stdout",
     "output_type": "stream",
     "text": [
      "epoch 153 batch id 1 loss 2.3424134269589558e-05 train acc 1.0\n",
      "epoch 153 batch id 201 loss 2.4850824047462083e-05 train acc 0.9995024875621892\n",
      "epoch 153 batch id 401 loss 2.132952431566082e-05 train acc 0.9995368721054506\n",
      "epoch 153 batch id 601 loss 2.6276615244569257e-05 train acc 0.9989778939862126\n",
      "epoch 153 train acc 0.9988192024777379\n"
     ]
    },
    {
     "data": {
      "application/vnd.jupyter.widget-view+json": {
       "model_id": "0b7400902b42426ba4b2b044493684f8",
       "version_major": 2,
       "version_minor": 0
      },
      "text/plain": [
       "  0%|          | 0/95 [00:00<?, ?it/s]"
      ]
     },
     "metadata": {},
     "output_type": "display_data"
    },
    {
     "name": "stdout",
     "output_type": "stream",
     "text": [
      "epoch 153 test acc 0.7346998644151362\n"
     ]
    },
    {
     "data": {
      "application/vnd.jupyter.widget-view+json": {
       "model_id": "1b4f8743fc3b4984adadcabf083d2d16",
       "version_major": 2,
       "version_minor": 0
      },
      "text/plain": [
       "  0%|          | 0/738 [00:00<?, ?it/s]"
      ]
     },
     "metadata": {},
     "output_type": "display_data"
    },
    {
     "name": "stdout",
     "output_type": "stream",
     "text": [
      "epoch 154 batch id 1 loss 2.087143911921885e-05 train acc 1.0\n",
      "epoch 154 batch id 201 loss 2.1411386114777997e-05 train acc 0.999218194740583\n",
      "epoch 154 batch id 401 loss 2.1237676264718175e-05 train acc 0.9994299964374777\n",
      "epoch 154 batch id 601 loss 2.2380345399142243e-05 train acc 0.9991205134299967\n",
      "epoch 154 train acc 0.9990514905149042\n"
     ]
    },
    {
     "data": {
      "application/vnd.jupyter.widget-view+json": {
       "model_id": "aefec7ac18a340bdac9da54cd36529ae",
       "version_major": 2,
       "version_minor": 0
      },
      "text/plain": [
       "  0%|          | 0/95 [00:00<?, ?it/s]"
      ]
     },
     "metadata": {},
     "output_type": "display_data"
    },
    {
     "name": "stdout",
     "output_type": "stream",
     "text": [
      "epoch 154 test acc 0.740714902009121\n"
     ]
    },
    {
     "data": {
      "application/vnd.jupyter.widget-view+json": {
       "model_id": "5d874f8720934a3e9b3c53cf957d92f6",
       "version_major": 2,
       "version_minor": 0
      },
      "text/plain": [
       "  0%|          | 0/738 [00:00<?, ?it/s]"
      ]
     },
     "metadata": {},
     "output_type": "display_data"
    },
    {
     "name": "stdout",
     "output_type": "stream",
     "text": [
      "epoch 155 batch id 1 loss 2.141130062227603e-05 train acc 1.0\n",
      "epoch 155 batch id 201 loss 2.7446050808066502e-05 train acc 0.9995735607675906\n",
      "epoch 155 batch id 401 loss 2.6280580641468987e-05 train acc 0.9995012468827928\n",
      "epoch 155 batch id 601 loss 2.4519229555153288e-05 train acc 0.9990254338008072\n",
      "epoch 155 train acc 0.9989934185056125\n"
     ]
    },
    {
     "data": {
      "application/vnd.jupyter.widget-view+json": {
       "model_id": "499f8c58250246dc86ae286581c2aa35",
       "version_major": 2,
       "version_minor": 0
      },
      "text/plain": [
       "  0%|          | 0/95 [00:00<?, ?it/s]"
      ]
     },
     "metadata": {},
     "output_type": "display_data"
    },
    {
     "name": "stdout",
     "output_type": "stream",
     "text": [
      "epoch 155 test acc 0.7363539997534821\n"
     ]
    },
    {
     "data": {
      "application/vnd.jupyter.widget-view+json": {
       "model_id": "61f9ede8f00b40a7b1f6e2e3bc657087",
       "version_major": 2,
       "version_minor": 0
      },
      "text/plain": [
       "  0%|          | 0/738 [00:00<?, ?it/s]"
      ]
     },
     "metadata": {},
     "output_type": "display_data"
    },
    {
     "name": "stdout",
     "output_type": "stream",
     "text": [
      "epoch 156 batch id 1 loss 0.00041499893995933235 train acc 1.0\n",
      "epoch 156 batch id 201 loss 8.506261656293646e-05 train acc 0.9993603411513861\n",
      "epoch 156 batch id 401 loss 4.236762833897956e-05 train acc 0.9995012468827928\n",
      "epoch 156 batch id 601 loss 2.4718192435102537e-05 train acc 0.9992631328737812\n",
      "epoch 156 train acc 0.9991289198606264\n"
     ]
    },
    {
     "data": {
      "application/vnd.jupyter.widget-view+json": {
       "model_id": "54980deb8ef24cf7ba89f2bf125cfd86",
       "version_major": 2,
       "version_minor": 0
      },
      "text/plain": [
       "  0%|          | 0/95 [00:00<?, ?it/s]"
      ]
     },
     "metadata": {},
     "output_type": "display_data"
    },
    {
     "name": "stdout",
     "output_type": "stream",
     "text": [
      "epoch 156 test acc 0.7402637741895727\n"
     ]
    },
    {
     "data": {
      "application/vnd.jupyter.widget-view+json": {
       "model_id": "5799e8bc0710498fa76d306786429fdc",
       "version_major": 2,
       "version_minor": 0
      },
      "text/plain": [
       "  0%|          | 0/738 [00:00<?, ?it/s]"
      ]
     },
     "metadata": {},
     "output_type": "display_data"
    },
    {
     "name": "stdout",
     "output_type": "stream",
     "text": [
      "epoch 157 batch id 1 loss 2.1075664335512556e-05 train acc 1.0\n",
      "epoch 157 batch id 201 loss 1.7521851987112314e-05 train acc 0.9991471215351814\n",
      "epoch 157 batch id 401 loss 2.391461566730868e-05 train acc 0.999109369433559\n",
      "epoch 157 batch id 601 loss 1.766832428984344e-05 train acc 0.9987877347278337\n",
      "epoch 157 train acc 0.9987611304684465\n"
     ]
    },
    {
     "data": {
      "application/vnd.jupyter.widget-view+json": {
       "model_id": "2f14723a963440fb826481354729e8b2",
       "version_major": 2,
       "version_minor": 0
      },
      "text/plain": [
       "  0%|          | 0/95 [00:00<?, ?it/s]"
      ]
     },
     "metadata": {},
     "output_type": "display_data"
    },
    {
     "name": "stdout",
     "output_type": "stream",
     "text": [
      "epoch 157 test acc 0.7414445950942928\n"
     ]
    },
    {
     "data": {
      "application/vnd.jupyter.widget-view+json": {
       "model_id": "85d3066c110f4354bada2053d42c5ecb",
       "version_major": 2,
       "version_minor": 0
      },
      "text/plain": [
       "  0%|          | 0/738 [00:00<?, ?it/s]"
      ]
     },
     "metadata": {},
     "output_type": "display_data"
    },
    {
     "name": "stdout",
     "output_type": "stream",
     "text": [
      "epoch 158 batch id 1 loss 1.8013975932262838e-05 train acc 1.0\n",
      "epoch 158 batch id 201 loss 1.9309922208776698e-05 train acc 0.9992181947405828\n",
      "epoch 158 batch id 401 loss 2.1792751795146614e-05 train acc 0.9992518703241892\n",
      "epoch 158 batch id 601 loss 2.056669291050639e-05 train acc 0.9990492037081046\n",
      "epoch 158 train acc 0.9990514905149042\n"
     ]
    },
    {
     "data": {
      "application/vnd.jupyter.widget-view+json": {
       "model_id": "98940c962ca34f25a0466979f222877f",
       "version_major": 2,
       "version_minor": 0
      },
      "text/plain": [
       "  0%|          | 0/95 [00:00<?, ?it/s]"
      ]
     },
     "metadata": {},
     "output_type": "display_data"
    },
    {
     "name": "stdout",
     "output_type": "stream",
     "text": [
      "epoch 158 test acc 0.7419400961419943\n"
     ]
    },
    {
     "data": {
      "application/vnd.jupyter.widget-view+json": {
       "model_id": "5dac2a71aacd431eae86d2dd1284251c",
       "version_major": 2,
       "version_minor": 0
      },
      "text/plain": [
       "  0%|          | 0/738 [00:00<?, ?it/s]"
      ]
     },
     "metadata": {},
     "output_type": "display_data"
    },
    {
     "name": "stdout",
     "output_type": "stream",
     "text": [
      "epoch 159 batch id 1 loss 0.09764359891414642 train acc 0.9857142857142858\n",
      "epoch 159 batch id 201 loss 1.9595996491261758e-05 train acc 0.999502487562189\n",
      "epoch 159 batch id 401 loss 1.9858240193570964e-05 train acc 0.9994299964374774\n",
      "epoch 159 batch id 601 loss 2.163779572583735e-05 train acc 0.9991205134299967\n",
      "epoch 159 train acc 0.9990514905149042\n"
     ]
    },
    {
     "data": {
      "application/vnd.jupyter.widget-view+json": {
       "model_id": "a2a490c828ea473a9276b2ea83ad73f9",
       "version_major": 2,
       "version_minor": 0
      },
      "text/plain": [
       "  0%|          | 0/95 [00:00<?, ?it/s]"
      ]
     },
     "metadata": {},
     "output_type": "display_data"
    },
    {
     "name": "stdout",
     "output_type": "stream",
     "text": [
      "epoch 159 test acc 0.7388882041168496\n"
     ]
    },
    {
     "data": {
      "application/vnd.jupyter.widget-view+json": {
       "model_id": "7dc15e1360424c8e9c821f48be23a59c",
       "version_major": 2,
       "version_minor": 0
      },
      "text/plain": [
       "  0%|          | 0/738 [00:00<?, ?it/s]"
      ]
     },
     "metadata": {},
     "output_type": "display_data"
    },
    {
     "name": "stdout",
     "output_type": "stream",
     "text": [
      "epoch 160 batch id 1 loss 2.0106859665247612e-05 train acc 1.0\n",
      "epoch 160 batch id 201 loss 2.0336778106866404e-05 train acc 0.999360341151386\n",
      "epoch 160 batch id 401 loss 2.049830618489068e-05 train acc 0.999251870324189\n",
      "epoch 160 batch id 601 loss 0.00024757490609772503 train acc 0.9990254338008072\n",
      "epoch 160 train acc 0.9989159891598904\n"
     ]
    },
    {
     "data": {
      "application/vnd.jupyter.widget-view+json": {
       "model_id": "2c687d0bcbde4cc696631d834d390664",
       "version_major": 2,
       "version_minor": 0
      },
      "text/plain": [
       "  0%|          | 0/95 [00:00<?, ?it/s]"
      ]
     },
     "metadata": {},
     "output_type": "display_data"
    },
    {
     "name": "stdout",
     "output_type": "stream",
     "text": [
      "epoch 160 test acc 0.7366769382472573\n"
     ]
    },
    {
     "data": {
      "application/vnd.jupyter.widget-view+json": {
       "model_id": "bcb655c3f42040bea3f70ad8992e02da",
       "version_major": 2,
       "version_minor": 0
      },
      "text/plain": [
       "  0%|          | 0/738 [00:00<?, ?it/s]"
      ]
     },
     "metadata": {},
     "output_type": "display_data"
    },
    {
     "name": "stdout",
     "output_type": "stream",
     "text": [
      "epoch 161 batch id 1 loss 1.66073368745856e-05 train acc 1.0\n",
      "epoch 161 batch id 201 loss 2.7772175599238835e-05 train acc 0.9995024875621891\n",
      "epoch 161 batch id 401 loss 7.897448813309893e-05 train acc 0.9994656216601352\n",
      "epoch 161 batch id 601 loss 2.0764149667229503e-05 train acc 0.9990016638935099\n",
      "epoch 161 train acc 0.9990514905149042\n"
     ]
    },
    {
     "data": {
      "application/vnd.jupyter.widget-view+json": {
       "model_id": "7f549c3fcbfb44bab8a68f00012074af",
       "version_major": 2,
       "version_minor": 0
      },
      "text/plain": [
       "  0%|          | 0/95 [00:00<?, ?it/s]"
      ]
     },
     "metadata": {},
     "output_type": "display_data"
    },
    {
     "name": "stdout",
     "output_type": "stream",
     "text": [
      "epoch 161 test acc 0.7411882164427459\n"
     ]
    },
    {
     "data": {
      "application/vnd.jupyter.widget-view+json": {
       "model_id": "83cabe94015944918fa51cfa9920fa3b",
       "version_major": 2,
       "version_minor": 0
      },
      "text/plain": [
       "  0%|          | 0/738 [00:00<?, ?it/s]"
      ]
     },
     "metadata": {},
     "output_type": "display_data"
    },
    {
     "name": "stdout",
     "output_type": "stream",
     "text": [
      "epoch 162 batch id 1 loss 1.789645648386795e-05 train acc 1.0\n",
      "epoch 162 batch id 201 loss 0.00010155345080420375 train acc 0.999360341151386\n",
      "epoch 162 batch id 401 loss 2.519984082027804e-05 train acc 0.9993943712148199\n",
      "epoch 162 batch id 601 loss 1.9057913959841244e-05 train acc 0.9990016638935099\n",
      "epoch 162 train acc 0.9990321331784736\n"
     ]
    },
    {
     "data": {
      "application/vnd.jupyter.widget-view+json": {
       "model_id": "fac74a7b7bd94758a8e2206ec068ef4c",
       "version_major": 2,
       "version_minor": 0
      },
      "text/plain": [
       "  0%|          | 0/95 [00:00<?, ?it/s]"
      ]
     },
     "metadata": {},
     "output_type": "display_data"
    },
    {
     "name": "stdout",
     "output_type": "stream",
     "text": [
      "epoch 162 test acc 0.7476765684703564\n"
     ]
    },
    {
     "data": {
      "application/vnd.jupyter.widget-view+json": {
       "model_id": "9cf8702e5f9b43dfa018381961709574",
       "version_major": 2,
       "version_minor": 0
      },
      "text/plain": [
       "  0%|          | 0/738 [00:00<?, ?it/s]"
      ]
     },
     "metadata": {},
     "output_type": "display_data"
    },
    {
     "name": "stdout",
     "output_type": "stream",
     "text": [
      "epoch 163 batch id 1 loss 1.928094025061e-05 train acc 1.0\n",
      "epoch 163 batch id 201 loss 1.803951818146743e-05 train acc 0.9995735607675907\n",
      "epoch 163 batch id 401 loss 2.503186078683939e-05 train acc 0.9995368721054506\n",
      "epoch 163 batch id 601 loss 1.9459817849565297e-05 train acc 0.9991442833372942\n",
      "epoch 163 train acc 0.9990902051877653\n"
     ]
    },
    {
     "data": {
      "application/vnd.jupyter.widget-view+json": {
       "model_id": "c9306d92c91e40b2897b4a416ad4d422",
       "version_major": 2,
       "version_minor": 0
      },
      "text/plain": [
       "  0%|          | 0/95 [00:00<?, ?it/s]"
      ]
     },
     "metadata": {},
     "output_type": "display_data"
    },
    {
     "name": "stdout",
     "output_type": "stream",
     "text": [
      "epoch 163 test acc 0.7470528780968815\n"
     ]
    },
    {
     "data": {
      "application/vnd.jupyter.widget-view+json": {
       "model_id": "aeead091eed242a0b385a480158f8c04",
       "version_major": 2,
       "version_minor": 0
      },
      "text/plain": [
       "  0%|          | 0/738 [00:00<?, ?it/s]"
      ]
     },
     "metadata": {},
     "output_type": "display_data"
    },
    {
     "name": "stdout",
     "output_type": "stream",
     "text": [
      "epoch 164 batch id 1 loss 1.4974226360209286e-05 train acc 1.0\n",
      "epoch 164 batch id 201 loss 1.906300167320296e-05 train acc 0.9995024875621892\n",
      "epoch 164 batch id 401 loss 0.12244517356157303 train acc 0.9995724973281082\n",
      "epoch 164 batch id 601 loss 2.257936830574181e-05 train acc 0.9992393629664837\n",
      "epoch 164 train acc 0.9991869918699179\n"
     ]
    },
    {
     "data": {
      "application/vnd.jupyter.widget-view+json": {
       "model_id": "d281478439b640de8f8418503bb1b7cf",
       "version_major": 2,
       "version_minor": 0
      },
      "text/plain": [
       "  0%|          | 0/95 [00:00<?, ?it/s]"
      ]
     },
     "metadata": {},
     "output_type": "display_data"
    },
    {
     "name": "stdout",
     "output_type": "stream",
     "text": [
      "epoch 164 test acc 0.7465795636632568\n"
     ]
    },
    {
     "data": {
      "application/vnd.jupyter.widget-view+json": {
       "model_id": "8eac86bdb10d424b856c1650110d60ad",
       "version_major": 2,
       "version_minor": 0
      },
      "text/plain": [
       "  0%|          | 0/738 [00:00<?, ?it/s]"
      ]
     },
     "metadata": {},
     "output_type": "display_data"
    },
    {
     "name": "stdout",
     "output_type": "stream",
     "text": [
      "epoch 165 batch id 1 loss 1.8206334061687812e-05 train acc 1.0\n",
      "epoch 165 batch id 201 loss 3.027981802006252e-05 train acc 0.9995024875621891\n",
      "epoch 165 batch id 401 loss 1.5805269867996685e-05 train acc 0.9996081225507658\n",
      "epoch 165 batch id 601 loss 2.7008285542251542e-05 train acc 0.9990967435226994\n",
      "epoch 165 train acc 0.9991289198606264\n"
     ]
    },
    {
     "data": {
      "application/vnd.jupyter.widget-view+json": {
       "model_id": "e457400a90f24234b170b8dc0df45da3",
       "version_major": 2,
       "version_minor": 0
      },
      "text/plain": [
       "  0%|          | 0/95 [00:00<?, ?it/s]"
      ]
     },
     "metadata": {},
     "output_type": "display_data"
    },
    {
     "name": "stdout",
     "output_type": "stream",
     "text": [
      "epoch 165 test acc 0.7446468630592876\n"
     ]
    },
    {
     "data": {
      "application/vnd.jupyter.widget-view+json": {
       "model_id": "ac5248ca693e4c3082bd4628a25d2447",
       "version_major": 2,
       "version_minor": 0
      },
      "text/plain": [
       "  0%|          | 0/738 [00:00<?, ?it/s]"
      ]
     },
     "metadata": {},
     "output_type": "display_data"
    },
    {
     "name": "stdout",
     "output_type": "stream",
     "text": [
      "epoch 166 batch id 1 loss 1.6474499716423452e-05 train acc 1.0\n",
      "epoch 166 batch id 201 loss 1.9285902453702874e-05 train acc 0.9992181947405828\n",
      "epoch 166 batch id 401 loss 1.8046277546091005e-05 train acc 0.9993943712148199\n",
      "epoch 166 batch id 601 loss 2.3530530597781762e-05 train acc 0.9990016638935099\n",
      "epoch 166 train acc 0.9990127758420431\n"
     ]
    },
    {
     "data": {
      "application/vnd.jupyter.widget-view+json": {
       "model_id": "122e6cd73e434e0599b2d2b7a351cdcf",
       "version_major": 2,
       "version_minor": 0
      },
      "text/plain": [
       "  0%|          | 0/95 [00:00<?, ?it/s]"
      ]
     },
     "metadata": {},
     "output_type": "display_data"
    },
    {
     "name": "stdout",
     "output_type": "stream",
     "text": [
      "epoch 166 test acc 0.7456994946382349\n"
     ]
    },
    {
     "data": {
      "application/vnd.jupyter.widget-view+json": {
       "model_id": "2a1da28aa3e04df2a9b0433cb109737f",
       "version_major": 2,
       "version_minor": 0
      },
      "text/plain": [
       "  0%|          | 0/738 [00:00<?, ?it/s]"
      ]
     },
     "metadata": {},
     "output_type": "display_data"
    },
    {
     "name": "stdout",
     "output_type": "stream",
     "text": [
      "epoch 167 batch id 1 loss 1.825064464355819e-05 train acc 1.0\n",
      "epoch 167 batch id 201 loss 1.8899509086622857e-05 train acc 0.9995735607675906\n",
      "epoch 167 batch id 401 loss 1.7603535525267944e-05 train acc 0.9996437477734234\n",
      "epoch 167 batch id 601 loss 0.0012178864562883973 train acc 0.999263132873781\n",
      "epoch 167 train acc 0.9992450638792093\n"
     ]
    },
    {
     "data": {
      "application/vnd.jupyter.widget-view+json": {
       "model_id": "4c37212d5e60415e8d3fbedf77f37c97",
       "version_major": 2,
       "version_minor": 0
      },
      "text/plain": [
       "  0%|          | 0/95 [00:00<?, ?it/s]"
      ]
     },
     "metadata": {},
     "output_type": "display_data"
    },
    {
     "name": "stdout",
     "output_type": "stream",
     "text": [
      "epoch 167 test acc 0.7470306914828054\n"
     ]
    },
    {
     "data": {
      "application/vnd.jupyter.widget-view+json": {
       "model_id": "e12f0d5e26ee42a7bb7d6738b84ee292",
       "version_major": 2,
       "version_minor": 0
      },
      "text/plain": [
       "  0%|          | 0/738 [00:00<?, ?it/s]"
      ]
     },
     "metadata": {},
     "output_type": "display_data"
    },
    {
     "name": "stdout",
     "output_type": "stream",
     "text": [
      "epoch 168 batch id 1 loss 1.589207022334449e-05 train acc 1.0\n",
      "epoch 168 batch id 201 loss 1.8427768736728467e-05 train acc 0.9997157071783936\n",
      "epoch 168 batch id 401 loss 1.785889980965294e-05 train acc 0.9996437477734234\n",
      "epoch 168 batch id 601 loss 2.137539559043944e-05 train acc 0.9991680532445916\n",
      "epoch 168 train acc 0.9991869918699179\n"
     ]
    },
    {
     "data": {
      "application/vnd.jupyter.widget-view+json": {
       "model_id": "72faa04c6954450c9a9e5db37d35e7ce",
       "version_major": 2,
       "version_minor": 0
      },
      "text/plain": [
       "  0%|          | 0/95 [00:00<?, ?it/s]"
      ]
     },
     "metadata": {},
     "output_type": "display_data"
    },
    {
     "name": "stdout",
     "output_type": "stream",
     "text": [
      "epoch 168 test acc 0.7476321952422039\n"
     ]
    },
    {
     "data": {
      "application/vnd.jupyter.widget-view+json": {
       "model_id": "7544efccce384cf780673c0865aa1ce1",
       "version_major": 2,
       "version_minor": 0
      },
      "text/plain": [
       "  0%|          | 0/738 [00:00<?, ?it/s]"
      ]
     },
     "metadata": {},
     "output_type": "display_data"
    },
    {
     "name": "stdout",
     "output_type": "stream",
     "text": [
      "epoch 169 batch id 1 loss 2.3283500922843814e-05 train acc 1.0\n",
      "epoch 169 batch id 201 loss 1.5314813936129212e-05 train acc 0.9992892679459843\n",
      "epoch 169 batch id 401 loss 1.8015614841715433e-05 train acc 0.9994299964374774\n",
      "epoch 169 batch id 601 loss 1.6968388081295416e-05 train acc 0.9991205134299967\n",
      "epoch 169 train acc 0.9992450638792095\n"
     ]
    },
    {
     "data": {
      "application/vnd.jupyter.widget-view+json": {
       "model_id": "8e3c62a3416042c8bc269177bd9f43d4",
       "version_major": 2,
       "version_minor": 0
      },
      "text/plain": [
       "  0%|          | 0/95 [00:00<?, ?it/s]"
      ]
     },
     "metadata": {},
     "output_type": "display_data"
    },
    {
     "name": "stdout",
     "output_type": "stream",
     "text": [
      "epoch 169 test acc 0.74780475779613\n"
     ]
    },
    {
     "data": {
      "application/vnd.jupyter.widget-view+json": {
       "model_id": "a8877f1409b9437391b113870777f524",
       "version_major": 2,
       "version_minor": 0
      },
      "text/plain": [
       "  0%|          | 0/738 [00:00<?, ?it/s]"
      ]
     },
     "metadata": {},
     "output_type": "display_data"
    },
    {
     "name": "stdout",
     "output_type": "stream",
     "text": [
      "epoch 170 batch id 1 loss 1.5946558050927706e-05 train acc 1.0\n",
      "epoch 170 batch id 201 loss 1.7230622688657604e-05 train acc 0.999857853589197\n",
      "epoch 170 batch id 401 loss 1.6045376469264738e-05 train acc 0.999893124332027\n",
      "epoch 170 batch id 601 loss 1.4034208106750157e-05 train acc 0.9995483717613495\n",
      "epoch 170 train acc 0.9995354239256672\n"
     ]
    },
    {
     "data": {
      "application/vnd.jupyter.widget-view+json": {
       "model_id": "1514a3af474840ee9e5c5eceeebc3a7c",
       "version_major": 2,
       "version_minor": 0
      },
      "text/plain": [
       "  0%|          | 0/95 [00:00<?, ?it/s]"
      ]
     },
     "metadata": {},
     "output_type": "display_data"
    },
    {
     "name": "stdout",
     "output_type": "stream",
     "text": [
      "epoch 170 test acc 0.7466017502773328\n"
     ]
    },
    {
     "data": {
      "application/vnd.jupyter.widget-view+json": {
       "model_id": "10deee4a75c448f5be1a37dc0ce95c46",
       "version_major": 2,
       "version_minor": 0
      },
      "text/plain": [
       "  0%|          | 0/738 [00:00<?, ?it/s]"
      ]
     },
     "metadata": {},
     "output_type": "display_data"
    },
    {
     "name": "stdout",
     "output_type": "stream",
     "text": [
      "epoch 171 batch id 1 loss 1.7632479284657165e-05 train acc 1.0\n",
      "epoch 171 batch id 201 loss 1.6677133316989057e-05 train acc 0.9996446339729921\n",
      "epoch 171 batch id 401 loss 1.6988798961392604e-05 train acc 0.9996081225507657\n",
      "epoch 171 batch id 601 loss 1.7297066733590327e-05 train acc 0.9993106726883758\n",
      "epoch 171 train acc 0.9993612078977926\n"
     ]
    },
    {
     "data": {
      "application/vnd.jupyter.widget-view+json": {
       "model_id": "4e3e17c2c0aa430ebff201f6cf8a6efa",
       "version_major": 2,
       "version_minor": 0
      },
      "text/plain": [
       "  0%|          | 0/95 [00:00<?, ?it/s]"
      ]
     },
     "metadata": {},
     "output_type": "display_data"
    },
    {
     "name": "stdout",
     "output_type": "stream",
     "text": [
      "epoch 171 test acc 0.7473314433625048\n"
     ]
    },
    {
     "data": {
      "application/vnd.jupyter.widget-view+json": {
       "model_id": "cfa17d436b5f4b7b9e0855a1ad1c3018",
       "version_major": 2,
       "version_minor": 0
      },
      "text/plain": [
       "  0%|          | 0/738 [00:00<?, ?it/s]"
      ]
     },
     "metadata": {},
     "output_type": "display_data"
    },
    {
     "name": "stdout",
     "output_type": "stream",
     "text": [
      "epoch 172 batch id 1 loss 1.5078066098794807e-05 train acc 1.0\n",
      "epoch 172 batch id 201 loss 1.757964855642058e-05 train acc 0.9996446339729923\n",
      "epoch 172 batch id 401 loss 1.3630598914460279e-05 train acc 0.9997506234413964\n",
      "epoch 172 batch id 601 loss 1.6239515389315784e-05 train acc 0.9993582125029705\n",
      "epoch 172 train acc 0.9993999225706536\n"
     ]
    },
    {
     "data": {
      "application/vnd.jupyter.widget-view+json": {
       "model_id": "12a2e71aa3264fa1932101e69fbb5686",
       "version_major": 2,
       "version_minor": 0
      },
      "text/plain": [
       "  0%|          | 0/95 [00:00<?, ?it/s]"
      ]
     },
     "metadata": {},
     "output_type": "display_data"
    },
    {
     "name": "stdout",
     "output_type": "stream",
     "text": [
      "epoch 172 test acc 0.7491359546407003\n"
     ]
    },
    {
     "data": {
      "application/vnd.jupyter.widget-view+json": {
       "model_id": "36e235ac60964d9592d6b00234c3462c",
       "version_major": 2,
       "version_minor": 0
      },
      "text/plain": [
       "  0%|          | 0/738 [00:00<?, ?it/s]"
      ]
     },
     "metadata": {},
     "output_type": "display_data"
    },
    {
     "name": "stdout",
     "output_type": "stream",
     "text": [
      "epoch 173 batch id 1 loss 0.09777671098709106 train acc 0.9857142857142858\n",
      "epoch 173 batch id 201 loss 1.747579335642513e-05 train acc 0.9995024875621892\n",
      "epoch 173 batch id 401 loss 1.3148662219464313e-05 train acc 0.9996081225507659\n",
      "epoch 173 batch id 601 loss 1.4885674318065867e-05 train acc 0.9992869027810786\n",
      "epoch 173 train acc 0.9993418505613622\n"
     ]
    },
    {
     "data": {
      "application/vnd.jupyter.widget-view+json": {
       "model_id": "6b2b23f210de43b29fce18b264fcdd0e",
       "version_major": 2,
       "version_minor": 0
      },
      "text/plain": [
       "  0%|          | 0/95 [00:00<?, ?it/s]"
      ]
     },
     "metadata": {},
     "output_type": "display_data"
    },
    {
     "name": "stdout",
     "output_type": "stream",
     "text": [
      "epoch 173 test acc 0.7488573893750772\n"
     ]
    },
    {
     "data": {
      "application/vnd.jupyter.widget-view+json": {
       "model_id": "51165dfea03145c6abffe1f6014028cc",
       "version_major": 2,
       "version_minor": 0
      },
      "text/plain": [
       "  0%|          | 0/738 [00:00<?, ?it/s]"
      ]
     },
     "metadata": {},
     "output_type": "display_data"
    },
    {
     "name": "stdout",
     "output_type": "stream",
     "text": [
      "epoch 174 batch id 1 loss 1.6413192497566342e-05 train acc 1.0\n",
      "epoch 174 batch id 201 loss 1.922359297168441e-05 train acc 0.9997157071783938\n",
      "epoch 174 batch id 401 loss 1.565710590512026e-05 train acc 0.9998574991093695\n",
      "epoch 174 batch id 601 loss 1.493676973041147e-05 train acc 0.9993582125029705\n",
      "epoch 174 train acc 0.9994386372435147\n"
     ]
    },
    {
     "data": {
      "application/vnd.jupyter.widget-view+json": {
       "model_id": "49ad93a64f384c85a089b4e131f678c9",
       "version_major": 2,
       "version_minor": 0
      },
      "text/plain": [
       "  0%|          | 0/95 [00:00<?, ?it/s]"
      ]
     },
     "metadata": {},
     "output_type": "display_data"
    },
    {
     "name": "stdout",
     "output_type": "stream",
     "text": [
      "epoch 174 test acc 0.7452483668186861\n"
     ]
    },
    {
     "data": {
      "application/vnd.jupyter.widget-view+json": {
       "model_id": "7d057e240d194872991a5feedefd60a1",
       "version_major": 2,
       "version_minor": 0
      },
      "text/plain": [
       "  0%|          | 0/738 [00:00<?, ?it/s]"
      ]
     },
     "metadata": {},
     "output_type": "display_data"
    },
    {
     "name": "stdout",
     "output_type": "stream",
     "text": [
      "epoch 175 batch id 1 loss 1.725443871691823e-05 train acc 1.0\n",
      "epoch 175 batch id 201 loss 4.102414095541462e-05 train acc 0.9997867803837953\n",
      "epoch 175 batch id 401 loss 0.0007775503327138722 train acc 0.999786248664054\n",
      "epoch 175 batch id 601 loss 1.6634632629575208e-05 train acc 0.9994295222248626\n",
      "epoch 175 train acc 0.9994773519163755\n"
     ]
    },
    {
     "data": {
      "application/vnd.jupyter.widget-view+json": {
       "model_id": "6e6054e4197c4e13b98cada510d1b998",
       "version_major": 2,
       "version_minor": 0
      },
      "text/plain": [
       "  0%|          | 0/95 [00:00<?, ?it/s]"
      ]
     },
     "metadata": {},
     "output_type": "display_data"
    },
    {
     "name": "stdout",
     "output_type": "stream",
     "text": [
      "epoch 175 test acc 0.7483840749414519\n"
     ]
    },
    {
     "data": {
      "application/vnd.jupyter.widget-view+json": {
       "model_id": "6bef6db4c1674c66ad94821d5aa51ca7",
       "version_major": 2,
       "version_minor": 0
      },
      "text/plain": [
       "  0%|          | 0/738 [00:00<?, ?it/s]"
      ]
     },
     "metadata": {},
     "output_type": "display_data"
    },
    {
     "name": "stdout",
     "output_type": "stream",
     "text": [
      "epoch 176 batch id 1 loss 1.571160100866109e-05 train acc 1.0\n",
      "epoch 176 batch id 201 loss 1.4110823940427508e-05 train acc 0.9997157071783938\n",
      "epoch 176 batch id 401 loss 1.474091550335288e-05 train acc 0.9998218738867118\n",
      "epoch 176 batch id 601 loss 1.4304964679467957e-05 train acc 0.9995246018540523\n",
      "epoch 176 train acc 0.9995741385985284\n"
     ]
    },
    {
     "data": {
      "application/vnd.jupyter.widget-view+json": {
       "model_id": "2f2dc2e6275743f89fb62a296830694a",
       "version_major": 2,
       "version_minor": 0
      },
      "text/plain": [
       "  0%|          | 0/95 [00:00<?, ?it/s]"
      ]
     },
     "metadata": {},
     "output_type": "display_data"
    },
    {
     "name": "stdout",
     "output_type": "stream",
     "text": [
      "epoch 176 test acc 0.748384074941452\n"
     ]
    },
    {
     "data": {
      "application/vnd.jupyter.widget-view+json": {
       "model_id": "ba332e7823384ef3ae8ea24ca1c72018",
       "version_major": 2,
       "version_minor": 0
      },
      "text/plain": [
       "  0%|          | 0/738 [00:00<?, ?it/s]"
      ]
     },
     "metadata": {},
     "output_type": "display_data"
    },
    {
     "name": "stdout",
     "output_type": "stream",
     "text": [
      "epoch 177 batch id 1 loss 1.7341202692477964e-05 train acc 1.0\n",
      "epoch 177 batch id 201 loss 1.4299852409749292e-05 train acc 0.9997867803837954\n",
      "epoch 177 batch id 401 loss 1.5015087228675839e-05 train acc 0.9998931243320273\n",
      "epoch 177 batch id 601 loss 1.5858071492402814e-05 train acc 0.9995483717613497\n",
      "epoch 177 train acc 0.9995741385985284\n"
     ]
    },
    {
     "data": {
      "application/vnd.jupyter.widget-view+json": {
       "model_id": "69215c26f22a4c50aa2817d326359b9c",
       "version_major": 2,
       "version_minor": 0
      },
      "text/plain": [
       "  0%|          | 0/95 [00:00<?, ?it/s]"
      ]
     },
     "metadata": {},
     "output_type": "display_data"
    },
    {
     "name": "stdout",
     "output_type": "stream",
     "text": [
      "epoch 177 test acc 0.7494588931344754\n"
     ]
    },
    {
     "data": {
      "application/vnd.jupyter.widget-view+json": {
       "model_id": "3590850a0572404c90cb9246664a03b3",
       "version_major": 2,
       "version_minor": 0
      },
      "text/plain": [
       "  0%|          | 0/738 [00:00<?, ?it/s]"
      ]
     },
     "metadata": {},
     "output_type": "display_data"
    },
    {
     "name": "stdout",
     "output_type": "stream",
     "text": [
      "epoch 178 batch id 1 loss 1.6062302165664732e-05 train acc 1.0\n",
      "epoch 178 batch id 201 loss 1.500482267147163e-05 train acc 0.999715707178394\n",
      "epoch 178 batch id 401 loss 1.5115399037313182e-05 train acc 0.9997862486640542\n",
      "epoch 178 batch id 601 loss 1.661409805819858e-05 train acc 0.9993106726883758\n",
      "epoch 178 train acc 0.9993612078977926\n"
     ]
    },
    {
     "data": {
      "application/vnd.jupyter.widget-view+json": {
       "model_id": "a44ba18e58504a8f9337e0730152a8b5",
       "version_major": 2,
       "version_minor": 0
      },
      "text/plain": [
       "  0%|          | 0/95 [00:00<?, ?it/s]"
      ]
     },
     "metadata": {},
     "output_type": "display_data"
    },
    {
     "name": "stdout",
     "output_type": "stream",
     "text": [
      "epoch 178 test acc 0.7500382102797983\n"
     ]
    },
    {
     "data": {
      "application/vnd.jupyter.widget-view+json": {
       "model_id": "02a1110da4c7457484c940d5e7432631",
       "version_major": 2,
       "version_minor": 0
      },
      "text/plain": [
       "  0%|          | 0/738 [00:00<?, ?it/s]"
      ]
     },
     "metadata": {},
     "output_type": "display_data"
    },
    {
     "name": "stdout",
     "output_type": "stream",
     "text": [
      "epoch 179 batch id 1 loss 1.4073341844778042e-05 train acc 1.0\n",
      "epoch 179 batch id 201 loss 1.4740923688805196e-05 train acc 0.999857853589197\n",
      "epoch 179 batch id 401 loss 1.3284819033287931e-05 train acc 0.9997862486640542\n",
      "epoch 179 batch id 601 loss 6.887732160976157e-05 train acc 0.9993582125029705\n",
      "epoch 179 train acc 0.9994579945799452\n"
     ]
    },
    {
     "data": {
      "application/vnd.jupyter.widget-view+json": {
       "model_id": "a1a3897f6f344cf1b687cf0267ed584d",
       "version_major": 2,
       "version_minor": 0
      },
      "text/plain": [
       "  0%|          | 0/95 [00:00<?, ?it/s]"
      ]
     },
     "metadata": {},
     "output_type": "display_data"
    },
    {
     "name": "stdout",
     "output_type": "stream",
     "text": [
      "epoch 179 test acc 0.74928633058055\n"
     ]
    },
    {
     "data": {
      "application/vnd.jupyter.widget-view+json": {
       "model_id": "d10a8bd5c10a4e048882c6ea47db10aa",
       "version_major": 2,
       "version_minor": 0
      },
      "text/plain": [
       "  0%|          | 0/738 [00:00<?, ?it/s]"
      ]
     },
     "metadata": {},
     "output_type": "display_data"
    },
    {
     "name": "stdout",
     "output_type": "stream",
     "text": [
      "epoch 180 batch id 1 loss 1.2942579814989585e-05 train acc 1.0\n",
      "epoch 180 batch id 201 loss 1.5175172848103102e-05 train acc 0.9997867803837953\n",
      "epoch 180 batch id 401 loss 1.8262024241266772e-05 train acc 0.9996793729960811\n",
      "epoch 180 batch id 601 loss 1.6346793927368708e-05 train acc 0.9994057523175653\n",
      "epoch 180 train acc 0.9995160665892369\n"
     ]
    },
    {
     "data": {
      "application/vnd.jupyter.widget-view+json": {
       "model_id": "15e285f618a84b508a0032489b9f04e1",
       "version_major": 2,
       "version_minor": 0
      },
      "text/plain": [
       "  0%|          | 0/95 [00:00<?, ?it/s]"
      ]
     },
     "metadata": {},
     "output_type": "display_data"
    },
    {
     "name": "stdout",
     "output_type": "stream",
     "text": [
      "epoch 180 test acc 0.7487070134352275\n"
     ]
    },
    {
     "data": {
      "application/vnd.jupyter.widget-view+json": {
       "model_id": "cf5a2ea36bbc49f6af89c1a971abb80c",
       "version_major": 2,
       "version_minor": 0
      },
      "text/plain": [
       "  0%|          | 0/738 [00:00<?, ?it/s]"
      ]
     },
     "metadata": {},
     "output_type": "display_data"
    },
    {
     "name": "stdout",
     "output_type": "stream",
     "text": [
      "epoch 181 batch id 1 loss 2.0941050024703145e-05 train acc 1.0\n",
      "epoch 181 batch id 201 loss 7.312067464226857e-05 train acc 0.999857853589197\n",
      "epoch 181 batch id 401 loss 1.4887342331348918e-05 train acc 0.9998218738867118\n",
      "epoch 181 batch id 601 loss 1.3955880604044069e-05 train acc 0.9994770620394575\n",
      "epoch 181 train acc 0.9994967092528063\n"
     ]
    },
    {
     "data": {
      "application/vnd.jupyter.widget-view+json": {
       "model_id": "3e89400ec125465798a75f29963da64c",
       "version_major": 2,
       "version_minor": 0
      },
      "text/plain": [
       "  0%|          | 0/95 [00:00<?, ?it/s]"
      ]
     },
     "metadata": {},
     "output_type": "display_data"
    },
    {
     "name": "stdout",
     "output_type": "stream",
     "text": [
      "epoch 181 test acc 0.7491581412547765\n"
     ]
    },
    {
     "data": {
      "application/vnd.jupyter.widget-view+json": {
       "model_id": "316c2fdf28e94b07ba158fa4f8463bc7",
       "version_major": 2,
       "version_minor": 0
      },
      "text/plain": [
       "  0%|          | 0/738 [00:00<?, ?it/s]"
      ]
     },
     "metadata": {},
     "output_type": "display_data"
    },
    {
     "name": "stdout",
     "output_type": "stream",
     "text": [
      "epoch 182 batch id 1 loss 1.7519801986054517e-05 train acc 1.0\n",
      "epoch 182 batch id 201 loss 3.1280022085411474e-05 train acc 1.0\n",
      "epoch 182 batch id 401 loss 1.6510195564478636e-05 train acc 1.0\n",
      "epoch 182 batch id 601 loss 1.4763022591068875e-05 train acc 0.9995246018540521\n",
      "epoch 182 train acc 0.9995934959349588\n"
     ]
    },
    {
     "data": {
      "application/vnd.jupyter.widget-view+json": {
       "model_id": "10a2059776834849b6134fdd231aa827",
       "version_major": 2,
       "version_minor": 0
      },
      "text/plain": [
       "  0%|          | 0/95 [00:00<?, ?it/s]"
      ]
     },
     "metadata": {},
     "output_type": "display_data"
    },
    {
     "name": "stdout",
     "output_type": "stream",
     "text": [
      "epoch 182 test acc 0.748835202761001\n"
     ]
    },
    {
     "data": {
      "application/vnd.jupyter.widget-view+json": {
       "model_id": "b9b0db01bbc64545a2ca642044d38fde",
       "version_major": 2,
       "version_minor": 0
      },
      "text/plain": [
       "  0%|          | 0/738 [00:00<?, ?it/s]"
      ]
     },
     "metadata": {},
     "output_type": "display_data"
    },
    {
     "name": "stdout",
     "output_type": "stream",
     "text": [
      "epoch 183 batch id 1 loss 6.429737550206482e-05 train acc 1.0\n",
      "epoch 183 batch id 201 loss 1.4105729860602878e-05 train acc 0.999715707178394\n",
      "epoch 183 batch id 401 loss 1.515133317298023e-05 train acc 0.9997862486640542\n",
      "epoch 183 batch id 601 loss 1.4258984265325125e-05 train acc 0.9994295222248627\n",
      "epoch 183 train acc 0.9994773519163758\n"
     ]
    },
    {
     "data": {
      "application/vnd.jupyter.widget-view+json": {
       "model_id": "87a2d9de35664e96bf98cb91f4f21549",
       "version_major": 2,
       "version_minor": 0
      },
      "text/plain": [
       "  0%|          | 0/95 [00:00<?, ?it/s]"
      ]
     },
     "metadata": {},
     "output_type": "display_data"
    },
    {
     "name": "stdout",
     "output_type": "stream",
     "text": [
      "epoch 183 test acc 0.7494588931344761\n"
     ]
    },
    {
     "data": {
      "application/vnd.jupyter.widget-view+json": {
       "model_id": "26896e4ff8f14bc1807bf618f857eaff",
       "version_major": 2,
       "version_minor": 0
      },
      "text/plain": [
       "  0%|          | 0/738 [00:00<?, ?it/s]"
      ]
     },
     "metadata": {},
     "output_type": "display_data"
    },
    {
     "name": "stdout",
     "output_type": "stream",
     "text": [
      "epoch 184 batch id 1 loss 1.5485065887332894e-05 train acc 1.0\n",
      "epoch 184 batch id 201 loss 1.6591831808909774e-05 train acc 0.9998578535891968\n",
      "epoch 184 batch id 401 loss 1.4977516002545599e-05 train acc 0.9998931243320269\n",
      "epoch 184 batch id 601 loss 1.2215435162943322e-05 train acc 0.9995483717613495\n",
      "epoch 184 train acc 0.9995547812620977\n"
     ]
    },
    {
     "data": {
      "application/vnd.jupyter.widget-view+json": {
       "model_id": "b5cfe5283722422fa7018081aa61a8f5",
       "version_major": 2,
       "version_minor": 0
      },
      "text/plain": [
       "  0%|          | 0/95 [00:00<?, ?it/s]"
      ]
     },
     "metadata": {},
     "output_type": "display_data"
    },
    {
     "name": "stdout",
     "output_type": "stream",
     "text": [
      "epoch 184 test acc 0.7493085171946262\n"
     ]
    },
    {
     "data": {
      "application/vnd.jupyter.widget-view+json": {
       "model_id": "113e1048ba104bffa355abdd9b51b266",
       "version_major": 2,
       "version_minor": 0
      },
      "text/plain": [
       "  0%|          | 0/738 [00:00<?, ?it/s]"
      ]
     },
     "metadata": {},
     "output_type": "display_data"
    },
    {
     "name": "stdout",
     "output_type": "stream",
     "text": [
      "epoch 185 batch id 1 loss 1.394731407344807e-05 train acc 1.0\n",
      "epoch 185 batch id 201 loss 1.648634315642994e-05 train acc 0.999857853589197\n",
      "epoch 185 batch id 401 loss 1.5917616110527888e-05 train acc 0.9998218738867118\n",
      "epoch 185 batch id 601 loss 1.670611345616635e-05 train acc 0.9994057523175653\n",
      "epoch 185 train acc 0.9994773519163758\n"
     ]
    },
    {
     "data": {
      "application/vnd.jupyter.widget-view+json": {
       "model_id": "207f7ea1421746018961408ed290756c",
       "version_major": 2,
       "version_minor": 0
      },
      "text/plain": [
       "  0%|          | 0/95 [00:00<?, ?it/s]"
      ]
     },
     "metadata": {},
     "output_type": "display_data"
    },
    {
     "name": "stdout",
     "output_type": "stream",
     "text": [
      "epoch 185 test acc 0.7493085171946262\n"
     ]
    },
    {
     "data": {
      "application/vnd.jupyter.widget-view+json": {
       "model_id": "e63a4158d8b9485fafcbf91f87061394",
       "version_major": 2,
       "version_minor": 0
      },
      "text/plain": [
       "  0%|          | 0/738 [00:00<?, ?it/s]"
      ]
     },
     "metadata": {},
     "output_type": "display_data"
    },
    {
     "name": "stdout",
     "output_type": "stream",
     "text": [
      "epoch 186 batch id 1 loss 1.5072976566443685e-05 train acc 1.0\n",
      "epoch 186 batch id 201 loss 1.6147432688740082e-05 train acc 0.9997867803837954\n",
      "epoch 186 batch id 401 loss 1.2603709365066607e-05 train acc 0.9998218738867118\n",
      "epoch 186 batch id 601 loss 1.3358126125240233e-05 train acc 0.9994057523175653\n",
      "epoch 186 train acc 0.9994967092528063\n"
     ]
    },
    {
     "data": {
      "application/vnd.jupyter.widget-view+json": {
       "model_id": "976613915d0f448793bc7d7126d0dc50",
       "version_major": 2,
       "version_minor": 0
      },
      "text/plain": [
       "  0%|          | 0/95 [00:00<?, ?it/s]"
      ]
     },
     "metadata": {},
     "output_type": "display_data"
    },
    {
     "name": "stdout",
     "output_type": "stream",
     "text": [
      "epoch 186 test acc 0.7493085171946264\n"
     ]
    },
    {
     "data": {
      "application/vnd.jupyter.widget-view+json": {
       "model_id": "9a1e217ba63d43e8b1d8437dd5f6614c",
       "version_major": 2,
       "version_minor": 0
      },
      "text/plain": [
       "  0%|          | 0/738 [00:00<?, ?it/s]"
      ]
     },
     "metadata": {},
     "output_type": "display_data"
    },
    {
     "name": "stdout",
     "output_type": "stream",
     "text": [
      "epoch 187 batch id 1 loss 1.4415634723263793e-05 train acc 1.0\n",
      "epoch 187 batch id 201 loss 2.5092884243349545e-05 train acc 0.9997157071783938\n",
      "epoch 187 batch id 401 loss 1.8524147890275344e-05 train acc 0.9998574991093695\n",
      "epoch 187 batch id 601 loss 1.6423438864876516e-05 train acc 0.9995483717613497\n",
      "epoch 187 train acc 0.9995741385985284\n"
     ]
    },
    {
     "data": {
      "application/vnd.jupyter.widget-view+json": {
       "model_id": "cbea0585584c4f719bd76781027197d0",
       "version_major": 2,
       "version_minor": 0
      },
      "text/plain": [
       "  0%|          | 0/95 [00:00<?, ?it/s]"
      ]
     },
     "metadata": {},
     "output_type": "display_data"
    },
    {
     "name": "stdout",
     "output_type": "stream",
     "text": [
      "epoch 187 test acc 0.7505115247134232\n"
     ]
    },
    {
     "data": {
      "application/vnd.jupyter.widget-view+json": {
       "model_id": "ce55ef4c43c4498c9e4b3cd10be23f08",
       "version_major": 2,
       "version_minor": 0
      },
      "text/plain": [
       "  0%|          | 0/738 [00:00<?, ?it/s]"
      ]
     },
     "metadata": {},
     "output_type": "display_data"
    },
    {
     "name": "stdout",
     "output_type": "stream",
     "text": [
      "epoch 188 batch id 1 loss 1.1828858077933546e-05 train acc 1.0\n",
      "epoch 188 batch id 201 loss 2.7003668947145343e-05 train acc 0.999857853589197\n",
      "epoch 188 batch id 401 loss 1.934984356921632e-05 train acc 0.9999287495546848\n",
      "epoch 188 batch id 601 loss 1.332407282461645e-05 train acc 0.9996672212978365\n",
      "epoch 188 train acc 0.9996902826171115\n"
     ]
    },
    {
     "data": {
      "application/vnd.jupyter.widget-view+json": {
       "model_id": "fd105fa812a348769c52222d8ab2d422",
       "version_major": 2,
       "version_minor": 0
      },
      "text/plain": [
       "  0%|          | 0/95 [00:00<?, ?it/s]"
      ]
     },
     "metadata": {},
     "output_type": "display_data"
    },
    {
     "name": "stdout",
     "output_type": "stream",
     "text": [
      "epoch 188 test acc 0.7499100209540248\n"
     ]
    },
    {
     "data": {
      "application/vnd.jupyter.widget-view+json": {
       "model_id": "7662baed7ac24bb89ded202f08f07079",
       "version_major": 2,
       "version_minor": 0
      },
      "text/plain": [
       "  0%|          | 0/738 [00:00<?, ?it/s]"
      ]
     },
     "metadata": {},
     "output_type": "display_data"
    },
    {
     "name": "stdout",
     "output_type": "stream",
     "text": [
      "epoch 189 batch id 1 loss 1.45791282193386e-05 train acc 1.0\n",
      "epoch 189 batch id 201 loss 1.128221265389584e-05 train acc 0.9997867803837953\n",
      "epoch 189 batch id 401 loss 1.2683754903264344e-05 train acc 0.999893124332027\n",
      "epoch 189 batch id 601 loss 1.5708208593423478e-05 train acc 0.9994295222248626\n",
      "epoch 189 train acc 0.9995160665892366\n"
     ]
    },
    {
     "data": {
      "application/vnd.jupyter.widget-view+json": {
       "model_id": "f247fe692aa74e0287bc362aa821dc5b",
       "version_major": 2,
       "version_minor": 0
      },
      "text/plain": [
       "  0%|          | 0/95 [00:00<?, ?it/s]"
      ]
     },
     "metadata": {},
     "output_type": "display_data"
    },
    {
     "name": "stdout",
     "output_type": "stream",
     "text": [
      "epoch 189 test acc 0.7496092690743258\n"
     ]
    },
    {
     "data": {
      "application/vnd.jupyter.widget-view+json": {
       "model_id": "2384067068154248af811b2d9e5b6ad9",
       "version_major": 2,
       "version_minor": 0
      },
      "text/plain": [
       "  0%|          | 0/738 [00:00<?, ?it/s]"
      ]
     },
     "metadata": {},
     "output_type": "display_data"
    },
    {
     "name": "stdout",
     "output_type": "stream",
     "text": [
      "epoch 190 batch id 1 loss 1.2959624655195512e-05 train acc 1.0\n",
      "epoch 190 batch id 201 loss 1.5130873180169147e-05 train acc 0.999857853589197\n",
      "epoch 190 batch id 401 loss 1.5514020560658537e-05 train acc 0.9999287495546848\n",
      "epoch 190 batch id 601 loss 1.5633268048986793e-05 train acc 0.9994532921321599\n",
      "epoch 190 train acc 0.9995160665892366\n"
     ]
    },
    {
     "data": {
      "application/vnd.jupyter.widget-view+json": {
       "model_id": "a650cc4be27f40bea2b53ce576922999",
       "version_major": 2,
       "version_minor": 0
      },
      "text/plain": [
       "  0%|          | 0/95 [00:00<?, ?it/s]"
      ]
     },
     "metadata": {},
     "output_type": "display_data"
    },
    {
     "name": "stdout",
     "output_type": "stream",
     "text": [
      "epoch 190 test acc 0.7499100209540248\n"
     ]
    },
    {
     "data": {
      "application/vnd.jupyter.widget-view+json": {
       "model_id": "6acd29f5ee9e47bb91f45c9b98a32374",
       "version_major": 2,
       "version_minor": 0
      },
      "text/plain": [
       "  0%|          | 0/738 [00:00<?, ?it/s]"
      ]
     },
     "metadata": {},
     "output_type": "display_data"
    },
    {
     "name": "stdout",
     "output_type": "stream",
     "text": [
      "epoch 191 batch id 1 loss 1.4006946912559215e-05 train acc 1.0\n",
      "epoch 191 batch id 201 loss 1.918019370350521e-05 train acc 0.9997867803837954\n",
      "epoch 191 batch id 401 loss 3.332584674353711e-05 train acc 0.9997862486640542\n",
      "epoch 191 batch id 601 loss 1.5309722584788688e-05 train acc 0.9994057523175653\n",
      "epoch 191 train acc 0.9994579945799452\n"
     ]
    },
    {
     "data": {
      "application/vnd.jupyter.widget-view+json": {
       "model_id": "2575025ea488422dae013e6bed0c473e",
       "version_major": 2,
       "version_minor": 0
      },
      "text/plain": [
       "  0%|          | 0/95 [00:00<?, ?it/s]"
      ]
     },
     "metadata": {},
     "output_type": "display_data"
    },
    {
     "name": "stdout",
     "output_type": "stream",
     "text": [
      "epoch 191 test acc 0.750489338099347\n"
     ]
    },
    {
     "data": {
      "application/vnd.jupyter.widget-view+json": {
       "model_id": "eb8a2affbfb94b859f5ac512f8b83374",
       "version_major": 2,
       "version_minor": 0
      },
      "text/plain": [
       "  0%|          | 0/738 [00:00<?, ?it/s]"
      ]
     },
     "metadata": {},
     "output_type": "display_data"
    },
    {
     "name": "stdout",
     "output_type": "stream",
     "text": [
      "epoch 192 batch id 1 loss 1.3669736290466972e-05 train acc 1.0\n",
      "epoch 192 batch id 201 loss 1.2576468179759104e-05 train acc 0.9997867803837953\n",
      "epoch 192 batch id 401 loss 1.631094164622482e-05 train acc 0.999893124332027\n",
      "epoch 192 batch id 601 loss 1.553450056235306e-05 train acc 0.9996672212978365\n",
      "epoch 192 train acc 0.9996709252806809\n"
     ]
    },
    {
     "data": {
      "application/vnd.jupyter.widget-view+json": {
       "model_id": "0020ccfdf4e34319b1e0197945360090",
       "version_major": 2,
       "version_minor": 0
      },
      "text/plain": [
       "  0%|          | 0/95 [00:00<?, ?it/s]"
      ]
     },
     "metadata": {},
     "output_type": "display_data"
    },
    {
     "name": "stdout",
     "output_type": "stream",
     "text": [
      "epoch 192 test acc 0.7494588931344759\n"
     ]
    },
    {
     "data": {
      "application/vnd.jupyter.widget-view+json": {
       "model_id": "ee931bf63cfc4d56bf5157007d5a22eb",
       "version_major": 2,
       "version_minor": 0
      },
      "text/plain": [
       "  0%|          | 0/738 [00:00<?, ?it/s]"
      ]
     },
     "metadata": {},
     "output_type": "display_data"
    },
    {
     "name": "stdout",
     "output_type": "stream",
     "text": [
      "epoch 193 batch id 1 loss 2.1076552002341487e-05 train acc 1.0\n",
      "epoch 193 batch id 201 loss 1.560936107125599e-05 train acc 0.9997867803837954\n",
      "epoch 193 batch id 401 loss 1.1879948033310939e-05 train acc 0.9998574991093695\n",
      "epoch 193 batch id 601 loss 1.5427225662278943e-05 train acc 0.9995246018540523\n",
      "epoch 193 train acc 0.9995354239256673\n"
     ]
    },
    {
     "data": {
      "application/vnd.jupyter.widget-view+json": {
       "model_id": "47a38e03b7e44b2d958e75ac6e43f793",
       "version_major": 2,
       "version_minor": 0
      },
      "text/plain": [
       "  0%|          | 0/95 [00:00<?, ?it/s]"
      ]
     },
     "metadata": {},
     "output_type": "display_data"
    },
    {
     "name": "stdout",
     "output_type": "stream",
     "text": [
      "epoch 193 test acc 0.7488352027610011\n"
     ]
    },
    {
     "data": {
      "application/vnd.jupyter.widget-view+json": {
       "model_id": "881bef63c34a4565b2c4b389d5104921",
       "version_major": 2,
       "version_minor": 0
      },
      "text/plain": [
       "  0%|          | 0/738 [00:00<?, ?it/s]"
      ]
     },
     "metadata": {},
     "output_type": "display_data"
    },
    {
     "name": "stdout",
     "output_type": "stream",
     "text": [
      "epoch 194 batch id 1 loss 1.2830195373680908e-05 train acc 1.0\n",
      "epoch 194 batch id 201 loss 1.4652351637778338e-05 train acc 0.9998578535891968\n",
      "epoch 194 batch id 401 loss 1.670945312071126e-05 train acc 0.9998574991093694\n",
      "epoch 194 batch id 601 loss 1.6929219782468863e-05 train acc 0.9995008319467548\n",
      "epoch 194 train acc 0.9995741385985283\n"
     ]
    },
    {
     "data": {
      "application/vnd.jupyter.widget-view+json": {
       "model_id": "c279e95a239046a08b0b139bc065a40b",
       "version_major": 2,
       "version_minor": 0
      },
      "text/plain": [
       "  0%|          | 0/95 [00:00<?, ?it/s]"
      ]
     },
     "metadata": {},
     "output_type": "display_data"
    },
    {
     "name": "stdout",
     "output_type": "stream",
     "text": [
      "epoch 194 test acc 0.74928633058055\n"
     ]
    },
    {
     "data": {
      "application/vnd.jupyter.widget-view+json": {
       "model_id": "f57275c7470c4099963364acc10f82be",
       "version_major": 2,
       "version_minor": 0
      },
      "text/plain": [
       "  0%|          | 0/738 [00:00<?, ?it/s]"
      ]
     },
     "metadata": {},
     "output_type": "display_data"
    },
    {
     "name": "stdout",
     "output_type": "stream",
     "text": [
      "epoch 195 batch id 1 loss 1.2334628991084173e-05 train acc 1.0\n",
      "epoch 195 batch id 201 loss 6.283546099439263e-05 train acc 0.9997157071783938\n",
      "epoch 195 batch id 401 loss 1.3899655641580466e-05 train acc 0.9998218738867118\n",
      "epoch 195 batch id 601 loss 1.4907752301951405e-05 train acc 0.9996196814832419\n",
      "epoch 195 train acc 0.9996709252806811\n"
     ]
    },
    {
     "data": {
      "application/vnd.jupyter.widget-view+json": {
       "model_id": "5ae0b1eccbc643dc8ffa3323c342b3a7",
       "version_major": 2,
       "version_minor": 0
      },
      "text/plain": [
       "  0%|          | 0/95 [00:00<?, ?it/s]"
      ]
     },
     "metadata": {},
     "output_type": "display_data"
    },
    {
     "name": "stdout",
     "output_type": "stream",
     "text": [
      "epoch 195 test acc 0.7492863305805499\n"
     ]
    },
    {
     "data": {
      "application/vnd.jupyter.widget-view+json": {
       "model_id": "5a20e44525094be2864193e3185f9dfc",
       "version_major": 2,
       "version_minor": 0
      },
      "text/plain": [
       "  0%|          | 0/738 [00:00<?, ?it/s]"
      ]
     },
     "metadata": {},
     "output_type": "display_data"
    },
    {
     "name": "stdout",
     "output_type": "stream",
     "text": [
      "epoch 196 batch id 1 loss 1.4430939700105228e-05 train acc 1.0\n",
      "epoch 196 batch id 201 loss 1.5633249859092757e-05 train acc 0.9997867803837954\n",
      "epoch 196 batch id 401 loss 1.8529268345446326e-05 train acc 0.9997862486640542\n",
      "epoch 196 batch id 601 loss 1.589724161021877e-05 train acc 0.9994295222248627\n",
      "epoch 196 train acc 0.9994967092528063\n"
     ]
    },
    {
     "data": {
      "application/vnd.jupyter.widget-view+json": {
       "model_id": "27359c31dfdc4f1e80bb5835ad09d736",
       "version_major": 2,
       "version_minor": 0
      },
      "text/plain": [
       "  0%|          | 0/95 [00:00<?, ?it/s]"
      ]
     },
     "metadata": {},
     "output_type": "display_data"
    },
    {
     "name": "stdout",
     "output_type": "stream",
     "text": [
      "epoch 196 test acc 0.749737458400099\n"
     ]
    },
    {
     "data": {
      "application/vnd.jupyter.widget-view+json": {
       "model_id": "8852b5f4d8174aa294b1d520e031e00f",
       "version_major": 2,
       "version_minor": 0
      },
      "text/plain": [
       "  0%|          | 0/738 [00:00<?, ?it/s]"
      ]
     },
     "metadata": {},
     "output_type": "display_data"
    },
    {
     "name": "stdout",
     "output_type": "stream",
     "text": [
      "epoch 197 batch id 1 loss 1.4080130313232075e-05 train acc 1.0\n",
      "epoch 197 batch id 201 loss 1.709593925625086e-05 train acc 0.999857853589197\n",
      "epoch 197 batch id 401 loss 1.3002185369259678e-05 train acc 0.9999287495546848\n",
      "epoch 197 batch id 601 loss 1.2605427400558256e-05 train acc 0.999572141668647\n",
      "epoch 197 train acc 0.99963221060782\n"
     ]
    },
    {
     "data": {
      "application/vnd.jupyter.widget-view+json": {
       "model_id": "b05c4344127b4e2c8fc85b3dac20d2ee",
       "version_major": 2,
       "version_minor": 0
      },
      "text/plain": [
       "  0%|          | 0/95 [00:00<?, ?it/s]"
      ]
     },
     "metadata": {},
     "output_type": "display_data"
    },
    {
     "name": "stdout",
     "output_type": "stream",
     "text": [
      "epoch 197 test acc 0.7494367065203997\n"
     ]
    },
    {
     "data": {
      "application/vnd.jupyter.widget-view+json": {
       "model_id": "827eed03b2594811a3b2e278fb0063df",
       "version_major": 2,
       "version_minor": 0
      },
      "text/plain": [
       "  0%|          | 0/738 [00:00<?, ?it/s]"
      ]
     },
     "metadata": {},
     "output_type": "display_data"
    },
    {
     "name": "stdout",
     "output_type": "stream",
     "text": [
      "epoch 198 batch id 1 loss 1.321164018008858e-05 train acc 1.0\n",
      "epoch 198 batch id 201 loss 2.1982476027915254e-05 train acc 0.9996446339729924\n",
      "epoch 198 batch id 401 loss 1.3734476851823274e-05 train acc 0.9998218738867118\n",
      "epoch 198 batch id 601 loss 1.4224938240658958e-05 train acc 0.9995008319467549\n",
      "epoch 198 train acc 0.9995934959349589\n"
     ]
    },
    {
     "data": {
      "application/vnd.jupyter.widget-view+json": {
       "model_id": "e4bdac3766754e35a7231ef855a96019",
       "version_major": 2,
       "version_minor": 0
      },
      "text/plain": [
       "  0%|          | 0/95 [00:00<?, ?it/s]"
      ]
     },
     "metadata": {},
     "output_type": "display_data"
    },
    {
     "name": "stdout",
     "output_type": "stream",
     "text": [
      "epoch 198 test acc 0.7495870824602493\n"
     ]
    },
    {
     "data": {
      "application/vnd.jupyter.widget-view+json": {
       "model_id": "b497aed922c843b8966ed96eb2b0b56e",
       "version_major": 2,
       "version_minor": 0
      },
      "text/plain": [
       "  0%|          | 0/738 [00:00<?, ?it/s]"
      ]
     },
     "metadata": {},
     "output_type": "display_data"
    },
    {
     "name": "stdout",
     "output_type": "stream",
     "text": [
      "epoch 199 batch id 1 loss 1.4372938494489063e-05 train acc 1.0\n",
      "epoch 199 batch id 201 loss 1.3206562471168581e-05 train acc 0.9999289267945983\n",
      "epoch 199 batch id 401 loss 1.4141456631477922e-05 train acc 0.9999287495546846\n",
      "epoch 199 batch id 601 loss 1.8539923985372297e-05 train acc 0.9994770620394573\n",
      "epoch 199 train acc 0.9995547812620977\n"
     ]
    },
    {
     "data": {
      "application/vnd.jupyter.widget-view+json": {
       "model_id": "3c532dbfa50341d3b4032534159ea886",
       "version_major": 2,
       "version_minor": 0
      },
      "text/plain": [
       "  0%|          | 0/95 [00:00<?, ?it/s]"
      ]
     },
     "metadata": {},
     "output_type": "display_data"
    },
    {
     "name": "stdout",
     "output_type": "stream",
     "text": [
      "epoch 199 test acc 0.74928633058055\n"
     ]
    },
    {
     "data": {
      "application/vnd.jupyter.widget-view+json": {
       "model_id": "5b72ae412cbe4c69b6bfe793219bced7",
       "version_major": 2,
       "version_minor": 0
      },
      "text/plain": [
       "  0%|          | 0/738 [00:00<?, ?it/s]"
      ]
     },
     "metadata": {},
     "output_type": "display_data"
    },
    {
     "name": "stdout",
     "output_type": "stream",
     "text": [
      "epoch 200 batch id 1 loss 1.2360172149783466e-05 train acc 1.0\n",
      "epoch 200 batch id 201 loss 1.868799517978914e-05 train acc 0.9999289267945984\n",
      "epoch 200 batch id 401 loss 1.2801223419955932e-05 train acc 0.9999287495546848\n",
      "epoch 200 batch id 601 loss 1.5199009794741869e-05 train acc 0.9996672212978365\n",
      "epoch 200 train acc 0.999709639953542\n"
     ]
    },
    {
     "data": {
      "application/vnd.jupyter.widget-view+json": {
       "model_id": "7ad27eaf427646febf317139bcced07b",
       "version_major": 2,
       "version_minor": 0
      },
      "text/plain": [
       "  0%|          | 0/95 [00:00<?, ?it/s]"
      ]
     },
     "metadata": {},
     "output_type": "display_data"
    },
    {
     "name": "stdout",
     "output_type": "stream",
     "text": [
      "epoch 200 test acc 0.74928633058055\n"
     ]
    }
   ],
   "source": [
    "for e in range(num_epochs):\n",
    "    train_acc = 0.0\n",
    "    test_acc = 0.0\n",
    "    model.train()\n",
    "    for batch_id, (token_ids, valid_length, segment_ids, label) in tqdm(enumerate(train_dataloader), total=len(train_dataloader)):\n",
    "        optimizer.zero_grad()\n",
    "        token_ids = token_ids.long().to(device)\n",
    "        segment_ids = segment_ids.long().to(device)\n",
    "        valid_length= valid_length\n",
    "        label = label.long().to(device)\n",
    "        out = model(token_ids, valid_length, segment_ids)\n",
    "        loss = loss_fn(out, label)\n",
    "        loss.backward()\n",
    "        torch.nn.utils.clip_grad_norm_(model.parameters(), max_grad_norm)\n",
    "        optimizer.step()\n",
    "        scheduler.step()  # Update learning rate schedule\n",
    "        train_acc += calc_accuracy(out, label)\n",
    "        if batch_id % log_interval == 0:\n",
    "            print(\"epoch {} batch id {} loss {} train acc {}\".format(e+1, batch_id+1, loss.data.cpu().numpy(), train_acc / (batch_id+1)))\n",
    "    print(\"epoch {} train acc {}\".format(e+1, train_acc / (batch_id+1)))\n",
    "    \n",
    "    train_acc_graph = train_acc / (batch_id+1)\n",
    "    train_acc_values.append(train_acc_graph)\n",
    "    \n",
    "    model.eval()\n",
    "    for batch_id, (token_ids, valid_length, segment_ids, label) in tqdm(enumerate(test_dataloader), total=len(test_dataloader)):\n",
    "        token_ids = token_ids.long().to(device)\n",
    "        segment_ids = segment_ids.long().to(device)\n",
    "        valid_length= valid_length\n",
    "        label = label.long().to(device)\n",
    "        out = model(token_ids, valid_length, segment_ids)\n",
    "        test_acc += calc_accuracy(out, label)\n",
    "    print(\"epoch {} test acc {}\".format(e+1, test_acc / (batch_id+1)))\n",
    "    \n",
    "    test_acc_graph = test_acc / (batch_id+1)\n",
    "    test_acc_values.append(test_acc_graph)\n",
    "    "
   ]
  },
  {
   "cell_type": "code",
   "execution_count": 33,
   "id": "d5c3880c",
   "metadata": {},
   "outputs": [],
   "source": [
    "model_save_name = 'Emotion_jupyter(batchsize_70_epoch_200).pt'\n",
    "path = r\"E:\\downloads\\KoBERT-master\\\\\"\n",
    "\n",
    "torch.save(model, path + model_save_name)"
   ]
  },
  {
   "cell_type": "code",
   "execution_count": 34,
   "id": "48c2fae9",
   "metadata": {
    "scrolled": true
   },
   "outputs": [],
   "source": [
    "import matplotlib.font_manager as fm\n",
    "\n",
    "# 설치된 폰트 출력\n",
    "#font_list = [font.name for font in fm.fontManager.ttflist]\n",
    "#font_list"
   ]
  },
  {
   "cell_type": "code",
   "execution_count": 35,
   "id": "b77388fa",
   "metadata": {},
   "outputs": [],
   "source": [
    "plt.rcParams['font.family'] = 'Malgun Gothic'"
   ]
  },
  {
   "cell_type": "code",
   "execution_count": 36,
   "id": "b8c8ba12",
   "metadata": {
    "scrolled": false
   },
   "outputs": [
    {
     "data": {
      "image/png": "[encoded data removed]",
      "text/plain": [
       "<Figure size 640x480 with 1 Axes>"
      ]
     },
     "metadata": {},
     "output_type": "display_data"
    }
   ],
   "source": [
    "epochs = range(1, num_epochs+1)\n",
    "\n",
    "plt.plot(epochs, train_acc_values, label='훈련 정확도')\n",
    "plt.plot(epochs, test_acc_values, label='테스트 정확도')\n",
    "plt.xlabel('학습 횟수')\n",
    "plt.ylabel('정확도')\n",
    "#plt.title('학습 데이터와 테스트 데이터 정확도 비교')\n",
    "plt.legend()\n",
    "plt.show()"
   ]
  },
  {
   "cell_type": "code",
   "execution_count": 37,
   "id": "1c290b09",
   "metadata": {},
   "outputs": [],
   "source": [
    "def predict(predict_sentence):\n",
    "\n",
    "    data = [predict_sentence, '0']\n",
    "    dataset_another = [data]\n",
    "\n",
    "    another_test = BERTDataset(dataset_another, 0, 1, tokenizer, vocab, max_len, True, False)\n",
    "    test_dataloader = torch.utils.data.DataLoader(another_test, batch_size=batch_size, num_workers=0)\n",
    "    \n",
    "    model.eval()\n",
    "\n",
    "    for batch_id, (token_ids, valid_length, segment_ids, label) in enumerate(test_dataloader):\n",
    "        token_ids = token_ids.long().to(device)\n",
    "        segment_ids = segment_ids.long().to(device)\n",
    "\n",
    "        valid_length= valid_length\n",
    "        label = label.long().to(device)\n",
    "\n",
    "        out = model(token_ids, valid_length, segment_ids)\n",
    "\n",
    "\n",
    "        test_eval=[]\n",
    "        for i in out:\n",
    "            logits=i\n",
    "            logits = logits.detach().cpu().numpy()\n",
    "\n",
    "            if np.argmax(logits) == 0:\n",
    "                test_eval.append(\"분노가\")\n",
    "            elif np.argmax(logits) == 1:\n",
    "                test_eval.append(\"기쁨이\")\n",
    "            elif np.argmax(logits) == 2:\n",
    "                test_eval.append(\"불안이\")\n",
    "            elif np.argmax(logits) == 3:\n",
    "                test_eval.append(\"당황이\")\n",
    "            elif np.argmax(logits) == 4:\n",
    "                test_eval.append(\"슬픔이\")\n",
    "            elif np.argmax(logits) == 5:\n",
    "                test_eval.append(\"상처가\")\n",
    "            \n",
    "            \n",
    "\n",
    "        print(\">> 입력하신 내용에서 \" + test_eval[0] + \" 느껴집니다.\")"
   ]
  },
  {
   "cell_type": "code",
   "execution_count": 39,
   "id": "58d3d577",
   "metadata": {
    "scrolled": true
   },
   "outputs": [
    {
     "name": "stdout",
     "output_type": "stream",
     "text": [
      "하고싶은 말을 입력해주세요 : 한 대 쥐어박고 싶다\n",
      ">> 입력하신 내용에서 분노가 느껴집니다.\n",
      "\n",
      "\n",
      "하고싶은 말을 입력해주세요 : 한 대 때리고 싶다\n",
      ">> 입력하신 내용에서 상처가 느껴집니다.\n",
      "\n",
      "\n",
      "하고싶은 말을 입력해주세요 : 0\n"
     ]
    }
   ],
   "source": [
    "#질문 무한반복하기! 0 입력시 종료\n",
    "end = 1\n",
    "while end == 1 :\n",
    "    sentence = input(\"하고싶은 말을 입력해주세요 : \")\n",
    "    if sentence == \"0\" :\n",
    "        break\n",
    "    predict(sentence)\n",
    "    print(\"\\n\")"
   ]
  },
  {
   "cell_type": "code",
   "execution_count": null,
   "id": "f3769b58",
   "metadata": {},
   "outputs": [],
   "source": []
  }
 ],
 "metadata": {
  "kernelspec": {
   "display_name": "kibeom",
   "language": "python",
   "name": "kibeom"
  },
  "language_info": {
   "codemirror_mode": {
    "name": "ipython",
    "version": 3
   },
   "file_extension": ".py",
   "mimetype": "text/x-python",
   "name": "python",
   "nbconvert_exporter": "python",
   "pygments_lexer": "ipython3",
   "version": "3.7.0"
  }
 },
 "nbformat": 4,
 "nbformat_minor": 5
}
